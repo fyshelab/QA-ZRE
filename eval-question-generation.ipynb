{
 "cells": [
  {
   "cell_type": "code",
   "execution_count": 1,
   "metadata": {},
   "outputs": [],
   "source": [
    "import pandas as pd"
   ]
  },
  {
   "cell_type": "code",
   "execution_count": 2,
   "metadata": {},
   "outputs": [],
   "source": [
    "from src.pycocoevalcap.meteor.meteor import Meteor\n",
    "from src.pycocoevalcap.rouge.rouge import Rouge\n",
    "from src.pycocoevalcap.bleu.bleu import Bleu\n",
    "from sentence_transformers import SentenceTransformer, util\n",
    "\n",
    "meteor_obj = Meteor()\n",
    "rouge_obj = Rouge()\n",
    "bleu_obj = Bleu(4)"
   ]
  },
  {
   "cell_type": "code",
   "execution_count": 3,
   "metadata": {},
   "outputs": [],
   "source": [
    "from datasets import load_dataset\n",
    "import random"
   ]
  },
  {
   "cell_type": "code",
   "execution_count": 4,
   "metadata": {},
   "outputs": [],
   "source": [
    "def white_space_fix(text):\n",
    "    return \" \".join(text.split())\n",
    "\n",
    "def q_process_squad_row(row):\n",
    "        context = row[\"context\"]\n",
    "        question = row[\"question\"]\n",
    "        if row[\"answers\"][\"text\"]:\n",
    "            answ = random.choice(row[\"answers\"][\"text\"])\n",
    "            return {\n",
    "                \"article\": white_space_fix(\n",
    "                    \"answer: \" + answ + \" context: \" + context + \" </s>\"\n",
    "                ),\n",
    "                \"answer\": white_space_fix(question + \" </s>\"),\n",
    "            }\n",
    "        else:\n",
    "            return {\n",
    "                \"article\": \"NONE\",\n",
    "                \"answer\": \"NONE\",\n",
    "            }\n",
    "\n",
    "def test_question_prediction(pred_file_name, dataset='squad_v2'):\n",
    "    df = pd.read_csv(pred_file_name).astype(str)\n",
    "    predictions = df[\"predictions_str\"].tolist()\n",
    "    normal_preds = [white_space_fix(pred).removesuffix(' </s>').removeprefix('question: ') for pred in predictions]\n",
    "\n",
    "    if dataset == 'squad_v2':\n",
    "        dev_dataset = load_dataset(\"squad_v2\", split=\"validation\")\n",
    "        dev_dataset = dev_dataset.map(\n",
    "            q_process_squad_row,\n",
    "            remove_columns=[\"id\", \"title\", \"context\", \"question\", \"answers\"],\n",
    "        ).filter(lambda row: row[\"article\"] != \"NONE\")\n",
    "\n",
    "    elif dataset == 'drop':\n",
    "        dev_dataset = load_dataset(\"drop\", split=\"validation\")\n",
    "        dev_dataset = dev_dataset.map(\n",
    "            q_process_drop_row,\n",
    "            remove_columns=[\n",
    "                \"passage\",\n",
    "                \"question\",\n",
    "                \"answers_spans\",\n",
    "            ],\n",
    "        ).filter(lambda row: row[\"article\"] != \"NONE\")\n",
    "\n",
    "    gold_lines = []\n",
    "    for row in dev_dataset:\n",
    "        gold_line = white_space_fix(row[\"answer\"].strip()).removesuffix(' </s>')\n",
    "        gold_lines.append(gold_line)\n",
    "\n",
    "    assert len(gold_lines) == len(normal_preds)\n",
    "\n",
    "    word_target_dict = {}\n",
    "    word_response_dict = {}\n",
    "\n",
    "    for i in range(len(gold_lines)):\n",
    "        word_target_dict[i] = [gold_lines[i]]\n",
    "        word_response_dict[i] = [normal_preds[i]]\n",
    "\n",
    "    bleu_score, bleu_scores = bleu_obj.compute_score(\n",
    "            word_target_dict, word_response_dict)\n",
    "\n",
    "    bleu1_score, _, _, bleu4_score = bleu_score\n",
    "\n",
    "    bleu1_scores, _, _, bleu4_scores = bleu_scores\n",
    "\n",
    "    rouge_score, rouge_scores = rouge_obj.compute_score(\n",
    "            word_target_dict, word_response_dict) \n",
    "\n",
    "    '''\n",
    "    model = SentenceTransformer('stsb-roberta-large')\n",
    "\n",
    "    embedding1 = model.encode(gold_lines, convert_to_tensor=True)\n",
    "    embedding2 = model.encode(normal_preds, convert_to_tensor=True)\n",
    "    cosine_scores = util.pytorch_cos_sim(embedding1, embedding2)\n",
    "    sim = 0.0\n",
    "    for i in range(len(gold_lines)):\n",
    "        sim += cosine_scores[i][i].item()\n",
    "\n",
    "    mean_sim = sim / len(gold_lines)\n",
    "    '''\n",
    "    #return {\"ROUGE-L\": rouge_score, \"BLEU-1\": bleu1_score, \"BLEU-4\": bleu4_score, \"COS\": mean_sim}\n",
    "    return {\"ROUGE-L\": rouge_score, \"BLEU-1\": bleu1_score, \"BLEU-4\": bleu4_score}"
   ]
  },
  {
   "cell_type": "code",
   "execution_count": 5,
   "metadata": {},
   "outputs": [
    {
     "data": {
      "application/vnd.jupyter.widget-view+json": {
       "model_id": "8bd2213410ae44c9b1e6436bc74a6ccc",
       "version_major": 2,
       "version_minor": 0
      },
      "text/plain": [
       "Downloading:   0%|          | 0.00/1.84k [00:00<?, ?B/s]"
      ]
     },
     "metadata": {},
     "output_type": "display_data"
    },
    {
     "data": {
      "application/vnd.jupyter.widget-view+json": {
       "model_id": "15d2079dfb4841d6ae7149c7709af94e",
       "version_major": 2,
       "version_minor": 0
      },
      "text/plain": [
       "Downloading:   0%|          | 0.00/1.02k [00:00<?, ?B/s]"
      ]
     },
     "metadata": {},
     "output_type": "display_data"
    },
    {
     "name": "stdout",
     "output_type": "stream",
     "text": [
      "Downloading and preparing dataset squad_v2/squad_v2 (download: 44.34 MiB, generated: 122.41 MiB, post-processed: Unknown size, total: 166.75 MiB) to /Users/saeed/.cache/huggingface/datasets/squad_v2/squad_v2/2.0.0/de2e67b822b2ef3f4b137148d0758f48075e3892c359c50271ef6c9add7e794a...\n"
     ]
    },
    {
     "data": {
      "application/vnd.jupyter.widget-view+json": {
       "model_id": "37b1f9a247854726a1830b24fc91f55f",
       "version_major": 2,
       "version_minor": 0
      },
      "text/plain": [
       "Downloading:   0%|          | 0.00/9.55M [00:00<?, ?B/s]"
      ]
     },
     "metadata": {},
     "output_type": "display_data"
    },
    {
     "data": {
      "application/vnd.jupyter.widget-view+json": {
       "model_id": "010e667832084d428f201f3724cb4cd7",
       "version_major": 2,
       "version_minor": 0
      },
      "text/plain": [
       "Downloading:   0%|          | 0.00/801k [00:00<?, ?B/s]"
      ]
     },
     "metadata": {},
     "output_type": "display_data"
    },
    {
     "data": {
      "application/vnd.jupyter.widget-view+json": {
       "model_id": "",
       "version_major": 2,
       "version_minor": 0
      },
      "text/plain": [
       "0 examples [00:00, ? examples/s]"
      ]
     },
     "metadata": {},
     "output_type": "display_data"
    },
    {
     "data": {
      "application/vnd.jupyter.widget-view+json": {
       "model_id": "",
       "version_major": 2,
       "version_minor": 0
      },
      "text/plain": [
       "0 examples [00:00, ? examples/s]"
      ]
     },
     "metadata": {},
     "output_type": "display_data"
    },
    {
     "name": "stdout",
     "output_type": "stream",
     "text": [
      "Dataset squad_v2 downloaded and prepared to /Users/saeed/.cache/huggingface/datasets/squad_v2/squad_v2/2.0.0/de2e67b822b2ef3f4b137148d0758f48075e3892c359c50271ef6c9add7e794a. Subsequent calls will reuse this data.\n"
     ]
    },
    {
     "data": {
      "application/vnd.jupyter.widget-view+json": {
       "model_id": "3f5f92189e5e4049aaaa00b6dc461281",
       "version_major": 2,
       "version_minor": 0
      },
      "text/plain": [
       "  0%|          | 0/11873 [00:00<?, ?ex/s]"
      ]
     },
     "metadata": {},
     "output_type": "display_data"
    },
    {
     "data": {
      "application/vnd.jupyter.widget-view+json": {
       "model_id": "2088b7bf5047414e94f6dbad30fd9f89",
       "version_major": 2,
       "version_minor": 0
      },
      "text/plain": [
       "  0%|          | 0/12 [00:00<?, ?ba/s]"
      ]
     },
     "metadata": {},
     "output_type": "display_data"
    },
    {
     "name": "stdout",
     "output_type": "stream",
     "text": [
      "{'testlen': 54538, 'reflen': 61434, 'guess': [54538, 48610, 42682, 36754], 'correct': [23633, 11089, 5976, 3297]}\n",
      "ratio: 0.8877494546993377\n"
     ]
    },
    {
     "data": {
      "text/plain": [
       "{'ROUGE-L': 0.3943826107626814,\n",
       " 'BLEU-1': 0.381861380939652,\n",
       " 'BLEU-4': 0.16541608378455783}"
      ]
     },
     "execution_count": 5,
     "metadata": {},
     "output_type": "execute_result"
    }
   ],
   "source": [
    "main_path = \"/Users/saeed/Desktop/codes/repos/dreamscape-qa/pretrained_models/august_25_runs/re_question_generation_model/\"\n",
    "test_question_prediction(main_path + \"squad_dev.epoch0.csv\")\n"
   ]
  },
  {
   "cell_type": "code",
   "execution_count": 6,
   "metadata": {},
   "outputs": [
    {
     "name": "stderr",
     "output_type": "stream",
     "text": [
      "Reusing dataset squad_v2 (/Users/saeed/.cache/huggingface/datasets/squad_v2/squad_v2/2.0.0/de2e67b822b2ef3f4b137148d0758f48075e3892c359c50271ef6c9add7e794a)\n",
      "Loading cached processed dataset at /Users/saeed/.cache/huggingface/datasets/squad_v2/squad_v2/2.0.0/de2e67b822b2ef3f4b137148d0758f48075e3892c359c50271ef6c9add7e794a/cache-fb385097f0d48656.arrow\n",
      "Loading cached processed dataset at /Users/saeed/.cache/huggingface/datasets/squad_v2/squad_v2/2.0.0/de2e67b822b2ef3f4b137148d0758f48075e3892c359c50271ef6c9add7e794a/cache-b76ee7e16ed15846.arrow\n"
     ]
    },
    {
     "name": "stdout",
     "output_type": "stream",
     "text": [
      "{'testlen': 55177, 'reflen': 61434, 'guess': [55177, 49249, 43321, 37393], 'correct': [24258, 11607, 6387, 3610]}\n",
      "ratio: 0.8981508610866801\n"
     ]
    },
    {
     "data": {
      "text/plain": [
       "{'ROUGE-L': 0.4028527235580784,\n",
       " 'BLEU-1': 0.39250796905803037,\n",
       " 'BLEU-4': 0.17495859144948325}"
      ]
     },
     "execution_count": 6,
     "metadata": {},
     "output_type": "execute_result"
    }
   ],
   "source": [
    "main_path = \"/Users/saeed/Desktop/codes/repos/dreamscape-qa/pretrained_models/august_25_runs/re_question_generation_model/\"\n",
    "test_question_prediction(main_path + \"squad_dev.epoch1.csv\")"
   ]
  },
  {
   "cell_type": "code",
   "execution_count": 7,
   "metadata": {},
   "outputs": [
    {
     "name": "stderr",
     "output_type": "stream",
     "text": [
      "Reusing dataset squad_v2 (/Users/saeed/.cache/huggingface/datasets/squad_v2/squad_v2/2.0.0/de2e67b822b2ef3f4b137148d0758f48075e3892c359c50271ef6c9add7e794a)\n",
      "Loading cached processed dataset at /Users/saeed/.cache/huggingface/datasets/squad_v2/squad_v2/2.0.0/de2e67b822b2ef3f4b137148d0758f48075e3892c359c50271ef6c9add7e794a/cache-fb385097f0d48656.arrow\n",
      "Loading cached processed dataset at /Users/saeed/.cache/huggingface/datasets/squad_v2/squad_v2/2.0.0/de2e67b822b2ef3f4b137148d0758f48075e3892c359c50271ef6c9add7e794a/cache-b76ee7e16ed15846.arrow\n"
     ]
    },
    {
     "name": "stdout",
     "output_type": "stream",
     "text": [
      "{'testlen': 54717, 'reflen': 61434, 'guess': [54717, 48789, 42861, 36933], 'correct': [23821, 11496, 6325, 3575]}\n",
      "ratio: 0.8906631506982959\n"
     ]
    },
    {
     "data": {
      "text/plain": [
       "{'ROUGE-L': 0.39641388970731256,\n",
       " 'BLEU-1': 0.3850562598604746,\n",
       " 'BLEU-4': 0.17304818039824393}"
      ]
     },
     "execution_count": 7,
     "metadata": {},
     "output_type": "execute_result"
    }
   ],
   "source": [
    "main_path = \"/Users/saeed/Desktop/codes/repos/dreamscape-qa/pretrained_models/august_25_runs/re_question_generation_model/\"\n",
    "test_question_prediction(main_path + \"squad_dev.epoch2.csv\")"
   ]
  },
  {
   "cell_type": "code",
   "execution_count": 8,
   "metadata": {},
   "outputs": [
    {
     "name": "stderr",
     "output_type": "stream",
     "text": [
      "Reusing dataset squad_v2 (/Users/saeed/.cache/huggingface/datasets/squad_v2/squad_v2/2.0.0/de2e67b822b2ef3f4b137148d0758f48075e3892c359c50271ef6c9add7e794a)\n",
      "Loading cached processed dataset at /Users/saeed/.cache/huggingface/datasets/squad_v2/squad_v2/2.0.0/de2e67b822b2ef3f4b137148d0758f48075e3892c359c50271ef6c9add7e794a/cache-fb385097f0d48656.arrow\n",
      "Loading cached processed dataset at /Users/saeed/.cache/huggingface/datasets/squad_v2/squad_v2/2.0.0/de2e67b822b2ef3f4b137148d0758f48075e3892c359c50271ef6c9add7e794a/cache-b76ee7e16ed15846.arrow\n"
     ]
    },
    {
     "name": "stdout",
     "output_type": "stream",
     "text": [
      "{'testlen': 56229, 'reflen': 61434, 'guess': [56229, 50301, 44373, 38445], 'correct': [24612, 11831, 6424, 3620]}\n",
      "ratio: 0.915274929192289\n"
     ]
    },
    {
     "data": {
      "text/plain": [
       "{'ROUGE-L': 0.4046596652099174,\n",
       " 'BLEU-1': 0.3990109570545346,\n",
       " 'BLEU-4': 0.1764391602821799}"
      ]
     },
     "execution_count": 8,
     "metadata": {},
     "output_type": "execute_result"
    }
   ],
   "source": [
    "main_path = \"/Users/saeed/Desktop/codes/repos/dreamscape-qa/pretrained_models/august_25_runs/re_question_generation_model/\"\n",
    "test_question_prediction(main_path + \"squad_dev.epoch3.csv\")"
   ]
  },
  {
   "cell_type": "code",
   "execution_count": 9,
   "metadata": {},
   "outputs": [
    {
     "name": "stderr",
     "output_type": "stream",
     "text": [
      "Reusing dataset squad_v2 (/Users/saeed/.cache/huggingface/datasets/squad_v2/squad_v2/2.0.0/de2e67b822b2ef3f4b137148d0758f48075e3892c359c50271ef6c9add7e794a)\n",
      "Loading cached processed dataset at /Users/saeed/.cache/huggingface/datasets/squad_v2/squad_v2/2.0.0/de2e67b822b2ef3f4b137148d0758f48075e3892c359c50271ef6c9add7e794a/cache-fb385097f0d48656.arrow\n",
      "Loading cached processed dataset at /Users/saeed/.cache/huggingface/datasets/squad_v2/squad_v2/2.0.0/de2e67b822b2ef3f4b137148d0758f48075e3892c359c50271ef6c9add7e794a/cache-b76ee7e16ed15846.arrow\n"
     ]
    },
    {
     "name": "stdout",
     "output_type": "stream",
     "text": [
      "{'testlen': 56525, 'reflen': 61434, 'guess': [56525, 50597, 44669, 38742], 'correct': [24274, 11659, 6334, 3584]}\n",
      "ratio: 0.9200931080509015\n"
     ]
    },
    {
     "data": {
      "text/plain": [
       "{'ROUGE-L': 0.39845488368514137,\n",
       " 'BLEU-1': 0.39371667491332285,\n",
       " 'BLEU-4': 0.17402306291567513}"
      ]
     },
     "execution_count": 9,
     "metadata": {},
     "output_type": "execute_result"
    }
   ],
   "source": [
    "main_path = \"/Users/saeed/Desktop/codes/repos/dreamscape-qa/pretrained_models/august_25_runs/re_question_generation_model/\"\n",
    "test_question_prediction(main_path + \"squad_dev.epoch4.csv\")"
   ]
  },
  {
   "cell_type": "code",
   "execution_count": 10,
   "metadata": {},
   "outputs": [
    {
     "name": "stderr",
     "output_type": "stream",
     "text": [
      "Reusing dataset squad_v2 (/Users/saeed/.cache/huggingface/datasets/squad_v2/squad_v2/2.0.0/de2e67b822b2ef3f4b137148d0758f48075e3892c359c50271ef6c9add7e794a)\n",
      "Loading cached processed dataset at /Users/saeed/.cache/huggingface/datasets/squad_v2/squad_v2/2.0.0/de2e67b822b2ef3f4b137148d0758f48075e3892c359c50271ef6c9add7e794a/cache-fb385097f0d48656.arrow\n",
      "Loading cached processed dataset at /Users/saeed/.cache/huggingface/datasets/squad_v2/squad_v2/2.0.0/de2e67b822b2ef3f4b137148d0758f48075e3892c359c50271ef6c9add7e794a/cache-b76ee7e16ed15846.arrow\n"
     ]
    },
    {
     "name": "stdout",
     "output_type": "stream",
     "text": [
      "{'testlen': 55817, 'reflen': 61434, 'guess': [55817, 49889, 43961, 38033], 'correct': [24168, 11729, 6422, 3616]}\n",
      "ratio: 0.9085685451053015\n"
     ]
    },
    {
     "data": {
      "text/plain": [
       "{'ROUGE-L': 0.39808810588953436,\n",
       " 'BLEU-1': 0.3915345714993328,\n",
       " 'BLEU-4': 0.17534611178575313}"
      ]
     },
     "execution_count": 10,
     "metadata": {},
     "output_type": "execute_result"
    }
   ],
   "source": [
    "main_path = \"/Users/saeed/Desktop/codes/repos/dreamscape-qa/pretrained_models/august_25_runs/re_question_generation_model/\"\n",
    "test_question_prediction(main_path + \"squad_dev.epoch5.csv\")"
   ]
  },
  {
   "cell_type": "code",
   "execution_count": 11,
   "metadata": {},
   "outputs": [
    {
     "name": "stderr",
     "output_type": "stream",
     "text": [
      "Reusing dataset squad_v2 (/Users/saeed/.cache/huggingface/datasets/squad_v2/squad_v2/2.0.0/de2e67b822b2ef3f4b137148d0758f48075e3892c359c50271ef6c9add7e794a)\n",
      "Loading cached processed dataset at /Users/saeed/.cache/huggingface/datasets/squad_v2/squad_v2/2.0.0/de2e67b822b2ef3f4b137148d0758f48075e3892c359c50271ef6c9add7e794a/cache-fb385097f0d48656.arrow\n",
      "Loading cached processed dataset at /Users/saeed/.cache/huggingface/datasets/squad_v2/squad_v2/2.0.0/de2e67b822b2ef3f4b137148d0758f48075e3892c359c50271ef6c9add7e794a/cache-b76ee7e16ed15846.arrow\n"
     ]
    },
    {
     "name": "stdout",
     "output_type": "stream",
     "text": [
      "{'testlen': 55336, 'reflen': 61434, 'guess': [55336, 49408, 43480, 37554], 'correct': [25144, 12493, 7058, 4123]}\n",
      "ratio: 0.9007390044600564\n"
     ]
    },
    {
     "data": {
      "text/plain": [
       "{'ROUGE-L': 0.41789665604499515,\n",
       " 'BLEU-1': 0.40697484544194795,\n",
       " 'BLEU-4': 0.19052514121187367}"
      ]
     },
     "execution_count": 11,
     "metadata": {},
     "output_type": "execute_result"
    }
   ],
   "source": [
    "main_path = \"/Users/saeed/Desktop/codes/repos/dreamscape-qa/pretrained_models/august_25_runs/re_question_generation_model/\"\n",
    "test_question_prediction(main_path + \"squad_dev.web.csv\")"
   ]
  }
 ],
 "metadata": {
  "kernelspec": {
   "display_name": "Python 3 (ipykernel)",
   "language": "python",
   "name": "python3"
  },
  "language_info": {
   "codemirror_mode": {
    "name": "ipython",
    "version": 3
   },
   "file_extension": ".py",
   "mimetype": "text/x-python",
   "name": "python",
   "nbconvert_exporter": "python",
   "pygments_lexer": "ipython3",
   "version": "3.9.0"
  }
 },
 "nbformat": 4,
 "nbformat_minor": 4
}

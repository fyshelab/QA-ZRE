{
 "cells": [
  {
   "cell_type": "code",
   "execution_count": 3,
   "metadata": {},
   "outputs": [],
   "source": [
    "import pandas as pd\n",
    "import os\n",
    "import codecs\n",
    "import re\n",
    "import string\n",
    "import sys\n",
    "import numpy as np\n",
    "PUNCTUATION = set(string.punctuation)\n",
    "\n",
    "def eval_zero_re(test_file, answer_file):\n",
    "    precision = read_results(test_file, answer_file)\n",
    "    return precision\n",
    "\n",
    "def read_results(test_set, answer_file):\n",
    "    with codecs.open(test_set, 'r', 'utf-8') as fin:\n",
    "        data = [line.strip().split('\\t') for line in fin]\n",
    "    metadata = [x[:4] for x in data]\n",
    "    gold = [x[4:] for x in data]\n",
    "\n",
    "    new_gold = []\n",
    "    new_metadata = []\n",
    "    for i in range(len(gold)):\n",
    "        if len(gold[i]) > 0:\n",
    "            new_gold.append(simplify(' and '.join(gold[i])))\n",
    "            new_metadata.append(metadata[i])\n",
    "\n",
    "    with codecs.open(answer_file, 'r', 'utf-8') as fin:\n",
    "        answers = [line.strip() for line in fin]\n",
    "\n",
    "    new_answers = [simplify(answer) for answer in answers[1:]]\n",
    "    \n",
    "    correct = 0.0\n",
    "    for i in range(len(new_gold)):\n",
    "        ref = ' '.join(new_gold[i])\n",
    "        candidate = ' '.join(new_answers[i])\n",
    "        if (ref == candidate):\n",
    "            correct += 1\n",
    "    return correct / len(new_gold)\n",
    "\n",
    "def simplify(answer):\n",
    "    return [''.join(c for c in t if c not in PUNCTUATION) for t in answer.strip().lower().split()]"
   ]
  },
  {
   "cell_type": "code",
   "execution_count": 4,
   "metadata": {},
   "outputs": [],
   "source": [
    "def preprocess_the_prediction_files(main_path, list_of_files):\n",
    "    for file in list_of_files:\n",
    "        df = pd.read_csv(os.path.join(main_path, file), sep=',')\n",
    "        df[\"predictions_str\"].to_csv(os.path.join(\"/tmp/\", file), sep='\\t', header=True, index=False)\n",
    "\n",
    "def eval_the_prediction_files(list_of_files, gold_file):\n",
    "    scores = {}\n",
    "    scores_list = []\n",
    "    for file in list_of_files:\n",
    "        score = eval_zero_re(gold_file, os.path.join(\"/tmp/\", file))\n",
    "        scores[score] = file\n",
    "        scores_list.append(score)\n",
    "    \n",
    "    f1s = np.array(scores_list)\n",
    "    max_f1 = max(scores.keys())\n",
    "    return scores[max_f1],  max_f1 * 100, f1s * 100, scores"
   ]
  },
  {
   "cell_type": "code",
   "execution_count": 5,
   "metadata": {},
   "outputs": [
    {
     "name": "stdout",
     "output_type": "stream",
     "text": [
      "question_pretrained_with_best_response_pretrained.dev.predictions.0.step.full.csv\n",
      "46.0\n",
      "[36.         36.66666667 40.66666667 41.66666667 42.66666667 44.33333333\n",
      " 45.         43.66666667 46.        ]\n"
     ]
    }
   ],
   "source": [
    "# 1st epoch pretrained question module on the dev of the fold 1 in the RE dataset.\n",
    "fold_files = [\"question_pretrained_with_best_response_pretrained.dev.predictions.0.step.{}.csv\".format(100 * i) for i in range(1, 9, 1)]\n",
    "fold_files.append(\"question_pretrained_with_best_response_pretrained.dev.predictions.0.step.full.csv\")\n",
    "\n",
    "fold_0_path = \"~/t5-small-exps/naacl-2022/posterier_question_model/\"\n",
    "fold_0_gold_file = \"./zero-shot-extraction/relation_splits/dev.0\"\n",
    "\n",
    "preprocess_the_prediction_files(fold_0_path, fold_files)\n",
    "max_file,  max_f1, f1s, scores = eval_the_prediction_files(fold_files, fold_0_gold_file)\n",
    "print(max_file)\n",
    "print(max_f1)\n",
    "print(f1s)"
   ]
  },
  {
   "cell_type": "code",
   "execution_count": 6,
   "metadata": {},
   "outputs": [
    {
     "name": "stdout",
     "output_type": "stream",
     "text": [
      "question_pretrained_with_best_response_pretrained.dev.predictions.1.step.700.csv\n",
      "47.0\n",
      "[43.66666667 42.66666667 46.         41.33333333 44.33333333 45.\n",
      " 47.         45.66666667 44.66666667]\n"
     ]
    }
   ],
   "source": [
    "# 2nd epoch pretrained question module on the dev of the fold 1 in the RE dataset.\n",
    "fold_files = [\"question_pretrained_with_best_response_pretrained.dev.predictions.1.step.{}.csv\".format(100 * i) for i in range(1, 9, 1)]\n",
    "fold_files.append(\"question_pretrained_with_best_response_pretrained.dev.predictions.1.step.full.csv\")\n",
    "\n",
    "fold_0_path = \"~/t5-small-exps/naacl-2022/posterier_question_model/\"\n",
    "fold_0_gold_file = \"./zero-shot-extraction/relation_splits/dev.0\"\n",
    "\n",
    "preprocess_the_prediction_files(fold_0_path, fold_files)\n",
    "max_file,  max_f1, f1s, scores = eval_the_prediction_files(fold_files, fold_0_gold_file)\n",
    "print(max_file)\n",
    "print(max_f1)\n",
    "print(f1s)"
   ]
  },
  {
   "cell_type": "code",
   "execution_count": 7,
   "metadata": {},
   "outputs": [
    {
     "name": "stdout",
     "output_type": "stream",
     "text": [
      "question_pretrained_with_best_response_pretrained.dev.predictions.2.step.200.csv\n",
      "48.66666666666667\n",
      "[45.         48.66666667 47.66666667 44.66666667 46.66666667 45.33333333\n",
      " 44.66666667 44.         45.66666667]\n"
     ]
    }
   ],
   "source": [
    "# 3rd epoch pretrained question module on the dev of the fold 1 in the RE dataset.\n",
    "fold_files = [\"question_pretrained_with_best_response_pretrained.dev.predictions.2.step.{}.csv\".format(100 * i) for i in range(1, 9, 1)]\n",
    "fold_files.append(\"question_pretrained_with_best_response_pretrained.dev.predictions.2.step.full.csv\")\n",
    "\n",
    "fold_0_path = \"~/t5-small-exps/naacl-2022/posterier_question_model/\"\n",
    "fold_0_gold_file = \"./zero-shot-extraction/relation_splits/dev.0\"\n",
    "\n",
    "preprocess_the_prediction_files(fold_0_path, fold_files)\n",
    "max_file,  max_f1, f1s, scores = eval_the_prediction_files(fold_files, fold_0_gold_file)\n",
    "print(max_file)\n",
    "print(max_f1)\n",
    "print(f1s)"
   ]
  },
  {
   "cell_type": "code",
   "execution_count": 8,
   "metadata": {},
   "outputs": [
    {
     "name": "stdout",
     "output_type": "stream",
     "text": [
      "question_pretrained_with_best_response_pretrained.dev.predictions.3.step.200.csv\n",
      "46.666666666666664\n",
      "[44.66666667 46.66666667 44.33333333 43.66666667 43.66666667 41.66666667\n",
      " 44.         41.33333333 46.        ]\n"
     ]
    }
   ],
   "source": [
    "# 4th epoch pretrained question module on the dev of the fold 1 in the RE dataset.\n",
    "fold_files = [\"question_pretrained_with_best_response_pretrained.dev.predictions.3.step.{}.csv\".format(100 * i) for i in range(1, 9, 1)]\n",
    "fold_files.append(\"question_pretrained_with_best_response_pretrained.dev.predictions.3.step.full.csv\")\n",
    "\n",
    "fold_0_path = \"~/t5-small-exps/naacl-2022/posterier_question_model/\"\n",
    "fold_0_gold_file = \"./zero-shot-extraction/relation_splits/dev.0\"\n",
    "\n",
    "preprocess_the_prediction_files(fold_0_path, fold_files)\n",
    "max_file,  max_f1, f1s, scores = eval_the_prediction_files(fold_files, fold_0_gold_file)\n",
    "print(max_file)\n",
    "print(max_f1)\n",
    "print(f1s)"
   ]
  },
  {
   "cell_type": "code",
   "execution_count": 9,
   "metadata": {},
   "outputs": [
    {
     "name": "stdout",
     "output_type": "stream",
     "text": [
      "gold_fold_1.test.predictions.base.csv\n",
      "56.98333333333333\n",
      "[56.98333333]\n",
      "gold_fold_2.test.predictions.base.csv\n",
      "47.66666666666667\n",
      "[47.66666667]\n",
      "gold_fold_3.test.predictions.base.csv\n",
      "52.86666666666666\n",
      "[52.86666667]\n"
     ]
    }
   ],
   "source": [
    "# Gold Base Predictions\n",
    "fold_files = [\"gold_fold_1.test.predictions.base.csv\"]\n",
    "fold_0_path = \"~/t5-small-exps/naacl-2022/gold_fold_1/\"\n",
    "fold_0_gold_file = \"./zero-shot-extraction/relation_splits/test.0\"\n",
    "\n",
    "preprocess_the_prediction_files(fold_0_path, fold_files)\n",
    "max_file,  max_f1, f1s, scores = eval_the_prediction_files(fold_files, fold_0_gold_file)\n",
    "print(max_file)\n",
    "print(max_f1)\n",
    "print(f1s)\n",
    "\n",
    "# Gold Base Predictions\n",
    "fold_files = [\"gold_fold_2.test.predictions.base.csv\"]\n",
    "fold_0_path = \"~/t5-small-exps/naacl-2022/gold_fold_2/\"\n",
    "fold_0_gold_file = \"./zero-shot-extraction/relation_splits/test.1\"\n",
    "\n",
    "preprocess_the_prediction_files(fold_0_path, fold_files)\n",
    "max_file,  max_f1, f1s, scores = eval_the_prediction_files(fold_files, fold_0_gold_file)\n",
    "print(max_file)\n",
    "print(max_f1)\n",
    "print(f1s)\n",
    "\n",
    "\n",
    "# Gold Base Predictions\n",
    "fold_files = [\"gold_fold_3.test.predictions.base.csv\"]\n",
    "fold_0_path = \"~/t5-small-exps/naacl-2022/gold_fold_3/\"\n",
    "fold_0_gold_file = \"./zero-shot-extraction/relation_splits/test.2\"\n",
    "\n",
    "preprocess_the_prediction_files(fold_0_path, fold_files)\n",
    "max_file,  max_f1, f1s, scores = eval_the_prediction_files(fold_files, fold_0_gold_file)\n",
    "print(max_file)\n",
    "print(max_f1)\n",
    "print(f1s)"
   ]
  },
  {
   "cell_type": "code",
   "execution_count": 10,
   "metadata": {},
   "outputs": [
    {
     "name": "stdout",
     "output_type": "stream",
     "text": [
      "fold_2.question_pretrained_with_best_response_pretrained.dev.predictions.0.step.800.csv\n",
      "46.666666666666664\n",
      "[37.33333333 36.33333333 40.33333333 42.66666667 46.33333333 46.\n",
      " 45.33333333 46.66666667 44.33333333]\n"
     ]
    }
   ],
   "source": [
    "# 1st epoch pretrained question module on the dev of the fold 2 in the RE dataset.\n",
    "fold_files = [\"fold_2.question_pretrained_with_best_response_pretrained.dev.predictions.0.step.{}.csv\".format(100 * i) for i in range(1, 9, 1)]\n",
    "fold_files.append(\"fold_2.question_pretrained_with_best_response_pretrained.dev.predictions.0.step.full.csv\")\n",
    "\n",
    "fold_0_path = \"~/t5-small-exps/naacl-2022/posterier_question_model/\"\n",
    "fold_0_gold_file = \"./zero-shot-extraction/relation_splits/dev.1\"\n",
    "\n",
    "preprocess_the_prediction_files(fold_0_path, fold_files)\n",
    "max_file,  max_f1, f1s, scores = eval_the_prediction_files(fold_files, fold_0_gold_file)\n",
    "print(max_file)\n",
    "print(max_f1)\n",
    "print(f1s)"
   ]
  },
  {
   "cell_type": "code",
   "execution_count": 11,
   "metadata": {},
   "outputs": [
    {
     "name": "stdout",
     "output_type": "stream",
     "text": [
      "fold_2.question_pretrained_with_best_response_pretrained.dev.predictions.1.step.600.csv\n",
      "44.333333333333336\n",
      "[42.33333333 39.66666667 43.33333333 43.66666667 41.33333333 44.33333333\n",
      " 39.66666667 41.66666667 43.66666667]\n"
     ]
    }
   ],
   "source": [
    "# 2nd epoch pretrained question module on the dev of the fold 2 in the RE dataset.\n",
    "fold_files = [\"fold_2.question_pretrained_with_best_response_pretrained.dev.predictions.1.step.{}.csv\".format(100 * i) for i in range(1, 9, 1)]\n",
    "fold_files.append(\"fold_2.question_pretrained_with_best_response_pretrained.dev.predictions.1.step.full.csv\")\n",
    "\n",
    "fold_0_path = \"~/t5-small-exps/naacl-2022/posterier_question_model/\"\n",
    "fold_0_gold_file = \"./zero-shot-extraction/relation_splits/dev.1\"\n",
    "\n",
    "preprocess_the_prediction_files(fold_0_path, fold_files)\n",
    "max_file,  max_f1, f1s, scores = eval_the_prediction_files(fold_files, fold_0_gold_file)\n",
    "print(max_file)\n",
    "print(max_f1)\n",
    "print(f1s)"
   ]
  },
  {
   "cell_type": "code",
   "execution_count": 12,
   "metadata": {},
   "outputs": [
    {
     "name": "stdout",
     "output_type": "stream",
     "text": [
      "fold_2.question_pretrained_with_best_response_pretrained.dev.predictions.2.step.400.csv\n",
      "45.33333333333333\n",
      "[44.33333333 40.         42.66666667 45.33333333 42.         41.33333333\n",
      " 42.         43.33333333 41.33333333]\n"
     ]
    }
   ],
   "source": [
    "# 3rd epoch pretrained question module on the dev of the fold 2 in the RE dataset.\n",
    "fold_files = [\"fold_2.question_pretrained_with_best_response_pretrained.dev.predictions.2.step.{}.csv\".format(100 * i) for i in range(1, 9, 1)]\n",
    "fold_files.append(\"fold_2.question_pretrained_with_best_response_pretrained.dev.predictions.2.step.full.csv\")\n",
    "\n",
    "fold_0_path = \"~/t5-small-exps/naacl-2022/posterier_question_model/\"\n",
    "fold_0_gold_file = \"./zero-shot-extraction/relation_splits/dev.1\"\n",
    "\n",
    "preprocess_the_prediction_files(fold_0_path, fold_files)\n",
    "max_file,  max_f1, f1s, scores = eval_the_prediction_files(fold_files, fold_0_gold_file)\n",
    "print(max_file)\n",
    "print(max_f1)\n",
    "print(f1s)"
   ]
  },
  {
   "cell_type": "code",
   "execution_count": 13,
   "metadata": {},
   "outputs": [
    {
     "name": "stdout",
     "output_type": "stream",
     "text": [
      "fold_2.question_pretrained_with_best_response_pretrained.dev.predictions.3.step.200.csv\n",
      "43.333333333333336\n",
      "[40.66666667 43.33333333 42.         38.66666667 42.         39.\n",
      " 39.66666667 41.33333333 42.66666667]\n"
     ]
    }
   ],
   "source": [
    "# 4th epoch pretrained question module on the dev of the fold 1 in the RE dataset.\n",
    "fold_files = [\"fold_2.question_pretrained_with_best_response_pretrained.dev.predictions.3.step.{}.csv\".format(100 * i) for i in range(1, 9, 1)]\n",
    "fold_files.append(\"fold_2.question_pretrained_with_best_response_pretrained.dev.predictions.3.step.full.csv\")\n",
    "\n",
    "fold_0_path = \"~/t5-small-exps/naacl-2022/posterier_question_model/\"\n",
    "fold_0_gold_file = \"./zero-shot-extraction/relation_splits/dev.1\"\n",
    "\n",
    "preprocess_the_prediction_files(fold_0_path, fold_files)\n",
    "max_file,  max_f1, f1s, scores = eval_the_prediction_files(fold_files, fold_0_gold_file)\n",
    "print(max_file)\n",
    "print(max_f1)\n",
    "print(f1s)"
   ]
  },
  {
   "cell_type": "code",
   "execution_count": 14,
   "metadata": {},
   "outputs": [
    {
     "name": "stdout",
     "output_type": "stream",
     "text": [
      "concat_fold_1.test.predictions.base.csv\n",
      "3.966666666666667\n",
      "[3.96666667]\n",
      "concat_fold_2.test.predictions.base.csv\n",
      "3.4000000000000004\n",
      "[3.4]\n",
      "concat_fold_3.test.predictions.base.csv\n",
      "2.216666666666667\n",
      "[2.21666667]\n"
     ]
    }
   ],
   "source": [
    "# Concat Base Predictions\n",
    "fold_files = [\"concat_fold_1.test.predictions.base.csv\"]\n",
    "fold_0_path = \"~/t5-small-exps/naacl-2022/concat_fold_1/\"\n",
    "fold_0_gold_file = \"./zero-shot-extraction/relation_splits/test.0\"\n",
    "\n",
    "preprocess_the_prediction_files(fold_0_path, fold_files)\n",
    "max_file,  max_f1, f1s, scores = eval_the_prediction_files(fold_files, fold_0_gold_file)\n",
    "print(max_file)\n",
    "print(max_f1)\n",
    "print(f1s)\n",
    "\n",
    "# Gold Base Predictions\n",
    "fold_files = [\"concat_fold_2.test.predictions.base.csv\"]\n",
    "fold_0_path = \"~/t5-small-exps/naacl-2022/concat_fold_2/\"\n",
    "fold_0_gold_file = \"./zero-shot-extraction/relation_splits/test.1\"\n",
    "\n",
    "preprocess_the_prediction_files(fold_0_path, fold_files)\n",
    "max_file,  max_f1, f1s, scores = eval_the_prediction_files(fold_files, fold_0_gold_file)\n",
    "print(max_file)\n",
    "print(max_f1)\n",
    "print(f1s)\n",
    "\n",
    "\n",
    "# Gold Base Predictions\n",
    "fold_files = [\"concat_fold_3.test.predictions.base.csv\"]\n",
    "fold_0_path = \"~/t5-small-exps/naacl-2022/concat_fold_3/\"\n",
    "fold_0_gold_file = \"./zero-shot-extraction/relation_splits/test.2\"\n",
    "\n",
    "preprocess_the_prediction_files(fold_0_path, fold_files)\n",
    "max_file,  max_f1, f1s, scores = eval_the_prediction_files(fold_files, fold_0_gold_file)\n",
    "print(max_file)\n",
    "print(max_f1)\n",
    "print(f1s)"
   ]
  },
  {
   "cell_type": "code",
   "execution_count": 22,
   "metadata": {},
   "outputs": [
    {
     "name": "stdout",
     "output_type": "stream",
     "text": [
      "fold_3.question_pretrained_with_best_response_pretrained.dev.predictions.0.step.400.csv\n",
      "39.0\n",
      "[24.66666667 31.         34.         39.         36.33333333 38.\n",
      " 38.66666667 34.33333333 33.66666667]\n"
     ]
    }
   ],
   "source": [
    "# 1st epoch pretrained question module on the dev of the fold 3 in the RE dataset.\n",
    "fold_files = [\"fold_3.question_pretrained_with_best_response_pretrained.dev.predictions.0.step.{}.csv\".format(100 * i) for i in range(1, 9, 1)]\n",
    "fold_files.append(\"fold_3.question_pretrained_with_best_response_pretrained.dev.predictions.0.step.full.csv\")\n",
    "\n",
    "fold_0_path = \"~/t5-small-exps/naacl-2022/posterier_question_model/\"\n",
    "fold_0_gold_file = \"./zero-shot-extraction/relation_splits/dev.2\"\n",
    "\n",
    "preprocess_the_prediction_files(fold_0_path, fold_files)\n",
    "max_file,  max_f1, f1s, scores = eval_the_prediction_files(fold_files, fold_0_gold_file)\n",
    "print(max_file)\n",
    "print(max_f1)\n",
    "print(f1s)"
   ]
  },
  {
   "cell_type": "code",
   "execution_count": 21,
   "metadata": {},
   "outputs": [
    {
     "name": "stdout",
     "output_type": "stream",
     "text": [
      "fold_3.question_pretrained_with_best_response_pretrained.dev.predictions.1.step.300.csv\n",
      "39.0\n",
      "[37.66666667 33.66666667 39.         35.33333333 35.         37.\n",
      " 34.66666667 35.33333333 35.66666667]\n"
     ]
    }
   ],
   "source": [
    "# 2nd epoch pretrained question module on the dev of the fold 3 in the RE dataset.\n",
    "fold_files = [\"fold_3.question_pretrained_with_best_response_pretrained.dev.predictions.1.step.{}.csv\".format(100 * i) for i in range(1, 9, 1)]\n",
    "fold_files.append(\"fold_3.question_pretrained_with_best_response_pretrained.dev.predictions.1.step.full.csv\")\n",
    "\n",
    "fold_0_path = \"~/t5-small-exps/naacl-2022/posterier_question_model/\"\n",
    "fold_0_gold_file = \"./zero-shot-extraction/relation_splits/dev.2\"\n",
    "\n",
    "preprocess_the_prediction_files(fold_0_path, fold_files)\n",
    "max_file,  max_f1, f1s, scores = eval_the_prediction_files(fold_files, fold_0_gold_file)\n",
    "print(max_file)\n",
    "print(max_f1)\n",
    "print(f1s)"
   ]
  },
  {
   "cell_type": "code",
   "execution_count": 20,
   "metadata": {},
   "outputs": [
    {
     "name": "stdout",
     "output_type": "stream",
     "text": [
      "fold_3.question_pretrained_with_best_response_pretrained.dev.predictions.2.step.200.csv\n",
      "37.666666666666664\n",
      "[37.66666667 37.66666667 31.         30.66666667 32.66666667 37.33333333\n",
      " 31.         29.         31.33333333]\n"
     ]
    }
   ],
   "source": [
    "# 3rd epoch pretrained question module on the dev of the fold 2 in the RE dataset.\n",
    "fold_files = [\"fold_3.question_pretrained_with_best_response_pretrained.dev.predictions.2.step.{}.csv\".format(100 * i) for i in range(1, 9, 1)]\n",
    "fold_files.append(\"fold_3.question_pretrained_with_best_response_pretrained.dev.predictions.2.step.full.csv\")\n",
    "\n",
    "fold_0_path = \"~/t5-small-exps/naacl-2022/posterier_question_model/\"\n",
    "fold_0_gold_file = \"./zero-shot-extraction/relation_splits/dev.2\"\n",
    "\n",
    "preprocess_the_prediction_files(fold_0_path, fold_files)\n",
    "max_file,  max_f1, f1s, scores = eval_the_prediction_files(fold_files, fold_0_gold_file)\n",
    "print(max_file)\n",
    "print(max_f1)\n",
    "print(f1s)"
   ]
  },
  {
   "cell_type": "code",
   "execution_count": 19,
   "metadata": {},
   "outputs": [
    {
     "name": "stdout",
     "output_type": "stream",
     "text": [
      "fold_3.question_pretrained_with_best_response_pretrained.dev.predictions.3.step.400.csv\n",
      "34.333333333333336\n",
      "[30.         33.66666667 34.33333333 34.33333333 30.66666667 29.66666667\n",
      " 33.66666667 27.66666667 32.66666667]\n"
     ]
    }
   ],
   "source": [
    "# 4th epoch pretrained question module on the dev of the fold 3 in the RE dataset.\n",
    "fold_files = [\"fold_3.question_pretrained_with_best_response_pretrained.dev.predictions.3.step.{}.csv\".format(100 * i) for i in range(1, 9, 1)]\n",
    "fold_files.append(\"fold_3.question_pretrained_with_best_response_pretrained.dev.predictions.3.step.full.csv\")\n",
    "\n",
    "fold_0_path = \"~/t5-small-exps/naacl-2022/posterier_question_model/\"\n",
    "fold_0_gold_file = \"./zero-shot-extraction/relation_splits/dev.2\"\n",
    "\n",
    "preprocess_the_prediction_files(fold_0_path, fold_files)\n",
    "max_file,  max_f1, f1s, scores = eval_the_prediction_files(fold_files, fold_0_gold_file)\n",
    "print(max_file)\n",
    "print(max_f1)\n",
    "print(f1s)"
   ]
  },
  {
   "cell_type": "code",
   "execution_count": 25,
   "metadata": {},
   "outputs": [
    {
     "name": "stdout",
     "output_type": "stream",
     "text": [
      "base_base.test.predictions.epoch1.csv\n",
      "44.7\n",
      "[44.7]\n",
      "base_base.test.predictions.epoch2.csv\n",
      "36.68333333333334\n",
      "[36.68333333]\n",
      "base_base.test.predictions.epoch3.csv\n",
      "41.5\n",
      "[41.5]\n"
     ]
    }
   ],
   "source": [
    "# Base-Base Predictions\n",
    "fold_files = [\"base_base.test.predictions.epoch1.csv\"]\n",
    "fold_0_path = \"~/t5-small-exps/naacl-2022/posterier_question_model/\"\n",
    "fold_0_gold_file = \"./zero-shot-extraction/relation_splits/test.0\"\n",
    "\n",
    "preprocess_the_prediction_files(fold_0_path, fold_files)\n",
    "max_file,  max_f1, f1s, scores = eval_the_prediction_files(fold_files, fold_0_gold_file)\n",
    "print(max_file)\n",
    "print(max_f1)\n",
    "print(f1s)\n",
    "\n",
    "\n",
    "fold_files = [\"base_base.test.predictions.epoch2.csv\"]\n",
    "fold_0_path = \"~/t5-small-exps/naacl-2022/posterier_question_model/\"\n",
    "fold_0_gold_file = \"./zero-shot-extraction/relation_splits/test.1\"\n",
    "\n",
    "preprocess_the_prediction_files(fold_0_path, fold_files)\n",
    "max_file,  max_f1, f1s, scores = eval_the_prediction_files(fold_files, fold_0_gold_file)\n",
    "print(max_file)\n",
    "print(max_f1)\n",
    "print(f1s)\n",
    "\n",
    "fold_files = [\"base_base.test.predictions.epoch3.csv\"]\n",
    "fold_0_path = \"~/t5-small-exps/naacl-2022/posterier_question_model/\"\n",
    "fold_0_gold_file = \"./zero-shot-extraction/relation_splits/test.2\"\n",
    "\n",
    "preprocess_the_prediction_files(fold_0_path, fold_files)\n",
    "max_file,  max_f1, f1s, scores = eval_the_prediction_files(fold_files, fold_0_gold_file)\n",
    "print(max_file)\n",
    "print(max_f1)\n",
    "print(f1s)"
   ]
  },
  {
   "cell_type": "code",
   "execution_count": null,
   "metadata": {},
   "outputs": [],
   "source": []
  }
 ],
 "metadata": {
  "kernelspec": {
   "display_name": "Python 3",
   "language": "python",
   "name": "python3"
  },
  "language_info": {
   "codemirror_mode": {
    "name": "ipython",
    "version": 3
   },
   "file_extension": ".py",
   "mimetype": "text/x-python",
   "name": "python",
   "nbconvert_exporter": "python",
   "pygments_lexer": "ipython3",
   "version": "3.6.9"
  }
 },
 "nbformat": 4,
 "nbformat_minor": 4
}

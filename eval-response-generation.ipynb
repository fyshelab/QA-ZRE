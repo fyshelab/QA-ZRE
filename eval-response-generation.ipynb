{
 "cells": [
  {
   "cell_type": "code",
   "execution_count": 2,
   "id": "db51d1c7",
   "metadata": {},
   "outputs": [],
   "source": [
    "import pandas as pd\n",
    "from src.pycocoevalcap.meteor.meteor import Meteor\n",
    "from src.pycocoevalcap.rouge.rouge import Rouge\n",
    "from src.pycocoevalcap.bleu.bleu import Bleu\n",
    "from sentence_transformers import SentenceTransformer, util\n",
    "\n",
    "meteor_obj = Meteor()\n",
    "rouge_obj = Rouge()\n",
    "bleu_obj = Bleu(4)\n",
    "from datasets import load_dataset\n",
    "import random\n",
    "\n",
    "def white_space_fix(text):\n",
    "    return \" \".join(text.split())\n",
    "\n",
    "\n",
    "def process_narrative_row(row):\n",
    "    \"\"\"Helper functions for NarrativeQA Dataset.\"\"\"\n",
    "    answer = random.choice(row[\"answers\"])[\"text\"]\n",
    "\n",
    "    question = row[\"question\"][\"text\"]\n",
    "\n",
    "    article = row[\"document\"][\"summary\"][\"text\"]\n",
    "\n",
    "    context = \"question: \" + question + \" context: \" + article + \" </s>\"\n",
    "\n",
    "    return {\n",
    "        \"article\": white_space_fix(context),\n",
    "        \"answer\": white_space_fix(answer + \" </s>\"),\n",
    "    }\n",
    "\n",
    "\n",
    "def test_response_prediction(pred_file_name, dataset='squad_v2'):\n",
    "    df = pd.read_csv(pred_file_name).astype(str)\n",
    "    predictions = df[\"predictions_str\"].tolist()\n",
    "    normal_preds = [white_space_fix(pred).removesuffix(' </s>') for pred in predictions]\n",
    "\n",
    "    if dataset == 'narrativeqa':\n",
    "        dev_dataset = load_dataset(\"narrativeqa\", split=\"validation\")\n",
    "        dev_dataset = dev_dataset.map(\n",
    "            process_narrative_row,\n",
    "            remove_columns=[\"document\", \"answers\", \"question\"],\n",
    "        )\n",
    "    \n",
    "    gold_lines = []\n",
    "    for row in dev_dataset:\n",
    "        gold_line = white_space_fix(row[\"answer\"].strip()).removesuffix(' </s>')\n",
    "        gold_lines.append(gold_line)\n",
    "\n",
    "    assert len(gold_lines) == len(normal_preds)\n",
    "\n",
    "    word_target_dict = {}\n",
    "    word_response_dict = {}\n",
    "\n",
    "    for i in range(len(gold_lines)):\n",
    "        word_target_dict[i] = [gold_lines[i]]\n",
    "        word_response_dict[i] = [normal_preds[i]]\n",
    "\n",
    "    bleu_score, bleu_scores = bleu_obj.compute_score(\n",
    "            word_target_dict, word_response_dict)\n",
    "\n",
    "    bleu1_score, _, _, bleu4_score = bleu_score\n",
    "\n",
    "    bleu1_scores, _, _, bleu4_scores = bleu_scores\n",
    "\n",
    "    rouge_score, rouge_scores = rouge_obj.compute_score(\n",
    "            word_target_dict, word_response_dict) \n",
    "\n",
    "    '''\n",
    "    model = SentenceTransformer('stsb-roberta-large')\n",
    "\n",
    "    embedding1 = model.encode(gold_lines, convert_to_tensor=True)\n",
    "    embedding2 = model.encode(normal_preds, convert_to_tensor=True)\n",
    "    cosine_scores = util.pytorch_cos_sim(embedding1, embedding2)\n",
    "    sim = 0.0\n",
    "    for i in range(len(gold_lines)):\n",
    "        sim += cosine_scores[i][i].item()\n",
    "\n",
    "    mean_sim = sim / len(gold_lines)\n",
    "    '''\n",
    "    #return {\"ROUGE-L\": rouge_score, \"BLEU-1\": bleu1_score, \"BLEU-4\": bleu4_score, \"COS\": mean_sim}\n",
    "    return {\"ROUGE-L\": rouge_score, \"BLEU-1\": bleu1_score, \"BLEU-4\": bleu4_score}"
   ]
  },
  {
   "cell_type": "code",
   "execution_count": null,
   "id": "2dd16975",
   "metadata": {},
   "outputs": [
    {
     "name": "stderr",
     "output_type": "stream",
     "text": [
      "Using custom data configuration default\n"
     ]
    },
    {
     "name": "stdout",
     "output_type": "stream",
     "text": [
      "Downloading and preparing dataset narrative_qa/default (download: 183.61 MiB, generated: 15.21 GiB, post-processed: Unknown size, total: 15.38 GiB) to /Users/saeed/.cache/huggingface/datasets/narrative_qa/default/0.0.0/daef7ccc51ec258bef464658d11751bb20f033da9b4c219fd84563b3a4af0422...\n"
     ]
    },
    {
     "data": {
      "application/vnd.jupyter.widget-view+json": {
       "model_id": "dceafe8057f943dc976f5f3c7448d914",
       "version_major": 2,
       "version_minor": 0
      },
      "text/plain": [
       "0 examples [00:00, ? examples/s]"
      ]
     },
     "metadata": {},
     "output_type": "display_data"
    }
   ],
   "source": [
    "main_path = \"/Users/saeed/Desktop/codes/repos/dreamscape-qa/experiment-data/response_narrative_qa_data/\"\n",
    "test_response_prediction(main_path + \"narrativeqa_dev.epoch0.csv\", dataset='narrativeqa')"
   ]
  },
  {
   "cell_type": "code",
   "execution_count": null,
   "id": "94510d22",
   "metadata": {},
   "outputs": [],
   "source": []
  }
 ],
 "metadata": {
  "kernelspec": {
   "display_name": "Python 3 (ipykernel)",
   "language": "python",
   "name": "python3"
  },
  "language_info": {
   "codemirror_mode": {
    "name": "ipython",
    "version": 3
   },
   "file_extension": ".py",
   "mimetype": "text/x-python",
   "name": "python",
   "nbconvert_exporter": "python",
   "pygments_lexer": "ipython3",
   "version": "3.9.0"
  }
 },
 "nbformat": 4,
 "nbformat_minor": 5
}

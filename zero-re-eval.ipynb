{
 "cells": [
  {
   "cell_type": "code",
   "execution_count": 641,
   "metadata": {},
   "outputs": [],
   "source": [
    "import pandas as pd\n",
    "\n",
    "# from http://nlp.cs.washington.edu/zeroshot/evaluate.py\n",
    "import os\n",
    "import codecs\n",
    "import re\n",
    "from itertools import groupby\n",
    "import string\n",
    "import sys\n",
    "import numpy as np\n",
    "\n",
    "PUNCTUATION = set(string.punctuation)\n",
    "\n",
    "def eval_zero_re(test_file, answer_file):\n",
    "    q_aprf = read_results(test_file, answer_file)\n",
    "    return pretify(q_aprf)\n",
    "\n",
    "def read_results(test_set, answer_file):\n",
    "    with codecs.open(test_set, 'r', 'utf-8') as fin:\n",
    "        data = [line.strip().split('\\t') for line in fin]\n",
    "    metadata = [x[:4] for x in data]\n",
    "    gold = [set(x[4:]) for x in data]\n",
    "    \n",
    "    #new_gold = []\n",
    "    #for g in gold:\n",
    "    #    if g:\n",
    "    #        new_gold.append(g)\n",
    "\n",
    "    #print(gold)\n",
    "    \n",
    "    new_gold = gold  # for including unknowns.\n",
    "\n",
    "    with codecs.open(answer_file, 'r', 'utf-8') as fin:\n",
    "        answers = [line.strip() for line in fin]\n",
    "\n",
    "    new_answers = []\n",
    "    # ignore the header in answers\n",
    "    for answer in answers[1:]:\n",
    "        if answer != 'no_answer':\n",
    "            new_answers.append(answer)\n",
    "        else:\n",
    "            new_answers.append(\"\")\n",
    "\n",
    "    #print(new_answers)\n",
    "    telemetry = []\n",
    "    for m, g, a in zip(metadata, new_gold, new_answers):\n",
    "        stats = score(g, a)\n",
    "        telemetry.append([m[0], m[1], str(len(g) > 0), stats])\n",
    "    return aprf(telemetry)\n",
    "\n",
    "\n",
    "def parse_no_answers(results):\n",
    "    p_answer = [a for i, a in sorted([(int(i), a) for i, a in results[0]['scores'].items()])]\n",
    "    p_no_answer = [a for i, a in sorted([(int(i), a) for i, a in results[0]['na'].items()])]\n",
    "\n",
    "    import numpy as np\n",
    "    return [answer > no_answer for answer, no_answer in zip(p_answer, p_no_answer)]\n",
    "\n",
    "\n",
    "def gb(collection, keyfunc):\n",
    "    return [(k, list(g)) for k, g in groupby(sorted(collection, key=keyfunc), keyfunc)]\n",
    "\n",
    "\n",
    "def aprf(g):\n",
    "    tp, tn, sys_pos, real_pos = sum(map(lambda x: x[-1], g))\n",
    "    total = len(g)\n",
    "    # a = float(tp + tn) / total\n",
    "    # nr = tn / float(total - real_pos)\n",
    "    # npr = tn / float(total - sys_pos)\n",
    "    if tp == 0:\n",
    "        p = r = f = 0.0\n",
    "    else:\n",
    "        p = tp / float(sys_pos)\n",
    "        r = tp / float(real_pos)\n",
    "        f = 2 * p * r / (p + r)\n",
    "    # return np.array((a, p, r, f, npr, nr))\n",
    "    return np.array((p, r, f))\n",
    "\n",
    "\n",
    "def score(gold, answer):\n",
    "    if len(gold) > 0:\n",
    "        gold = set.union(*[simplify(g) for g in gold])\n",
    "    answer = simplify(answer)\n",
    "    result = np.zeros(4)\n",
    "    if answer == gold:\n",
    "        if len(gold) > 0:\n",
    "            result[0] += 1\n",
    "        else:\n",
    "            result[1] += 1\n",
    "    if len(answer) > 0:\n",
    "        result[2] += 1\n",
    "    if len(gold) > 0:\n",
    "        result[3] += 1\n",
    "    return result\n",
    "\n",
    "\n",
    "def simplify(answer):\n",
    "    return set(''.join(c for c in t if c not in PUNCTUATION) for t in answer.strip().lower().split()) - {'the', 'a', 'an', 'and', ''}\n",
    "\n",
    "\n",
    "def pretify(results):\n",
    "    return ' \\t '.join([': '.join((k, v)) for k, v in zip(['Precision', 'Recall', 'F1'], map(lambda r: '{0:.2f}%'.format(r*100), results))])"
   ]
  },
  {
   "cell_type": "code",
   "execution_count": 644,
   "metadata": {},
   "outputs": [],
   "source": [
    "def preprocess_the_prediction_files(main_path, list_of_files):\n",
    "    for file in list_of_files:\n",
    "        df = pd.read_csv(os.path.join(main_path, file), sep=',')\n",
    "        df[\"predictions_str\"].to_csv(os.path.join(\"/tmp/\", file), sep='\\t', header=True, index=False)\n",
    "\n",
    "def eval_the_prediction_files(list_of_files, gold_file):\n",
    "    scores = []\n",
    "    for file in list_of_files:\n",
    "        precision = eval_zero_re(gold_file, os.path.join(\"/tmp/\", file))\n",
    "        scores.append(precision)\n",
    "    return scores\n",
    "        "
   ]
  },
  {
   "cell_type": "code",
   "execution_count": 166,
   "metadata": {},
   "outputs": [],
   "source": [
    "# GOLD Predictions\n",
    "fold_files = [\"dev.predictions.0.step.{}.csv\".format(100 * i) for i in range(0, 28, 1)]\n",
    "\n",
    "fold_0_path = \"~/august_25_runs/re_gold_qa_models_with_unknowns/fold_0/dev_predictions/\"\n",
    "fold_0_gold_file = \"./zero-shot-extraction/relation_splits/dev.0\"\n",
    "\n",
    "fold_1_path = \"~/august_25_runs/re_gold_qa_models_with_unknowns/fold_1/dev_predictions/\"\n",
    "fold_1_gold_file = \"./zero-shot-extraction/relation_splits/dev.1\"\n",
    "\n",
    "fold_2_path = \"~/august_25_runs/re_gold_qa_models_with_unknowns/fold_2/dev_predictions/\"\n",
    "fold_2_gold_file = \"./zero-shot-extraction/relation_splits/dev.2\"\n",
    "\n",
    "#preprocess_the_prediction_files(fold_0_path, fold_files)\n",
    "#fold_0_gold_scores = np.array(eval_the_prediction_files(fold_files, fold_0_gold_file))\n",
    "\n",
    "\n",
    "preprocess_the_prediction_files(fold_1_path, fold_files)\n",
    "fold_1_gold_scores = np.array(eval_the_prediction_files(fold_files, fold_1_gold_file))\n",
    "\n",
    "#preprocess_the_prediction_files(fold_2_path, fold_files)\n",
    "#fold_2_gold_scores = np.array(eval_the_prediction_files(fold_files, fold_2_gold_file))\n",
    "\n",
    "gold_scores = (fold_1_gold_scores) / 1.0"
   ]
  },
  {
   "cell_type": "code",
   "execution_count": 167,
   "metadata": {},
   "outputs": [
    {
     "name": "stdout",
     "output_type": "stream",
     "text": [
      "[31.25 66.67 67.   66.67 67.   67.   66.33 65.   65.   66.67 65.67]\n"
     ]
    }
   ],
   "source": [
    "# Concat Predictions\n",
    "\n",
    "fold_files = [\"dev.predictions.0.step.{}.csv\".format(100 * i) for i in range(0, 24, 1)]\n",
    "fold_0_path = \"~/august_25_runs/re_concat_qa_models_with_unknowns/fold_0/dev_predictions/\"\n",
    "fold_0_gold_file = \"./zero-shot-extraction/relation_splits/dev.0\"\n",
    "\n",
    "fold_1_path = \"~/august_25_runs/re_concat_qa_models_with_unknowns/fold_1/dev_predictions/\"\n",
    "fold_1_gold_file = \"./zero-shot-extraction/relation_splits/dev.1\"\n",
    "\n",
    "fold_2_path = \"~/august_25_runs/re_concat_qa_models_with_unknowns/fold_2/dev_predictions/\"\n",
    "fold_2_gold_file = \"./zero-shot-extraction/relation_splits/dev.2\"\n",
    "\n",
    "#preprocess_the_prediction_files(fold_0_path, fold_files)\n",
    "#fold_0_concat_scores = np.array(eval_the_prediction_files(fold_files, fold_0_gold_file))\n",
    "\n",
    "preprocess_the_prediction_files(fold_1_path, fold_files)\n",
    "fold_1_concat_scores = np.array(eval_the_prediction_files(fold_files, fold_1_gold_file))\n",
    "\n",
    "#preprocess_the_prediction_files(fold_2_path, fold_files)\n",
    "#fold_2_concat_scores = np.array(eval_the_prediction_files(fold_files, fold_2_gold_file))\n",
    "\n",
    "concat_scores = (fold_1_concat_scores) / 1.0\n",
    "print(concat_scores)"
   ]
  },
  {
   "cell_type": "code",
   "execution_count": 168,
   "metadata": {},
   "outputs": [
    {
     "name": "stdout",
     "output_type": "stream",
     "text": [
      "[51.8  57.33 57.   57.67 59.67 59.67 60.33 58.   59.33 59.   61.  ]\n"
     ]
    }
   ],
   "source": [
    "# switch_1 Predictions\n",
    "\n",
    "fold_files = [\"dev.fold_1.step_{}.csv\".format(100 * i) for i in range(0, 11, 1)]\n",
    "fold_1_path = \"~/august_25_runs/re_mml_pgg_top_p_iterative_models/switch_1/fold_1/dev_predictions/\"\n",
    "fold_1_gold_file = \"./zero-shot-extraction/relation_splits/dev.1\"\n",
    "\n",
    "preprocess_the_prediction_files(fold_1_path, fold_files)\n",
    "fold_1_switch_1_scores = np.array(eval_the_prediction_files(fold_files, fold_1_gold_file))\n",
    "\n",
    "switch_1_scores = (fold_1_switch_1_scores) / 1.0\n",
    "print(switch_1_scores)"
   ]
  },
  {
   "cell_type": "code",
   "execution_count": 159,
   "metadata": {},
   "outputs": [
    {
     "name": "stdout",
     "output_type": "stream",
     "text": [
      "[51.8  44.67 44.67 47.   41.   35.33 37.67 35.67 39.33 36.   39.67]\n"
     ]
    }
   ],
   "source": [
    "# switch_10 Predictions\n",
    "\n",
    "fold_files = [\"dev.fold_1.step_{}.csv\".format(100 * i) for i in range(0, 11, 1)]\n",
    "fold_1_path = \"~/august_25_runs/re_mml_pgg_top_p_iterative_models/switch_10/fold_1/dev_predictions/\"\n",
    "fold_1_gold_file = \"./zero-shot-extraction/relation_splits/dev.1\"\n",
    "\n",
    "preprocess_the_prediction_files(fold_1_path, fold_files)\n",
    "fold_1_switch_10_scores = np.array(eval_the_prediction_files(fold_files, fold_1_gold_file))\n",
    "\n",
    "switch_10_scores = (fold_1_switch_10_scores) / 1.0\n",
    "print(switch_10_scores)"
   ]
  },
  {
   "cell_type": "code",
   "execution_count": 160,
   "metadata": {},
   "outputs": [
    {
     "name": "stdout",
     "output_type": "stream",
     "text": [
      "[51.8  48.   53.33 56.33 59.   19.73 31.33 26.67 24.67 25.33 37.33]\n"
     ]
    }
   ],
   "source": [
    "# switch_50 Predictions\n",
    "\n",
    "fold_files = [\"dev.fold_1.step_{}.csv\".format(100 * i) for i in range(0, 11, 1)]\n",
    "fold_1_path = \"~/august_25_runs/re_mml_pgg_top_p_iterative_models/switch_50/fold_1/dev_predictions/\"\n",
    "fold_1_gold_file = \"./zero-shot-extraction/relation_splits/dev.1\"\n",
    "\n",
    "preprocess_the_prediction_files(fold_1_path, fold_files)\n",
    "fold_1_switch_50_scores = np.array(eval_the_prediction_files(fold_files, fold_1_gold_file))\n",
    "\n",
    "switch_50_scores = (fold_1_switch_50_scores) / 1.0\n",
    "print(switch_50_scores)"
   ]
  },
  {
   "cell_type": "code",
   "execution_count": 175,
   "metadata": {},
   "outputs": [
    {
     "name": "stdout",
     "output_type": "stream",
     "text": [
      "[51.8  42.33 54.52 54.67 51.67 54.   50.67 51.67 59.33 59.   61.  ]\n"
     ]
    }
   ],
   "source": [
    "# sim_update Predictions\n",
    "\n",
    "fold_files = [\"dev.fold_1.step_{}.csv\".format(100 * i) for i in range(0, 11, 1)]\n",
    "fold_1_path = \"~/august_25_runs/re_mml_pgg_top_p_iterative_models/sim_update/fold_1/dev_predictions/\"\n",
    "fold_1_gold_file = \"./zero-shot-extraction/relation_splits/dev.1\"\n",
    "\n",
    "preprocess_the_prediction_files(fold_1_path, fold_files)\n",
    "fold_1_sim_update_scores = np.array(eval_the_prediction_files(fold_files, fold_1_gold_file))\n",
    "\n",
    "sim_update_scores = (fold_1_sim_update_scores) / 1.0\n",
    "print(sim_update_scores)"
   ]
  },
  {
   "cell_type": "code",
   "execution_count": 180,
   "metadata": {},
   "outputs": [
    {
     "name": "stdout",
     "output_type": "stream",
     "text": [
      "[51.8  48.67 49.16 48.49 51.67 44.67 48.83 46.33 48.67 44.33 43.  ]\n"
     ]
    }
   ],
   "source": [
    "# disjoint_update Predictions\n",
    "\n",
    "fold_files = [\"dev.fold_1.step_{}.csv\".format(100 * i) for i in range(0, 11, 1)]\n",
    "fold_1_path = \"~/august_25_runs/re_mml_pgg_top_p_iterative_models/disjoint_sim_update/fold_1/dev_predictions/\"\n",
    "fold_1_gold_file = \"./zero-shot-extraction/relation_splits/dev.1\"\n",
    "\n",
    "preprocess_the_prediction_files(fold_1_path, fold_files)\n",
    "fold_1_disjoint_sim_update_scores = np.array(eval_the_prediction_files(fold_files, fold_1_gold_file))\n",
    "\n",
    "disjoint_sim_update_scores = (fold_1_disjoint_sim_update_scores) / 1.0\n",
    "print(disjoint_sim_update_scores)"
   ]
  },
  {
   "cell_type": "code",
   "execution_count": 187,
   "metadata": {},
   "outputs": [
    {
     "name": "stdout",
     "output_type": "stream",
     "text": [
      "[51.8  48.67 48.33 39.   58.33 58.   51.   56.33 54.33 53.67]\n"
     ]
    }
   ],
   "source": [
    "# sim_1_new_update Predictions\n",
    "\n",
    "fold_files = [\"dev.fold_1.step_{}.csv\".format(100 * i) for i in range(0, 10, 1)]\n",
    "fold_1_path = \"~/august_25_runs/re_mml_pgg_top_p_iterative_models/new_switch_1_run/fold_1/dev_predictions/\"\n",
    "fold_1_gold_file = \"./zero-shot-extraction/relation_splits/dev.1\"\n",
    "\n",
    "preprocess_the_prediction_files(fold_1_path, fold_files)\n",
    "fold_1_new_switch_1_scores = np.array(eval_the_prediction_files(fold_files, fold_1_gold_file))\n",
    "\n",
    "new_switch_1_scores = (fold_1_new_switch_1_scores) / 1.0\n",
    "print(new_switch_1_scores)"
   ]
  },
  {
   "cell_type": "code",
   "execution_count": 189,
   "metadata": {
    "scrolled": true
   },
   "outputs": [
    {
     "ename": "ValueError",
     "evalue": "x and y must have same first dimension, but have shapes (9,) and (11,)",
     "output_type": "error",
     "traceback": [
      "\u001b[0;31m---------------------------------------------------------------------------\u001b[0m",
      "\u001b[0;31mValueError\u001b[0m                                Traceback (most recent call last)",
      "\u001b[0;32m<ipython-input-189-eb04c43fc9d5>\u001b[0m in \u001b[0;36m<module>\u001b[0;34m\u001b[0m\n\u001b[1;32m      4\u001b[0m \u001b[0mx\u001b[0m \u001b[0;34m=\u001b[0m \u001b[0;34m[\u001b[0m\u001b[0mi\u001b[0m \u001b[0;34m*\u001b[0m \u001b[0;36m100\u001b[0m \u001b[0;32mfor\u001b[0m \u001b[0mi\u001b[0m \u001b[0;32min\u001b[0m \u001b[0mrange\u001b[0m\u001b[0;34m(\u001b[0m\u001b[0;36m0\u001b[0m\u001b[0;34m,\u001b[0m \u001b[0;36m9\u001b[0m\u001b[0;34m,\u001b[0m \u001b[0;36m1\u001b[0m\u001b[0;34m)\u001b[0m\u001b[0;34m]\u001b[0m\u001b[0;34m\u001b[0m\u001b[0;34m\u001b[0m\u001b[0m\n\u001b[1;32m      5\u001b[0m \u001b[0;34m\u001b[0m\u001b[0m\n\u001b[0;32m----> 6\u001b[0;31m \u001b[0mplt\u001b[0m\u001b[0;34m.\u001b[0m\u001b[0mplot\u001b[0m\u001b[0;34m(\u001b[0m\u001b[0mx\u001b[0m\u001b[0;34m,\u001b[0m \u001b[0mgold_scores\u001b[0m\u001b[0;34m,\u001b[0m \u001b[0;34m'x--'\u001b[0m\u001b[0;34m,\u001b[0m \u001b[0mx\u001b[0m\u001b[0;34m,\u001b[0m \u001b[0mconcat_scores\u001b[0m\u001b[0;34m,\u001b[0m \u001b[0;34m'o--'\u001b[0m\u001b[0;34m,\u001b[0m \u001b[0mx\u001b[0m\u001b[0;34m,\u001b[0m \u001b[0mswitch_1_scores\u001b[0m\u001b[0;34m,\u001b[0m \u001b[0;34m'^--'\u001b[0m\u001b[0;34m,\u001b[0m \u001b[0mx\u001b[0m\u001b[0;34m,\u001b[0m \u001b[0mdisjoint_sim_update_scores\u001b[0m\u001b[0;34m,\u001b[0m \u001b[0;34m'*--'\u001b[0m\u001b[0;34m,\u001b[0m \u001b[0mx\u001b[0m\u001b[0;34m,\u001b[0m \u001b[0mnew_switch_1_scores\u001b[0m\u001b[0;34m,\u001b[0m \u001b[0;34m'p--'\u001b[0m\u001b[0;34m)\u001b[0m\u001b[0;34m\u001b[0m\u001b[0;34m\u001b[0m\u001b[0m\n\u001b[0m\u001b[1;32m      7\u001b[0m \u001b[0mplt\u001b[0m\u001b[0;34m.\u001b[0m\u001b[0mshow\u001b[0m\u001b[0;34m(\u001b[0m\u001b[0;34m)\u001b[0m\u001b[0;34m\u001b[0m\u001b[0;34m\u001b[0m\u001b[0m\n",
      "\u001b[0;32m/remote/cirrus-home/snajafi/codes/dreamscape-qa/env/lib/python3.6/site-packages/matplotlib/pyplot.py\u001b[0m in \u001b[0;36mplot\u001b[0;34m(scalex, scaley, data, *args, **kwargs)\u001b[0m\n\u001b[1;32m   2840\u001b[0m     return gca().plot(\n\u001b[1;32m   2841\u001b[0m         \u001b[0;34m*\u001b[0m\u001b[0margs\u001b[0m\u001b[0;34m,\u001b[0m \u001b[0mscalex\u001b[0m\u001b[0;34m=\u001b[0m\u001b[0mscalex\u001b[0m\u001b[0;34m,\u001b[0m \u001b[0mscaley\u001b[0m\u001b[0;34m=\u001b[0m\u001b[0mscaley\u001b[0m\u001b[0;34m,\u001b[0m\u001b[0;34m\u001b[0m\u001b[0;34m\u001b[0m\u001b[0m\n\u001b[0;32m-> 2842\u001b[0;31m         **({\"data\": data} if data is not None else {}), **kwargs)\n\u001b[0m\u001b[1;32m   2843\u001b[0m \u001b[0;34m\u001b[0m\u001b[0m\n\u001b[1;32m   2844\u001b[0m \u001b[0;34m\u001b[0m\u001b[0m\n",
      "\u001b[0;32m/remote/cirrus-home/snajafi/codes/dreamscape-qa/env/lib/python3.6/site-packages/matplotlib/axes/_axes.py\u001b[0m in \u001b[0;36mplot\u001b[0;34m(self, scalex, scaley, data, *args, **kwargs)\u001b[0m\n\u001b[1;32m   1741\u001b[0m         \"\"\"\n\u001b[1;32m   1742\u001b[0m         \u001b[0mkwargs\u001b[0m \u001b[0;34m=\u001b[0m \u001b[0mcbook\u001b[0m\u001b[0;34m.\u001b[0m\u001b[0mnormalize_kwargs\u001b[0m\u001b[0;34m(\u001b[0m\u001b[0mkwargs\u001b[0m\u001b[0;34m,\u001b[0m \u001b[0mmlines\u001b[0m\u001b[0;34m.\u001b[0m\u001b[0mLine2D\u001b[0m\u001b[0;34m)\u001b[0m\u001b[0;34m\u001b[0m\u001b[0;34m\u001b[0m\u001b[0m\n\u001b[0;32m-> 1743\u001b[0;31m         \u001b[0mlines\u001b[0m \u001b[0;34m=\u001b[0m \u001b[0;34m[\u001b[0m\u001b[0;34m*\u001b[0m\u001b[0mself\u001b[0m\u001b[0;34m.\u001b[0m\u001b[0m_get_lines\u001b[0m\u001b[0;34m(\u001b[0m\u001b[0;34m*\u001b[0m\u001b[0margs\u001b[0m\u001b[0;34m,\u001b[0m \u001b[0mdata\u001b[0m\u001b[0;34m=\u001b[0m\u001b[0mdata\u001b[0m\u001b[0;34m,\u001b[0m \u001b[0;34m**\u001b[0m\u001b[0mkwargs\u001b[0m\u001b[0;34m)\u001b[0m\u001b[0;34m]\u001b[0m\u001b[0;34m\u001b[0m\u001b[0;34m\u001b[0m\u001b[0m\n\u001b[0m\u001b[1;32m   1744\u001b[0m         \u001b[0;32mfor\u001b[0m \u001b[0mline\u001b[0m \u001b[0;32min\u001b[0m \u001b[0mlines\u001b[0m\u001b[0;34m:\u001b[0m\u001b[0;34m\u001b[0m\u001b[0;34m\u001b[0m\u001b[0m\n\u001b[1;32m   1745\u001b[0m             \u001b[0mself\u001b[0m\u001b[0;34m.\u001b[0m\u001b[0madd_line\u001b[0m\u001b[0;34m(\u001b[0m\u001b[0mline\u001b[0m\u001b[0;34m)\u001b[0m\u001b[0;34m\u001b[0m\u001b[0;34m\u001b[0m\u001b[0m\n",
      "\u001b[0;32m/remote/cirrus-home/snajafi/codes/dreamscape-qa/env/lib/python3.6/site-packages/matplotlib/axes/_base.py\u001b[0m in \u001b[0;36m__call__\u001b[0;34m(self, data, *args, **kwargs)\u001b[0m\n\u001b[1;32m    271\u001b[0m                 \u001b[0mthis\u001b[0m \u001b[0;34m+=\u001b[0m \u001b[0margs\u001b[0m\u001b[0;34m[\u001b[0m\u001b[0;36m0\u001b[0m\u001b[0;34m]\u001b[0m\u001b[0;34m,\u001b[0m\u001b[0;34m\u001b[0m\u001b[0;34m\u001b[0m\u001b[0m\n\u001b[1;32m    272\u001b[0m                 \u001b[0margs\u001b[0m \u001b[0;34m=\u001b[0m \u001b[0margs\u001b[0m\u001b[0;34m[\u001b[0m\u001b[0;36m1\u001b[0m\u001b[0;34m:\u001b[0m\u001b[0;34m]\u001b[0m\u001b[0;34m\u001b[0m\u001b[0;34m\u001b[0m\u001b[0m\n\u001b[0;32m--> 273\u001b[0;31m             \u001b[0;32myield\u001b[0m \u001b[0;32mfrom\u001b[0m \u001b[0mself\u001b[0m\u001b[0;34m.\u001b[0m\u001b[0m_plot_args\u001b[0m\u001b[0;34m(\u001b[0m\u001b[0mthis\u001b[0m\u001b[0;34m,\u001b[0m \u001b[0mkwargs\u001b[0m\u001b[0;34m)\u001b[0m\u001b[0;34m\u001b[0m\u001b[0;34m\u001b[0m\u001b[0m\n\u001b[0m\u001b[1;32m    274\u001b[0m \u001b[0;34m\u001b[0m\u001b[0m\n\u001b[1;32m    275\u001b[0m     \u001b[0;32mdef\u001b[0m \u001b[0mget_next_color\u001b[0m\u001b[0;34m(\u001b[0m\u001b[0mself\u001b[0m\u001b[0;34m)\u001b[0m\u001b[0;34m:\u001b[0m\u001b[0;34m\u001b[0m\u001b[0;34m\u001b[0m\u001b[0m\n",
      "\u001b[0;32m/remote/cirrus-home/snajafi/codes/dreamscape-qa/env/lib/python3.6/site-packages/matplotlib/axes/_base.py\u001b[0m in \u001b[0;36m_plot_args\u001b[0;34m(self, tup, kwargs)\u001b[0m\n\u001b[1;32m    397\u001b[0m \u001b[0;34m\u001b[0m\u001b[0m\n\u001b[1;32m    398\u001b[0m         \u001b[0;32mif\u001b[0m \u001b[0mx\u001b[0m\u001b[0;34m.\u001b[0m\u001b[0mshape\u001b[0m\u001b[0;34m[\u001b[0m\u001b[0;36m0\u001b[0m\u001b[0;34m]\u001b[0m \u001b[0;34m!=\u001b[0m \u001b[0my\u001b[0m\u001b[0;34m.\u001b[0m\u001b[0mshape\u001b[0m\u001b[0;34m[\u001b[0m\u001b[0;36m0\u001b[0m\u001b[0;34m]\u001b[0m\u001b[0;34m:\u001b[0m\u001b[0;34m\u001b[0m\u001b[0;34m\u001b[0m\u001b[0m\n\u001b[0;32m--> 399\u001b[0;31m             raise ValueError(f\"x and y must have same first dimension, but \"\n\u001b[0m\u001b[1;32m    400\u001b[0m                              f\"have shapes {x.shape} and {y.shape}\")\n\u001b[1;32m    401\u001b[0m         \u001b[0;32mif\u001b[0m \u001b[0mx\u001b[0m\u001b[0;34m.\u001b[0m\u001b[0mndim\u001b[0m \u001b[0;34m>\u001b[0m \u001b[0;36m2\u001b[0m \u001b[0;32mor\u001b[0m \u001b[0my\u001b[0m\u001b[0;34m.\u001b[0m\u001b[0mndim\u001b[0m \u001b[0;34m>\u001b[0m \u001b[0;36m2\u001b[0m\u001b[0;34m:\u001b[0m\u001b[0;34m\u001b[0m\u001b[0;34m\u001b[0m\u001b[0m\n",
      "\u001b[0;31mValueError\u001b[0m: x and y must have same first dimension, but have shapes (9,) and (11,)"
     ]
    },
    {
     "data": {
      "image/png": "[encoded data removed]",
      "text/plain": [
       "<Figure size 432x288 with 1 Axes>"
      ]
     },
     "metadata": {
      "needs_background": "light"
     },
     "output_type": "display_data"
    }
   ],
   "source": [
    "import numpy as np\n",
    "import matplotlib.pyplot as plt\n",
    "\n",
    "x = [i * 100 for i in range(0, 9, 1)]\n",
    "\n",
    "plt.plot(x, gold_scores, 'x--', x, concat_scores, 'o--', x, switch_1_scores, '^--', x, disjoint_sim_update_scores, '*--', x, new_switch_1_scores, 'p--')\n",
    "plt.show()"
   ]
  },
  {
   "cell_type": "code",
   "execution_count": 628,
   "metadata": {},
   "outputs": [
    {
     "name": "stdout",
     "output_type": "stream",
     "text": [
      "[66.33 68.   68.   65.67 64.67 67.67 65.   67.33 62.   65.   65.33 67.\n",
      " 70.   65.67 67.   64.67 66.67 63.   66.33]\n"
     ]
    }
   ],
   "source": [
    "# GOLD Predictions\n",
    "fold_files = [\"dev.predictions.0.step.{}.csv\".format(100 * i) for i in range(1, 20, 1)]\n",
    "\n",
    "fold_1_path = \"/remote/cirrus-home/snajafi/september_9/re_gold_qa_models_without_unknowns/fold_1/\"\n",
    "fold_1_gold_file = \"./zero-shot-extraction/relation_splits/dev.1\"\n",
    "\n",
    "preprocess_the_prediction_files(fold_1_path, fold_files)\n",
    "fold_1_gold_scores = np.array(eval_the_prediction_files(fold_files, fold_1_gold_file))\n",
    "\n",
    "gold_scores = (fold_1_gold_scores) / 1.0\n",
    "print(gold_scores)\n",
    "#print(gold_scores[12], 13)"
   ]
  },
  {
   "cell_type": "code",
   "execution_count": 527,
   "metadata": {},
   "outputs": [
    {
     "name": "stdout",
     "output_type": "stream",
     "text": [
      "[60.33 62.   64.   58.67 62.67 64.67 64.67 63.67 58.33 60.   61.33 61.33\n",
      " 62.   59.33 61.67 59.  ]\n"
     ]
    }
   ],
   "source": [
    "# Concat Predictions\n",
    "fold_files = [\"dev.predictions.0.step.{}.csv\".format(100 * i) for i in range(1, 17, 1)]\n",
    "\n",
    "fold_1_path = \"/remote/cirrus-home/snajafi/september_9/re_concat_qa_models_without_unknowns/fold_1/\"\n",
    "fold_1_gold_file = \"./zero-shot-extraction/relation_splits/dev.1\"\n",
    "\n",
    "preprocess_the_prediction_files(fold_1_path, fold_files)\n",
    "fold_1_concat_scores = np.array(eval_the_prediction_files(fold_files, fold_1_gold_file))\n",
    "\n",
    "concat_scores = (fold_1_concat_scores) / 1.0\n",
    "print(concat_scores)"
   ]
  },
  {
   "cell_type": "code",
   "execution_count": 413,
   "metadata": {},
   "outputs": [
    {
     "name": "stdout",
     "output_type": "stream",
     "text": [
      "[58.19 53.67 57.   53.67 55.67 50.67 55.   55.   54.   55.33 57.67 55.\n",
      " 57.33 56.   58.33 58.   57.   56.33 56.33 57.33 54.33 54.33 57.67 57.67\n",
      " 61.33 59.   56.   55.67 56.  ]\n",
      "59.0\n"
     ]
    }
   ],
   "source": [
    "# top p sample using MML-MML using the beam search on the dev set.\n",
    "fold_files = [\"dev.length_penalty_10.0.fold_1.step_{}.csv\".format(100 * i) for i in range(1, 30, 1)]\n",
    "\n",
    "fold_1_path = \"/home/snajafi/september_9/mml_mml_top_p/fold_1/\"\n",
    "fold_1_gold_file = \"./zero-shot-extraction/relation_splits/dev.1\"\n",
    "\n",
    "preprocess_the_prediction_files(fold_1_path, fold_files)\n",
    "fold_1_mml_mml_scores = np.array(eval_the_prediction_files(fold_files, fold_1_gold_file))\n",
    "\n",
    "mml_mml_scores = (fold_1_mml_mml_scores) / 1.0\n",
    "print(mml_mml_scores)\n",
    "print(mml_mml_scores[25])"
   ]
  },
  {
   "cell_type": "code",
   "execution_count": 412,
   "metadata": {},
   "outputs": [
    {
     "name": "stdout",
     "output_type": "stream",
     "text": [
      "[50.   46.82 34.   45.   48.33 51.   48.33 47.33 50.33 48.   56.   51.33\n",
      " 56.33 47.   46.33 51.67 53.33 55.33 53.67 57.   55.   46.67 52.33 51.\n",
      " 55.33 52.   50.   52.33 53.  ]\n"
     ]
    }
   ],
   "source": [
    "# top sample training using MML-PGG having the beam search with the length penalty 10.0 on the dev set and for question generation.\n",
    "fold_files = [\"dev.length_penalty_10.0.fold_1.step_{}.csv\".format(100 * i) for i in range(1, 30, 1)]\n",
    "\n",
    "fold_1_path = \"/home/snajafi/september_9/mml_pgg_top_p/fold_1/\"\n",
    "fold_1_gold_file = \"./zero-shot-extraction/relation_splits/dev.1\"\n",
    "\n",
    "preprocess_the_prediction_files(fold_1_path, fold_files)\n",
    "fold_1_length_10_mml_pgg_scores = np.array(eval_the_prediction_files(fold_files, fold_1_gold_file))\n",
    "\n",
    "length_10_mml_pgg_scores = (fold_1_length_10_mml_pgg_scores) / 1.0\n",
    "print(length_10_mml_pgg_scores)"
   ]
  },
  {
   "cell_type": "code",
   "execution_count": 403,
   "metadata": {},
   "outputs": [
    {
     "name": "stdout",
     "output_type": "stream",
     "text": [
      "[58.   58.67 65.67 57.   23.   24.33 26.33 22.67 25.67 55.33 57.67 55.\n",
      " 57.33 56.   58.33 58.   57.   56.33 56.33 57.33 54.33 54.33 57.67 57.67]\n"
     ]
    }
   ],
   "source": [
    "# top sample training using MML-PGG having the beam search with the length penalty 10.0 on the dev set and for question generation.\n",
    "fold_files = [\"dev.full_beam_length_penalty_10.0.fold_1.step_{}.csv\".format(100 * i) for i in range(1, 25, 1)]\n",
    "\n",
    "fold_1_path = \"/home/snajafi/september_9/mml_mml_top_p_with_blue/fold_1/\"\n",
    "fold_1_gold_file = \"./zero-shot-extraction/relation_splits/dev.1\"\n",
    "\n",
    "preprocess_the_prediction_files(fold_1_path, fold_files)\n",
    "fold_1_length_10_mml_mml_with_blue_scores = np.array(eval_the_prediction_files(fold_files, fold_1_gold_file))\n",
    "\n",
    "length_10_mml_mml_with_blue_scores = (fold_1_length_10_mml_mml_with_blue_scores) / 1.0\n",
    "print(length_10_mml_mml_with_blue_scores)"
   ]
  },
  {
   "cell_type": "code",
   "execution_count": 411,
   "metadata": {},
   "outputs": [
    {
     "name": "stdout",
     "output_type": "stream",
     "text": [
      "[52.51 59.33 59.   54.67 58.   60.   62.   54.33 56.   55.   57.67 55.67\n",
      " 56.67 52.33 55.33 54.33 57.33 52.67 53.33 54.   56.33 56.   53.   56.\n",
      " 56.   55.   57.19 52.67 55.33]\n"
     ]
    }
   ],
   "source": [
    "# top sample training using MML-PGG having the beam search with the length penalty 10.0 on the dev set and for question generation.\n",
    "fold_files = [\"dev.length_penalty_10.0.fold_1.step_{}.csv\".format(100 * i) for i in range(1, 30, 1)]\n",
    "\n",
    "fold_1_path = \"/home/snajafi/september_9/mml_mml_top_p_answer_only/fold_1/\"\n",
    "fold_1_gold_file = \"./zero-shot-extraction/relation_splits/dev.1\"\n",
    "\n",
    "preprocess_the_prediction_files(fold_1_path, fold_files)\n",
    "fold_1_length_10_mml_mml_answer_only_scores = np.array(eval_the_prediction_files(fold_files, fold_1_gold_file))\n",
    "\n",
    "length_10_mml_mml_answer_only_scores = (fold_1_length_10_mml_mml_answer_only_scores) / 1.0\n",
    "print(length_10_mml_mml_answer_only_scores)"
   ]
  },
  {
   "cell_type": "code",
   "execution_count": 519,
   "metadata": {},
   "outputs": [
    {
     "name": "stdout",
     "output_type": "stream",
     "text": [
      "[56.23 60.33 63.   64.   62.67 63.67 58.33 59.67 60.67 58.67 61.33 64.33\n",
      " 64.67 60.67]\n"
     ]
    }
   ],
   "source": [
    "# top sample training using MML-PGG having the beam search with the length penalty 10.0 on the dev set and for question generation.\n",
    "fold_files = [\"dev.length_penalty_10.0.fold_1.step_{}.csv\".format(100 * i) for i in range(1, 15, 1)]\n",
    "\n",
    "fold_1_path = \"/home/snajafi/september_9/mml_mml_top_p_v2/fold_1/\"\n",
    "fold_1_gold_file = \"./zero-shot-extraction/relation_splits/dev.1\"\n",
    "\n",
    "preprocess_the_prediction_files(fold_1_path, fold_files)\n",
    "fold_1_length_10_mml_mml_v2_scores = np.array(eval_the_prediction_files(fold_files, fold_1_gold_file))\n",
    "\n",
    "length_10_mml_mml_v2_scores = (fold_1_length_10_mml_mml_v2_scores) / 1.0\n",
    "print(length_10_mml_mml_v2_scores)"
   ]
  },
  {
   "cell_type": "code",
   "execution_count": 460,
   "metadata": {},
   "outputs": [
    {
     "name": "stdout",
     "output_type": "stream",
     "text": [
      "[54.36 58.67 61.28 63.33 59.67 61.   60.67 64.67 59.33 64.   65.   61.33\n",
      " 61.33 60.33 58.33 57.   60.   53.   53.67 58.   59.67 55.67 51.33 53.33\n",
      " 53.  ]\n"
     ]
    }
   ],
   "source": [
    "# top sample training using MML-PGG having the beam search with the length penalty 10.0 on the dev set and for question generation.\n",
    "fold_files = [\"dev.length_penalty_10.0.fold_1.step_{}.csv\".format(100 * i) for i in range(1, 26, 1)]\n",
    "\n",
    "fold_1_path = \"/home/snajafi/september_9/mml_mml_top_p_v2_dropped/fold_1/\"\n",
    "fold_1_gold_file = \"./zero-shot-extraction/relation_splits/dev.1\"\n",
    "\n",
    "preprocess_the_prediction_files(fold_1_path, fold_files)\n",
    "fold_1_length_10_mml_mml_v2_dropped_scores = np.array(eval_the_prediction_files(fold_files, fold_1_gold_file))\n",
    "\n",
    "length_10_mml_mml_v2_dropped_scores = (fold_1_length_10_mml_mml_v2_dropped_scores) / 1.0\n",
    "print(length_10_mml_mml_v2_dropped_scores)"
   ]
  },
  {
   "cell_type": "code",
   "execution_count": 468,
   "metadata": {},
   "outputs": [
    {
     "name": "stdout",
     "output_type": "stream",
     "text": [
      "[61.49 62.   58.   52.33 51.67 62.67 57.33 59.33 62.33 60.2  60.33 59.87\n",
      " 65.   60.33 64.67 63.67 64.67 59.67 62.33 60.   60.33 61.   61.67 62.33\n",
      " 61.33]\n",
      "65.0\n"
     ]
    }
   ],
   "source": [
    "# top sample training using MML-PGG having the beam search with the length penalty 10.0 on the dev set and for question generation.\n",
    "fold_files = [\"dev.length_penalty_10.0.fold_1.step_{}.csv\".format(100 * i) for i in range(1, 26, 1)]\n",
    "\n",
    "fold_1_path = \"/home/snajafi/september_9/mml_mml_top_p_real_question/fold_1/\"\n",
    "fold_1_gold_file = \"./zero-shot-extraction/relation_splits/dev.1\"\n",
    "\n",
    "preprocess_the_prediction_files(fold_1_path, fold_files)\n",
    "fold_1_length_10_mml_mml_real_question_scores = np.array(eval_the_prediction_files(fold_files, fold_1_gold_file))\n",
    "\n",
    "length_10_mml_mml_real_question_scores = (fold_1_length_10_mml_mml_real_question_scores) / 1.0\n",
    "print(length_10_mml_mml_real_question_scores)\n",
    "print(length_10_mml_mml_real_question_scores[12])"
   ]
  },
  {
   "cell_type": "code",
   "execution_count": 498,
   "metadata": {},
   "outputs": [
    {
     "name": "stdout",
     "output_type": "stream",
     "text": [
      "[61.15 62.33 58.33 54.  ]\n"
     ]
    },
    {
     "ename": "IndexError",
     "evalue": "index 16 is out of bounds for axis 0 with size 4",
     "output_type": "error",
     "traceback": [
      "\u001b[0;31m---------------------------------------------------------------------------\u001b[0m",
      "\u001b[0;31mIndexError\u001b[0m                                Traceback (most recent call last)",
      "\u001b[0;32m<ipython-input-498-60222ff87432>\u001b[0m in \u001b[0;36m<module>\u001b[0;34m\u001b[0m\n\u001b[1;32m     10\u001b[0m \u001b[0mnew_length_10_mml_mml_real_question_scores\u001b[0m \u001b[0;34m=\u001b[0m \u001b[0;34m(\u001b[0m\u001b[0mfold_1_length_10_mml_mml_real_question_scores\u001b[0m\u001b[0;34m)\u001b[0m \u001b[0;34m/\u001b[0m \u001b[0;36m1.0\u001b[0m\u001b[0;34m\u001b[0m\u001b[0;34m\u001b[0m\u001b[0m\n\u001b[1;32m     11\u001b[0m \u001b[0mprint\u001b[0m\u001b[0;34m(\u001b[0m\u001b[0mnew_length_10_mml_mml_real_question_scores\u001b[0m\u001b[0;34m)\u001b[0m\u001b[0;34m\u001b[0m\u001b[0;34m\u001b[0m\u001b[0m\n\u001b[0;32m---> 12\u001b[0;31m \u001b[0mprint\u001b[0m\u001b[0;34m(\u001b[0m\u001b[0mnew_length_10_mml_mml_real_question_scores\u001b[0m\u001b[0;34m[\u001b[0m\u001b[0;36m16\u001b[0m\u001b[0;34m]\u001b[0m\u001b[0;34m)\u001b[0m\u001b[0;34m\u001b[0m\u001b[0;34m\u001b[0m\u001b[0m\n\u001b[0m",
      "\u001b[0;31mIndexError\u001b[0m: index 16 is out of bounds for axis 0 with size 4"
     ]
    }
   ],
   "source": [
    "# top sample training using MML-PGG having the beam search with the length penalty 10.0 on the dev set and for question generation.\n",
    "fold_files = [\"dev.length_penalty_10.0.fold_1.step_{}.csv\".format(100 * i) for i in range(1, 5, 1)]\n",
    "\n",
    "fold_1_path = \"/home/snajafi/september_9/mml_mml_top_p_real_question/fold_1/\"\n",
    "fold_1_gold_file = \"./zero-shot-extraction/relation_splits/dev.1\"\n",
    "\n",
    "preprocess_the_prediction_files(fold_1_path, fold_files)\n",
    "fold_1_length_10_mml_mml_real_question_scores = np.array(eval_the_prediction_files(fold_files, fold_1_gold_file))\n",
    "\n",
    "new_length_10_mml_mml_real_question_scores = (fold_1_length_10_mml_mml_real_question_scores) / 1.0\n",
    "print(new_length_10_mml_mml_real_question_scores)\n",
    "print(new_length_10_mml_mml_real_question_scores[16])"
   ]
  },
  {
   "cell_type": "code",
   "execution_count": 503,
   "metadata": {},
   "outputs": [
    {
     "name": "stdout",
     "output_type": "stream",
     "text": [
      "[55.44 59.12 57.67 58.33 58.67 61.67 60.67 59.67 61.33 55.85 55.33 59.33\n",
      " 58.33 61.67 56.   53.85 55.1  58.67 59.06 56.33 54.52 57.05 55.52 59.8 ]\n",
      "61.67\n"
     ]
    }
   ],
   "source": [
    "# top sample training using MML-PGG having the beam search with the length penalty 10.0 on the dev set and for question generation.\n",
    "fold_files = [\"dev.length_penalty_10.0.fold_1.step_{}.csv\".format(100 * i) for i in range(1, 25, 1)]\n",
    "\n",
    "fold_1_path = \"/home/snajafi/september_9/mml_mml_top_p_real_question_dropped/fold_1/\"\n",
    "fold_1_gold_file = \"./zero-shot-extraction/relation_splits/dev.1\"\n",
    "\n",
    "preprocess_the_prediction_files(fold_1_path, fold_files)\n",
    "fold_1_length_10_mml_mml_real_question_scores = np.array(eval_the_prediction_files(fold_files, fold_1_gold_file))\n",
    "\n",
    "new_length_10_mml_mml_real_question_scores = (fold_1_length_10_mml_mml_real_question_scores) / 1.0\n",
    "print(new_length_10_mml_mml_real_question_scores)\n",
    "print(new_length_10_mml_mml_real_question_scores[5])"
   ]
  },
  {
   "cell_type": "code",
   "execution_count": 528,
   "metadata": {},
   "outputs": [
    {
     "name": "stdout",
     "output_type": "stream",
     "text": [
      "[65.67 64.   64.67 66.   66.   64.67 63.67 62.33 61.67 66.33 69.33 67.67\n",
      " 63.33 62.33 62.67 62.  ]\n",
      "69.33\n"
     ]
    }
   ],
   "source": [
    "# top sample training using MML-PGG having the beam search with the length penalty 10.0 on the dev set and for question generation.\n",
    "fold_files = [\"dev.length_penalty_10.0.fold_1.step_{}.csv\".format(100 * i) for i in range(1, 17, 1)]\n",
    "\n",
    "fold_1_path = \"/home/snajafi/september_9/mml_mml_top_p_enforced/fold_1/\"\n",
    "fold_1_gold_file = \"./zero-shot-extraction/relation_splits/dev.1\"\n",
    "\n",
    "preprocess_the_prediction_files(fold_1_path, fold_files)\n",
    "fold_1_length_10_mml_mml_enforced_scores = np.array(eval_the_prediction_files(fold_files, fold_1_gold_file))\n",
    "\n",
    "new_length_10_mml_mml_enforced_scores = (fold_1_length_10_mml_mml_enforced_scores) / 1.0\n",
    "print(new_length_10_mml_mml_enforced_scores)\n",
    "print(new_length_10_mml_mml_enforced_scores[10])"
   ]
  },
  {
   "cell_type": "code",
   "execution_count": 531,
   "metadata": {},
   "outputs": [
    {
     "name": "stdout",
     "output_type": "stream",
     "text": [
      "[65.67 64.   64.67 66.33 66.   64.67 63.67 62.33 61.67 66.33 69.33 67.67\n",
      " 63.33 62.33 62.67 62.  ]\n",
      "69.33\n"
     ]
    }
   ],
   "source": [
    "# top sample training using MML-PGG having the beam search with the length penalty 10.0 on the dev set and for question generation.\n",
    "fold_files = [\"dev.length_penalty_10.0.fold_1.step_{}.csv\".format(100 * i) for i in range(1, 17, 1)]\n",
    "\n",
    "fold_1_path = \"/home/snajafi/september_9/mml_mml_top_p_enforced/fold_1/\"\n",
    "fold_1_gold_file = \"./zero-shot-extraction/relation_splits/dev.1\"\n",
    "\n",
    "preprocess_the_prediction_files(fold_1_path, fold_files)\n",
    "fold_1_length_10_mml_mml_enforced_scores = np.array(eval_the_prediction_files(fold_files, fold_1_gold_file))\n",
    "\n",
    "new_length_10_mml_mml_enforced_scores = (fold_1_length_10_mml_mml_enforced_scores) / 1.0\n",
    "print(new_length_10_mml_mml_enforced_scores)\n",
    "print(new_length_10_mml_mml_enforced_scores[10])"
   ]
  },
  {
   "cell_type": "code",
   "execution_count": 537,
   "metadata": {},
   "outputs": [
    {
     "name": "stdout",
     "output_type": "stream",
     "text": [
      "[60.   61.33 66.33]\n"
     ]
    }
   ],
   "source": [
    "# top sample training using MML-PGG having the beam search with the length penalty 10.0 on the dev set and for question generation.\n",
    "fold_files = [\"dev.length_penalty_10.0.fold_1.step_{}.csv\".format(100 * i) for i in range(1, 4, 1)]\n",
    "\n",
    "fold_1_path = \"/home/snajafi/september_9/mml_mml_top_p_long_samples/fold_1/\"\n",
    "fold_1_gold_file = \"./zero-shot-extraction/relation_splits/dev.1\"\n",
    "\n",
    "preprocess_the_prediction_files(fold_1_path, fold_files)\n",
    "fold_1_length_10_mml_mml_enforced_scores = np.array(eval_the_prediction_files(fold_files, fold_1_gold_file))\n",
    "\n",
    "new_length_10_mml_mml_enforced_scores = (fold_1_length_10_mml_mml_enforced_scores) / 1.0\n",
    "print(new_length_10_mml_mml_enforced_scores)"
   ]
  },
  {
   "cell_type": "code",
   "execution_count": 629,
   "metadata": {},
   "outputs": [
    {
     "name": "stdout",
     "output_type": "stream",
     "text": [
      "[61.33 55.67 63.33 64.   65.67 62.67 65.   65.   59.33 62.67 67.   68.\n",
      " 68.   64.   64.67 68.   67.   67.   65.  ]\n"
     ]
    }
   ],
   "source": [
    "# Gold Questions\n",
    "fold_files = [\"dev.predictions.0.step.{}.csv\".format(100 * i) for i in range(1, 20, 1)]\n",
    "\n",
    "fold_1_path = \"/home/snajafi/september_22/gold/\"\n",
    "fold_1_gold_file = \"./zero-shot-extraction/relation_splits/dev.1\"\n",
    "\n",
    "preprocess_the_prediction_files(fold_1_path, fold_files)\n",
    "fold_1_gold_scores = np.array(eval_the_prediction_files(fold_files, fold_1_gold_file))\n",
    "print(fold_1_gold_scores)"
   ]
  },
  {
   "cell_type": "code",
   "execution_count": 630,
   "metadata": {},
   "outputs": [
    {
     "name": "stdout",
     "output_type": "stream",
     "text": [
      "[58.33 59.06 60.   61.67 60.   60.   60.2  57.33 58.67 60.33 62.54 64.33\n",
      " 64.   61.33 61.33 54.   56.67 62.67 62.67]\n"
     ]
    }
   ],
   "source": [
    "# Concat Questions\n",
    "fold_files = [\"dev.predictions.1.step.{}.csv\".format(100 * i) for i in range(1, 20, 1)]\n",
    "\n",
    "fold_1_path = \"/home/snajafi/september_22/concat/\"\n",
    "fold_1_concat_file = \"./zero-shot-extraction/relation_splits/dev.1\"\n",
    "\n",
    "preprocess_the_prediction_files(fold_1_path, fold_files)\n",
    "fold_1_concat_scores = np.array(eval_the_prediction_files(fold_files, fold_1_concat_file))\n",
    "print(fold_1_concat_scores)"
   ]
  },
  {
   "cell_type": "code",
   "execution_count": 586,
   "metadata": {},
   "outputs": [
    {
     "name": "stdout",
     "output_type": "stream",
     "text": [
      "[51.67 58.   60.33 60.33 61.  ]\n"
     ]
    }
   ],
   "source": [
    "# MML-MML for Question Only Generation with Long Samples and Mix of Squad Questions.\n",
    "fold_files = [\"dev.basic_top_p.length_penalty_10.0.fold_1.step_{}.csv\".format(100 * i) for i in range(1, 6, 1)]\n",
    "\n",
    "fold_1_path = \"/home/snajafi/september_22/mml_mml_top_p_long_samples/\"\n",
    "fold_1_mml_mml_file = \"./zero-shot-extraction/relation_splits/dev.1\"\n",
    "\n",
    "preprocess_the_prediction_files(fold_1_path, fold_files)\n",
    "fold_1_mml_mml_scores = np.array(eval_the_prediction_files(fold_files, fold_1_mml_mml_file))\n",
    "print(fold_1_mml_mml_scores)"
   ]
  },
  {
   "cell_type": "code",
   "execution_count": 587,
   "metadata": {},
   "outputs": [
    {
     "name": "stdout",
     "output_type": "stream",
     "text": [
      "[61.67 62.67 61.   64.   57.33]\n"
     ]
    }
   ],
   "source": [
    "# MML-MML for Question Only Generation with Long Samples and Mix of Squad Questions.\n",
    "fold_files = [\"dev.len_norm_top_p.length_penalty_10.0.fold_1.step_{}.csv\".format(100 * i) for i in range(1, 6, 1)]\n",
    "\n",
    "fold_1_path = \"/home/snajafi/september_22/mml_mml_top_p_long_samples/\"\n",
    "fold_1_mml_mml_file = \"./zero-shot-extraction/relation_splits/dev.1\"\n",
    "\n",
    "preprocess_the_prediction_files(fold_1_path, fold_files)\n",
    "fold_1_mml_mml_scores = np.array(eval_the_prediction_files(fold_files, fold_1_mml_mml_file))\n",
    "print(fold_1_mml_mml_scores)"
   ]
  },
  {
   "cell_type": "code",
   "execution_count": 589,
   "metadata": {},
   "outputs": [
    {
     "name": "stdout",
     "output_type": "stream",
     "text": [
      "[56.67 58.67 47.   54.   61.  ]\n"
     ]
    }
   ],
   "source": [
    "# MML-MML for Question Only Generation with Long Samples and Mix of Squad Questions.\n",
    "fold_files = [\"dev.len_norm_beam_top_k.0.fold_1.step_{}.csv\".format(100 * i) for i in range(1, 6, 1)]\n",
    "\n",
    "fold_1_path = \"/home/snajafi/september_22/\"\n",
    "fold_1_mml_mml_file = \"./zero-shot-extraction/relation_splits/dev.1\"\n",
    "\n",
    "preprocess_the_prediction_files(fold_1_path, fold_files)\n",
    "fold_1_mml_mml_scores = np.array(eval_the_prediction_files(fold_files, fold_1_mml_mml_file))\n",
    "print(fold_1_mml_mml_scores)"
   ]
  },
  {
   "cell_type": "code",
   "execution_count": 590,
   "metadata": {},
   "outputs": [
    {
     "name": "stdout",
     "output_type": "stream",
     "text": [
      "[55.65]\n"
     ]
    }
   ],
   "source": [
    "# MML-MML for Question Only Generation with Long Samples and Mix of Squad Questions.\n",
    "fold_files = [\"dev.question_only.len_norm_beam_top_k.0.fold_1.step_{}.csv\".format(100 * i) for i in range(1, 2, 1)]\n",
    "\n",
    "fold_1_path = \"/home/snajafi/september_22/\"\n",
    "fold_1_mml_mml_file = \"./zero-shot-extraction/relation_splits/dev.1\"\n",
    "\n",
    "preprocess_the_prediction_files(fold_1_path, fold_files)\n",
    "fold_1_mml_mml_scores = np.array(eval_the_prediction_files(fold_files, fold_1_mml_mml_file))\n",
    "print(fold_1_mml_mml_scores)"
   ]
  },
  {
   "cell_type": "code",
   "execution_count": 591,
   "metadata": {},
   "outputs": [
    {
     "name": "stdout",
     "output_type": "stream",
     "text": [
      "[60.33 60.33]\n"
     ]
    }
   ],
   "source": [
    "# MML-MML for Question Only Generation with Long Samples and Mix of Squad Questions.\n",
    "fold_files = [\"dev.entropy.top_p.0.fold_1.step_{}.csv\".format(100 * i) for i in range(1, 3, 1)]\n",
    "\n",
    "fold_1_path = \"/home/snajafi/september_22/\"\n",
    "fold_1_mml_mml_file = \"./zero-shot-extraction/relation_splits/dev.1\"\n",
    "\n",
    "preprocess_the_prediction_files(fold_1_path, fold_files)\n",
    "fold_1_mml_mml_scores = np.array(eval_the_prediction_files(fold_files, fold_1_mml_mml_file))\n",
    "print(fold_1_mml_mml_scores)"
   ]
  },
  {
   "cell_type": "code",
   "execution_count": 592,
   "metadata": {},
   "outputs": [
    {
     "name": "stdout",
     "output_type": "stream",
     "text": [
      "[56.   56.   59.33 62.67 66.33]\n"
     ]
    }
   ],
   "source": [
    "# MML-MML for Question Only Generation with Long Samples and Mix of Squad Questions.\n",
    "fold_files = [\"dev.with_real_q.entropy.top_p.0.fold_1.step_{}.csv\".format(100 * i) for i in range(1, 6, 1)]\n",
    "\n",
    "fold_1_path = \"/home/snajafi/september_22/\"\n",
    "fold_1_mml_mml_file = \"./zero-shot-extraction/relation_splits/dev.1\"\n",
    "\n",
    "preprocess_the_prediction_files(fold_1_path, fold_files)\n",
    "fold_1_mml_mml_scores = np.array(eval_the_prediction_files(fold_files, fold_1_mml_mml_file))\n",
    "print(fold_1_mml_mml_scores)"
   ]
  },
  {
   "cell_type": "code",
   "execution_count": 593,
   "metadata": {},
   "outputs": [
    {
     "name": "stdout",
     "output_type": "stream",
     "text": [
      "[53.33 62.33]\n"
     ]
    }
   ],
   "source": [
    "# MML-MML for Question Only Generation with Long Samples and Mix of Squad Questions.\n",
    "fold_files = [\"dev.long.entropy.top_p.0.fold_1.step_{}.csv\".format(100 * i) for i in range(1, 3, 1)]\n",
    "\n",
    "fold_1_path = \"/home/snajafi/september_22/\"\n",
    "fold_1_mml_mml_file = \"./zero-shot-extraction/relation_splits/dev.1\"\n",
    "\n",
    "preprocess_the_prediction_files(fold_1_path, fold_files)\n",
    "fold_1_mml_mml_scores = np.array(eval_the_prediction_files(fold_files, fold_1_mml_mml_file))\n",
    "print(fold_1_mml_mml_scores)"
   ]
  },
  {
   "cell_type": "code",
   "execution_count": 594,
   "metadata": {},
   "outputs": [
    {
     "name": "stdout",
     "output_type": "stream",
     "text": [
      "[63.67 58.67]\n"
     ]
    }
   ],
   "source": [
    "# MML-MML for Question Only Generation with Long Samples and Mix of Squad Questions.\n",
    "fold_files = [\"dev.len+beam+top_p.entropy.top_p.0.fold_1.step_{}.csv\".format(100 * i) for i in range(1, 3, 1)]\n",
    "\n",
    "fold_1_path = \"/home/snajafi/september_22/\"\n",
    "fold_1_mml_mml_file = \"./zero-shot-extraction/relation_splits/dev.1\"\n",
    "\n",
    "preprocess_the_prediction_files(fold_1_path, fold_files)\n",
    "fold_1_mml_mml_scores = np.array(eval_the_prediction_files(fold_files, fold_1_mml_mml_file))\n",
    "print(fold_1_mml_mml_scores)"
   ]
  },
  {
   "cell_type": "code",
   "execution_count": 595,
   "metadata": {},
   "outputs": [
    {
     "name": "stdout",
     "output_type": "stream",
     "text": [
      "[54.67 65.67]\n"
     ]
    }
   ],
   "source": [
    "# MML-MML for Question Only Generation with Long Samples and Mix of Squad Questions.\n",
    "fold_files = [\"dev.no_entropy.top_p.0.fold_1.step_{}.csv\".format(100 * i) for i in range(1, 3, 1)]\n",
    "\n",
    "fold_1_path = \"/home/snajafi/september_22/\"\n",
    "fold_1_mml_mml_file = \"./zero-shot-extraction/relation_splits/dev.1\"\n",
    "\n",
    "preprocess_the_prediction_files(fold_1_path, fold_files)\n",
    "fold_1_mml_mml_scores = np.array(eval_the_prediction_files(fold_files, fold_1_mml_mml_file))\n",
    "print(fold_1_mml_mml_scores)"
   ]
  },
  {
   "cell_type": "code",
   "execution_count": 596,
   "metadata": {},
   "outputs": [
    {
     "name": "stdout",
     "output_type": "stream",
     "text": [
      "[61.67]\n"
     ]
    }
   ],
   "source": [
    "# MML-MML for Question Only Generation with Long Samples and Mix of Squad Questions.\n",
    "fold_files = [\"dev.small_entropy.top_p.0.fold_1.step_{}.csv\".format(100 * i) for i in range(1, 2, 1)]\n",
    "\n",
    "fold_1_path = \"/home/snajafi/september_22/\"\n",
    "fold_1_mml_mml_file = \"./zero-shot-extraction/relation_splits/dev.1\"\n",
    "\n",
    "preprocess_the_prediction_files(fold_1_path, fold_files)\n",
    "fold_1_mml_mml_scores = np.array(eval_the_prediction_files(fold_files, fold_1_mml_mml_file))\n",
    "print(fold_1_mml_mml_scores)"
   ]
  },
  {
   "cell_type": "code",
   "execution_count": 599,
   "metadata": {},
   "outputs": [
    {
     "name": "stdout",
     "output_type": "stream",
     "text": [
      "[51.   64.   54.   65.33 59.67 55.33]\n"
     ]
    }
   ],
   "source": [
    "# MML-MML for Question Only Generation with Long Samples and Mix of Squad Questions.\n",
    "fold_files = [\"dev.bleu.small_entropy.top_p.0.fold_1.step_{}.csv\".format(100 * i) for i in range(1, 7, 1)]\n",
    "\n",
    "fold_1_path = \"/home/snajafi/september_22/\"\n",
    "fold_1_mml_mml_file = \"./zero-shot-extraction/relation_splits/dev.1\"\n",
    "\n",
    "preprocess_the_prediction_files(fold_1_path, fold_files)\n",
    "fold_1_mml_mml_scores = np.array(eval_the_prediction_files(fold_files, fold_1_mml_mml_file))\n",
    "print(fold_1_mml_mml_scores)"
   ]
  },
  {
   "cell_type": "code",
   "execution_count": 602,
   "metadata": {},
   "outputs": [
    {
     "name": "stdout",
     "output_type": "stream",
     "text": [
      "[57. 57. 49.]\n"
     ]
    }
   ],
   "source": [
    "# MML-MML for Question Only Generation with Long Samples and Mix of Squad Questions.\n",
    "fold_files = [\"dev.bleu_entropy.fold_1.step_{}.csv\".format(100 * i) for i in range(1, 4, 1)]\n",
    "\n",
    "fold_1_path = \"/home/snajafi/september_22/mml_mml_top_p_long_samples/\"\n",
    "fold_1_mml_mml_file = \"./zero-shot-extraction/relation_splits/dev.1\"\n",
    "\n",
    "preprocess_the_prediction_files(fold_1_path, fold_files)\n",
    "fold_1_mml_mml_scores = np.array(eval_the_prediction_files(fold_files, fold_1_mml_mml_file))\n",
    "print(fold_1_mml_mml_scores)"
   ]
  },
  {
   "cell_type": "code",
   "execution_count": 603,
   "metadata": {},
   "outputs": [
    {
     "name": "stdout",
     "output_type": "stream",
     "text": [
      "[52.33 52.33 51.  ]\n"
     ]
    }
   ],
   "source": [
    "# MML-MML for Question Only Generation with Long Samples and Mix of Squad Questions.\n",
    "fold_files = [\"dev.bleu_entropy.fold_1.step_{}.csv\".format(100 * i) for i in range(1, 4, 1)]\n",
    "\n",
    "fold_1_path = \"/home/snajafi/september_22/mml_mml_top_p_long_samples/\"\n",
    "fold_1_mml_mml_file = \"./zero-shot-extraction/relation_splits/dev.1\"\n",
    "\n",
    "preprocess_the_prediction_files(fold_1_path, fold_files)\n",
    "fold_1_mml_mml_scores = np.array(eval_the_prediction_files(fold_files, fold_1_mml_mml_file))\n",
    "print(fold_1_mml_mml_scores)"
   ]
  },
  {
   "cell_type": "code",
   "execution_count": 604,
   "metadata": {},
   "outputs": [
    {
     "name": "stdout",
     "output_type": "stream",
     "text": [
      "[52.76 57.67 59.12 57.67]\n"
     ]
    }
   ],
   "source": [
    "# MML-MML for Question Only Generation with Long Samples and Mix of Squad Questions.\n",
    "fold_files = [\"dev.off_policy.bleu_entropy.fold_1.step_{}.csv\".format(100 * i) for i in range(1, 5, 1)]\n",
    "\n",
    "fold_1_path = \"/home/snajafi/september_22/mml_mml_top_p_long_samples/\"\n",
    "fold_1_mml_mml_file = \"./zero-shot-extraction/relation_splits/dev.1\"\n",
    "\n",
    "preprocess_the_prediction_files(fold_1_path, fold_files)\n",
    "fold_1_mml_mml_scores = np.array(eval_the_prediction_files(fold_files, fold_1_mml_mml_file))\n",
    "print(fold_1_mml_mml_scores)"
   ]
  },
  {
   "cell_type": "code",
   "execution_count": null,
   "metadata": {},
   "outputs": [],
   "source": [
    "# MML-MML for Question Only Generation with Long Samples and Mix of Squad Questions.\n",
    "fold_files = [\"dev.more_bleu.small_entropy.top_p.0.fold_1.step_{}.csv\".format(100 * i) for i in range(1, 7, 1)]\n",
    "\n",
    "fold_1_path = \"/home/snajafi/september_22/\"\n",
    "fold_1_mml_mml_file = \"./zero-shot-extraction/relation_splits/dev.1\"\n",
    "\n",
    "preprocess_the_prediction_files(fold_1_path, fold_files)\n",
    "fold_1_mml_mml_scores = np.array(eval_the_prediction_files(fold_files, fold_1_mml_mml_file))\n",
    "print(fold_1_mml_mml_scores)"
   ]
  },
  {
   "cell_type": "code",
   "execution_count": null,
   "metadata": {},
   "outputs": [],
   "source": [
    "# MML-MML for Question Only Generation with Long Samples and Mix of Squad Questions.\n",
    "fold_files = [\"dev.correct_off_policy.bleu_entropy.fold_1.step_{}.csv\".format(100 * i) for i in range(1, 5, 1)]\n",
    "\n",
    "fold_1_path = \"/home/snajafi/september_22/\"\n",
    "fold_1_mml_mml_file = \"./zero-shot-extraction/relation_splits/dev.1\"\n",
    "\n",
    "preprocess_the_prediction_files(fold_1_path, fold_files)\n",
    "fold_1_mml_mml_scores = np.array(eval_the_prediction_files(fold_files, fold_1_mml_mml_file))\n",
    "print(fold_1_mml_mml_scores)"
   ]
  },
  {
   "cell_type": "code",
   "execution_count": 609,
   "metadata": {},
   "outputs": [
    {
     "name": "stdout",
     "output_type": "stream",
     "text": [
      "[49.   52.   47.33 58.86 61.67 56.67 61.   58.   60.67 58.33 59.  ]\n"
     ]
    }
   ],
   "source": [
    "# MML-MML for Question Only Generation with Long Samples and Mix of Squad Questions.\n",
    "fold_files = [\"dev.correct_off_policy.bleu_entropy.fold_1.step_{}.csv\".format(100 * i) for i in range(1, 12, 1)]\n",
    "\n",
    "fold_1_path = \"/home/snajafi/september_22/mml_mml_top_p_long_samples/\"\n",
    "fold_1_mml_mml_file = \"./zero-shot-extraction/relation_splits/dev.1\"\n",
    "\n",
    "preprocess_the_prediction_files(fold_1_path, fold_files)\n",
    "fold_1_mml_mml_scores = np.array(eval_the_prediction_files(fold_files, fold_1_mml_mml_file))\n",
    "print(fold_1_mml_mml_scores)"
   ]
  },
  {
   "cell_type": "code",
   "execution_count": 627,
   "metadata": {},
   "outputs": [
    {
     "name": "stdout",
     "output_type": "stream",
     "text": [
      "[57.53 57.67 59.2  58.   58.33 59.   58.67 60.   55.67 58.   56.86 57.33\n",
      " 54.67 56.86 53.33 57.67 62.67 55.67 57.67]\n"
     ]
    }
   ],
   "source": [
    "# MML-MML for Question Only Generation with Long Samples and Mix of Squad Questions.\n",
    "fold_files = [\"1.dev.correct_off_policy.bleu_entropy.fold_1.step_{}.csv\".format(100 * i) for i in range(1, 20, 1)]\n",
    "\n",
    "fold_1_path = \"/home/snajafi/september_22/mml_mml_top_p_long_samples/\"\n",
    "fold_1_mml_mml_file = \"./zero-shot-extraction/relation_splits/dev.1\"\n",
    "\n",
    "preprocess_the_prediction_files(fold_1_path, fold_files)\n",
    "epoch_1_fold_1_mml_mml_scores = np.array(eval_the_prediction_files(fold_files, fold_1_mml_mml_file))\n",
    "print(epoch_1_fold_1_mml_mml_scores)"
   ]
  },
  {
   "cell_type": "code",
   "execution_count": 633,
   "metadata": {},
   "outputs": [
    {
     "name": "stdout",
     "output_type": "stream",
     "text": [
      "[57.53 57.67 59.2  58.   58.33 59.   58.67 60.   55.67 58.   56.86 57.33\n",
      " 54.67 56.86 53.33 57.67 62.67 55.67 57.67]\n"
     ]
    }
   ],
   "source": [
    "# MML-MML for Question Only Generation with Long Samples and Mix of Squad Questions.\n",
    "fold_files = [\"1.dev.correct_off_policy.bleu_entropy.fold_1.step_{}.csv\".format(100 * i) for i in range(1, 20, 1)]\n",
    "\n",
    "fold_1_path = \"/home/snajafi/september_22/mml_mml_top_p_long_samples/\"\n",
    "fold_1_mml_mml_file = \"./zero-shot-extraction/relation_splits/dev.1\"\n",
    "\n",
    "preprocess_the_prediction_files(fold_1_path, fold_files)\n",
    "fold_1_mml_mml_scores = np.array(eval_the_prediction_files(fold_files, fold_1_mml_mml_file))\n",
    "print(fold_1_mml_mml_scores)"
   ]
  },
  {
   "cell_type": "code",
   "execution_count": 637,
   "metadata": {},
   "outputs": [
    {
     "name": "stdout",
     "output_type": "stream",
     "text": [
      "[58.33 62.33 60.33 60.33 56.   57.67 54.   51.   55.   52.   57.   54.85\n",
      " 57.86 56.86 57.53 51.   57.86 59.53 59.53]\n"
     ]
    }
   ],
   "source": [
    "# MML-MML for Question Only Generation with Long Samples and Mix of Squad Questions.\n",
    "fold_files = [\"pgg.dev.correct_off_policy.bleu_entropy.fold_1.step_{}.csv\".format(100 * i) for i in range(1, 20, 1)]\n",
    "\n",
    "fold_1_path = \"/home/snajafi/september_22/mml_mml_top_p_long_samples/\"\n",
    "fold_1_mml_mml_file = \"./zero-shot-extraction/relation_splits/dev.1\"\n",
    "\n",
    "preprocess_the_prediction_files(fold_1_path, fold_files)\n",
    "fold_1_mml_mml_scores = np.array(eval_the_prediction_files(fold_files, fold_1_mml_mml_file))\n",
    "print(fold_1_mml_mml_scores)"
   ]
  },
  {
   "cell_type": "code",
   "execution_count": 638,
   "metadata": {},
   "outputs": [
    {
     "name": "stdout",
     "output_type": "stream",
     "text": [
      "[56.   58.67 53.67 64.   57.   62.67 62.   63.   64.67]\n"
     ]
    }
   ],
   "source": [
    "# MML-MML for Question Only Generation with Long Samples and Mix of Squad Questions.\n",
    "fold_files = [\"with_greedy.dev.correct_off_policy.bleu_entropy.fold_1.step_{}.csv\".format(100 * i) for i in range(1, 10, 1)]\n",
    "\n",
    "fold_1_path = \"/home/snajafi/september_22/mml_mml_top_p_long_samples/\"\n",
    "fold_1_mml_mml_file = \"./zero-shot-extraction/relation_splits/dev.1\"\n",
    "\n",
    "preprocess_the_prediction_files(fold_1_path, fold_files)\n",
    "fold_1_mml_mml_scores = np.array(eval_the_prediction_files(fold_files, fold_1_mml_mml_file))\n",
    "print(fold_1_mml_mml_scores)"
   ]
  },
  {
   "cell_type": "code",
   "execution_count": 639,
   "metadata": {},
   "outputs": [
    {
     "name": "stdout",
     "output_type": "stream",
     "text": [
      "[56.67 51.33 60.67 55.52 59.87 58.53 56.   58.   63.  ]\n"
     ]
    }
   ],
   "source": [
    "# MML-MML for Question Only Generation with Long Samples and Mix of Squad Questions.\n",
    "fold_files = [\"dev.correct_off_policy.bleu_entropy.fold_1.step_{}.csv\".format(100 * i) for i in range(1, 10, 1)]\n",
    "\n",
    "fold_1_path = \"/home/snajafi/september_22/mml_mml_top_p_long_samples/\"\n",
    "fold_1_mml_mml_file = \"./zero-shot-extraction/relation_splits/dev.1\"\n",
    "\n",
    "preprocess_the_prediction_files(fold_1_path, fold_files)\n",
    "fold_1_mml_mml_scores = np.array(eval_the_prediction_files(fold_files, fold_1_mml_mml_file))\n",
    "print(fold_1_mml_mml_scores)"
   ]
  },
  {
   "cell_type": "code",
   "execution_count": 640,
   "metadata": {},
   "outputs": [
    {
     "name": "stdout",
     "output_type": "stream",
     "text": [
      "[56.33 57.   54.33 63.   56.19 62.33 62.33 63.33 64.67]\n"
     ]
    }
   ],
   "source": [
    "# MML-MML for Question Only Generation with Long Samples and Mix of Squad Questions.\n",
    "fold_files = [\"with_greedy_decoding.dev.correct_off_policy.bleu_entropy.fold_1.step_{}.csv\".format(100 * i) for i in range(1, 10, 1)]\n",
    "\n",
    "fold_1_path = \"/home/snajafi/september_22/mml_mml_top_p_long_samples/\"\n",
    "fold_1_mml_mml_file = \"./zero-shot-extraction/relation_splits/dev.1\"\n",
    "\n",
    "preprocess_the_prediction_files(fold_1_path, fold_files)\n",
    "fold_1_mml_mml_scores = np.array(eval_the_prediction_files(fold_files, fold_1_mml_mml_file))\n",
    "print(fold_1_mml_mml_scores)"
   ]
  },
  {
   "cell_type": "code",
   "execution_count": 652,
   "metadata": {},
   "outputs": [
    {
     "name": "stdout",
     "output_type": "stream",
     "text": [
      "['Precision: 43.81% \\t Recall: 33.00% \\t F1: 37.64%'\n",
      " 'Precision: 45.86% \\t Recall: 48.00% \\t F1: 46.91%'\n",
      " 'Precision: 41.86% \\t Recall: 48.00% \\t F1: 44.72%'\n",
      " 'Precision: 45.25% \\t Recall: 54.00% \\t F1: 49.24%'\n",
      " 'Precision: 50.38% \\t Recall: 44.00% \\t F1: 46.98%'\n",
      " 'Precision: 42.67% \\t Recall: 55.33% \\t F1: 48.19%'\n",
      " 'Precision: 45.90% \\t Recall: 50.33% \\t F1: 48.01%'\n",
      " 'Precision: 53.77% \\t Recall: 52.33% \\t F1: 53.04%'\n",
      " 'Precision: 42.20% \\t Recall: 52.33% \\t F1: 46.73%'\n",
      " 'Precision: 50.48% \\t Recall: 53.00% \\t F1: 51.71%'\n",
      " 'Precision: 54.02% \\t Recall: 47.00% \\t F1: 50.27%'\n",
      " 'Precision: 44.57% \\t Recall: 50.67% \\t F1: 47.43%'\n",
      " 'Precision: 44.18% \\t Recall: 43.00% \\t F1: 43.58%'\n",
      " 'Precision: 38.46% \\t Recall: 43.33% \\t F1: 40.75%'\n",
      " 'Precision: 49.24% \\t Recall: 32.33% \\t F1: 39.03%'\n",
      " 'Precision: 48.00% \\t Recall: 44.00% \\t F1: 45.91%'\n",
      " 'Precision: 56.14% \\t Recall: 42.67% \\t F1: 48.48%'\n",
      " 'Precision: 52.35% \\t Recall: 48.33% \\t F1: 50.26%'\n",
      " 'Precision: 54.96% \\t Recall: 44.33% \\t F1: 49.08%']\n"
     ]
    }
   ],
   "source": [
    "# MML-MML for Question Only Generation with Long Samples and Mix of Squad Questions.\n",
    "fold_files = [\"unk_with_greedy.dev.correct_off_policy.bleu_entropy.fold_1.step_{}.csv\".format(100 * i) for i in range(1, 20, 1)]\n",
    "\n",
    "fold_1_path = \"/home/snajafi/september_22/mml_mml_top_p_long_samples/\"\n",
    "fold_1_mml_mml_file = \"./zero-shot-extraction/relation_splits/dev.1\"\n",
    "\n",
    "preprocess_the_prediction_files(fold_1_path, fold_files)\n",
    "fold_1_mml_mml_scores = np.array(eval_the_prediction_files(fold_files, fold_1_mml_mml_file))\n",
    "print(fold_1_mml_mml_scores)"
   ]
  },
  {
   "cell_type": "code",
   "execution_count": 667,
   "metadata": {},
   "outputs": [
    {
     "name": "stdout",
     "output_type": "stream",
     "text": [
      "['Precision: 48.43% \\t Recall: 41.00% \\t F1: 44.40%'\n",
      " 'Precision: 52.53% \\t Recall: 38.00% \\t F1: 44.10%'\n",
      " 'Precision: 46.13% \\t Recall: 51.67% \\t F1: 48.74%'\n",
      " 'Precision: 48.84% \\t Recall: 49.00% \\t F1: 48.92%'\n",
      " 'Precision: 44.62% \\t Recall: 47.00% \\t F1: 45.78%'\n",
      " 'Precision: 48.91% \\t Recall: 52.33% \\t F1: 50.56%'\n",
      " 'Precision: 46.25% \\t Recall: 51.33% \\t F1: 48.66%'\n",
      " 'Precision: 59.64% \\t Recall: 33.00% \\t F1: 42.49%'\n",
      " 'Precision: 51.75% \\t Recall: 49.33% \\t F1: 50.51%'\n",
      " 'Precision: 53.29% \\t Recall: 51.33% \\t F1: 52.29%'\n",
      " 'Precision: 58.47% \\t Recall: 58.67% \\t F1: 58.57%'\n",
      " 'Precision: 53.12% \\t Recall: 51.00% \\t F1: 52.04%'\n",
      " 'Precision: 49.23% \\t Recall: 53.00% \\t F1: 51.04%'\n",
      " 'Precision: 50.00% \\t Recall: 56.00% \\t F1: 52.83%'\n",
      " 'Precision: 47.50% \\t Recall: 44.33% \\t F1: 45.86%'\n",
      " 'Precision: 54.00% \\t Recall: 45.00% \\t F1: 49.09%'\n",
      " 'Precision: 55.33% \\t Recall: 36.33% \\t F1: 43.86%'\n",
      " 'Precision: 53.56% \\t Recall: 42.67% \\t F1: 47.50%'\n",
      " 'Precision: 56.30% \\t Recall: 47.67% \\t F1: 51.62%']\n"
     ]
    }
   ],
   "source": [
    "# MML-MML for Question Only Generation with Long Samples and Mix of Squad Questions.\n",
    "fold_files = [\"1.unk_with_greedy.dev.correct_off_policy.bleu_entropy.fold_1.step_{}.csv\".format(100 * i) for i in range(1, 20, 1)]\n",
    "\n",
    "fold_1_path = \"/home/snajafi/september_22/mml_mml_top_p_long_samples/\"\n",
    "fold_1_mml_mml_file = \"./zero-shot-extraction/relation_splits/dev.1\"\n",
    "preprocess_the_prediction_files(fold_1_path, fold_files)\n",
    "fold_1_mml_mml_scores = np.array(eval_the_prediction_files(fold_files, fold_1_mml_mml_file))\n",
    "print(fold_1_mml_mml_scores)"
   ]
  },
  {
   "cell_type": "code",
   "execution_count": 670,
   "metadata": {},
   "outputs": [
    {
     "name": "stdout",
     "output_type": "stream",
     "text": [
      "['Precision: 55.47% \\t Recall: 24.42% \\t F1: 33.91%']\n"
     ]
    }
   ],
   "source": [
    "# Concat for Question Only Generation with Long Samples and Mix of Squad Questions.\n",
    "fold_files = [\"test.predictions.2.step..csv\"]\n",
    "fold_1_path = \"/home/snajafi/september_22/concat/\"\n",
    "fold_1_concat_file = \"./zero-shot-extraction/relation_splits/test.1\"\n",
    "preprocess_the_prediction_files(fold_1_path, fold_files)\n",
    "fold_1_concat_scores = np.array(eval_the_prediction_files(fold_files, fold_1_concat_file))\n",
    "print(fold_1_concat_scores)"
   ]
  },
  {
   "cell_type": "code",
   "execution_count": 671,
   "metadata": {},
   "outputs": [
    {
     "name": "stdout",
     "output_type": "stream",
     "text": [
      "['Precision: 45.55% \\t Recall: 35.17% \\t F1: 39.69%']\n"
     ]
    }
   ],
   "source": [
    "# MML-MML for Question Only Generation with Long Samples and Mix of Squad Questions.\n",
    "fold_files = [\"1.unk_with_greedy.test.correct_off_policy.bleu_entropy.fold_1.step_1100.csv\"]\n",
    "\n",
    "fold_1_path = \"/home/snajafi/september_22/mml_mml_top_p_long_samples/\"\n",
    "fold_1_mml_mml_file = \"./zero-shot-extraction/relation_splits/test.1\"\n",
    "preprocess_the_prediction_files(fold_1_path, fold_files)\n",
    "fold_1_mml_mml_scores = np.array(eval_the_prediction_files(fold_files, fold_1_mml_mml_file))\n",
    "print(fold_1_mml_mml_scores)"
   ]
  },
  {
   "cell_type": "code",
   "execution_count": 672,
   "metadata": {},
   "outputs": [
    {
     "name": "stdout",
     "output_type": "stream",
     "text": [
      "['Precision: 47.69% \\t Recall: 38.73% \\t F1: 42.75%']\n"
     ]
    }
   ],
   "source": [
    "# Gold for Question Only Generation with Long Samples and Mix of Squad Questions.\n",
    "fold_files = [\"test.predictions.1.step.800.csv\"]\n",
    "\n",
    "fold_1_path = \"/home/snajafi/september_22/gold/\"\n",
    "fold_1_gold_file = \"./zero-shot-extraction/relation_splits/test.1\"\n",
    "preprocess_the_prediction_files(fold_1_path, fold_files)\n",
    "fold_1_gold_scores = np.array(eval_the_prediction_files(fold_files, fold_1_gold_file))\n",
    "print(fold_1_gold_scores)"
   ]
  },
  {
   "cell_type": "code",
   "execution_count": 658,
   "metadata": {},
   "outputs": [
    {
     "name": "stdout",
     "output_type": "stream",
     "text": [
      "['Precision: 49.33% \\t Recall: 61.33% \\t F1: 54.68%'\n",
      " 'Precision: 53.20% \\t Recall: 63.67% \\t F1: 57.97%'\n",
      " 'Precision: 48.49% \\t Recall: 64.33% \\t F1: 55.30%'\n",
      " 'Precision: 51.45% \\t Recall: 59.00% \\t F1: 54.97%'\n",
      " 'Precision: 62.44% \\t Recall: 42.67% \\t F1: 50.69%'\n",
      " 'Precision: 54.98% \\t Recall: 57.00% \\t F1: 55.97%'\n",
      " 'Precision: 55.28% \\t Recall: 45.33% \\t F1: 49.82%'\n",
      " 'Precision: 57.43% \\t Recall: 47.67% \\t F1: 52.09%'\n",
      " 'Precision: 52.13% \\t Recall: 57.00% \\t F1: 54.46%'\n",
      " 'Precision: 52.29% \\t Recall: 64.67% \\t F1: 57.82%'\n",
      " 'Precision: 69.27% \\t Recall: 47.33% \\t F1: 56.24%'\n",
      " 'Precision: 58.98% \\t Recall: 50.33% \\t F1: 54.32%'\n",
      " 'Precision: 63.40% \\t Recall: 32.33% \\t F1: 42.83%'\n",
      " 'Precision: 55.11% \\t Recall: 50.33% \\t F1: 52.61%'\n",
      " 'Precision: 58.04% \\t Recall: 49.33% \\t F1: 53.33%'\n",
      " 'Precision: 52.99% \\t Recall: 47.33% \\t F1: 50.00%'\n",
      " 'Precision: 48.93% \\t Recall: 61.00% \\t F1: 54.30%'\n",
      " 'Precision: 54.51% \\t Recall: 52.33% \\t F1: 53.40%'\n",
      " 'Precision: 55.66% \\t Recall: 57.33% \\t F1: 56.49%']\n"
     ]
    }
   ],
   "source": [
    "# Gold Questions\n",
    "fold_files = [\"dev.predictions.0.step.{}.csv\".format(100 * i) for i in range(1, 20, 1)]\n",
    "\n",
    "fold_1_path = \"/home/snajafi/september_22/gold/\"\n",
    "fold_1_gold_file = \"./zero-shot-extraction/relation_splits/dev.1\"\n",
    "\n",
    "preprocess_the_prediction_files(fold_1_path, fold_files)\n",
    "fold_1_gold_scores = np.array(eval_the_prediction_files(fold_files, fold_1_gold_file))\n",
    "print(fold_1_gold_scores)"
   ]
  },
  {
   "cell_type": "code",
   "execution_count": 665,
   "metadata": {},
   "outputs": [
    {
     "name": "stdout",
     "output_type": "stream",
     "text": [
      "['Precision: 57.41% \\t Recall: 60.67% \\t F1: 59.00%'\n",
      " 'Precision: 65.57% \\t Recall: 53.33% \\t F1: 58.82%'\n",
      " 'Precision: 59.09% \\t Recall: 56.33% \\t F1: 57.68%'\n",
      " 'Precision: 56.62% \\t Recall: 61.33% \\t F1: 58.88%'\n",
      " 'Precision: 65.15% \\t Recall: 52.33% \\t F1: 58.04%'\n",
      " 'Precision: 60.00% \\t Recall: 54.00% \\t F1: 56.84%'\n",
      " 'Precision: 63.12% \\t Recall: 55.33% \\t F1: 58.97%'\n",
      " 'Precision: 61.32% \\t Recall: 58.67% \\t F1: 59.97%'\n",
      " 'Precision: 64.90% \\t Recall: 53.00% \\t F1: 58.35%'\n",
      " 'Precision: 52.47% \\t Recall: 56.67% \\t F1: 54.49%'\n",
      " 'Precision: 53.07% \\t Recall: 57.67% \\t F1: 55.27%'\n",
      " 'Precision: 59.43% \\t Recall: 48.33% \\t F1: 53.31%'\n",
      " 'Precision: 56.38% \\t Recall: 53.00% \\t F1: 54.64%'\n",
      " 'Precision: 55.48% \\t Recall: 54.00% \\t F1: 54.73%'\n",
      " 'Precision: 60.61% \\t Recall: 53.33% \\t F1: 56.74%'\n",
      " 'Precision: 58.89% \\t Recall: 53.00% \\t F1: 55.79%'\n",
      " 'Precision: 62.83% \\t Recall: 47.33% \\t F1: 53.99%'\n",
      " 'Precision: 54.13% \\t Recall: 59.00% \\t F1: 56.46%'\n",
      " 'Precision: 54.40% \\t Recall: 57.67% \\t F1: 55.99%']\n"
     ]
    }
   ],
   "source": [
    "# Gold Questions\n",
    "fold_files = [\"dev.predictions.1.step.{}.csv\".format(100 * i) for i in range(1, 20, 1)]\n",
    "\n",
    "fold_1_path = \"/home/snajafi/september_22/gold/\"\n",
    "fold_1_gold_file = \"./zero-shot-extraction/relation_splits/dev.1\"\n",
    "\n",
    "preprocess_the_prediction_files(fold_1_path, fold_files)\n",
    "fold_1_gold_scores = np.array(eval_the_prediction_files(fold_files, fold_1_gold_file))\n",
    "print(fold_1_gold_scores)"
   ]
  },
  {
   "cell_type": "code",
   "execution_count": null,
   "metadata": {},
   "outputs": [],
   "source": [
    "# Gold Questions\n",
    "fold_files = [\"dev.predictions.1.step.{}.csv\".format(100 * i) for i in range(1, 20, 1)]\n",
    "\n",
    "fold_1_path = \"/home/snajafi/september_22/gold/\"\n",
    "fold_1_gold_file = \"./zero-shot-extraction/relation_splits/dev.1\"\n",
    "\n",
    "preprocess_the_prediction_files(fold_1_path, fold_files)\n",
    "fold_1_gold_scores = np.array(eval_the_prediction_files(fold_files, fold_1_gold_file))\n",
    "print(fold_1_gold_scores)"
   ]
  },
  {
   "cell_type": "code",
   "execution_count": 663,
   "metadata": {},
   "outputs": [
    {
     "name": "stdout",
     "output_type": "stream",
     "text": [
      "['Precision: 52.27% \\t Recall: 53.67% \\t F1: 52.96%'\n",
      " 'Precision: 53.06% \\t Recall: 52.00% \\t F1: 52.53%'\n",
      " 'Precision: 50.00% \\t Recall: 58.33% \\t F1: 53.85%'\n",
      " 'Precision: 48.30% \\t Recall: 56.67% \\t F1: 52.15%'\n",
      " 'Precision: 64.71% \\t Recall: 36.67% \\t F1: 46.81%'\n",
      " 'Precision: 49.45% \\t Recall: 59.67% \\t F1: 54.08%'\n",
      " 'Precision: 61.84% \\t Recall: 42.67% \\t F1: 50.49%'\n",
      " 'Precision: 58.37% \\t Recall: 43.00% \\t F1: 49.52%'\n",
      " 'Precision: 45.97% \\t Recall: 45.67% \\t F1: 45.82%'\n",
      " 'Precision: 46.87% \\t Recall: 52.33% \\t F1: 49.45%'\n",
      " 'Precision: 54.31% \\t Recall: 48.33% \\t F1: 51.15%'\n",
      " 'Precision: 46.40% \\t Recall: 43.00% \\t F1: 44.64%'\n",
      " 'Precision: 60.26% \\t Recall: 15.67% \\t F1: 24.87%'\n",
      " 'Precision: 48.44% \\t Recall: 51.67% \\t F1: 50.00%'\n",
      " 'Precision: 57.41% \\t Recall: 41.33% \\t F1: 48.06%'\n",
      " 'Precision: 60.92% \\t Recall: 35.33% \\t F1: 44.73%'\n",
      " 'Precision: 48.46% \\t Recall: 47.33% \\t F1: 47.89%'\n",
      " 'Precision: 56.72% \\t Recall: 50.67% \\t F1: 53.52%'\n",
      " 'Precision: 49.22% \\t Recall: 52.67% \\t F1: 50.89%']\n"
     ]
    }
   ],
   "source": [
    "# Concat Questions\n",
    "fold_files = [\"dev.predictions.1.step.{}.csv\".format(100 * i) for i in range(1, 20, 1)]\n",
    "\n",
    "fold_1_path = \"/home/snajafi/september_22/concat/\"\n",
    "fold_1_concat_file = \"./zero-shot-extraction/relation_splits/dev.1\"\n",
    "\n",
    "preprocess_the_prediction_files(fold_1_path, fold_files)\n",
    "fold_1_concat_scores = np.array(eval_the_prediction_files(fold_files, fold_1_concat_file))\n",
    "print(fold_1_concat_scores)"
   ]
  },
  {
   "cell_type": "code",
   "execution_count": 666,
   "metadata": {},
   "outputs": [
    {
     "name": "stdout",
     "output_type": "stream",
     "text": [
      "['Precision: 53.42% \\t Recall: 54.67% \\t F1: 54.04%'\n",
      " 'Precision: 51.10% \\t Recall: 54.33% \\t F1: 52.67%'\n",
      " 'Precision: 56.61% \\t Recall: 55.67% \\t F1: 56.13%'\n",
      " 'Precision: 49.84% \\t Recall: 52.33% \\t F1: 51.06%'\n",
      " 'Precision: 66.15% \\t Recall: 42.33% \\t F1: 51.63%'\n",
      " 'Precision: 50.15% \\t Recall: 54.67% \\t F1: 52.31%'\n",
      " 'Precision: 68.84% \\t Recall: 49.33% \\t F1: 57.48%'\n",
      " 'Precision: 49.86% \\t Recall: 58.00% \\t F1: 53.62%'\n",
      " 'Precision: 52.33% \\t Recall: 52.33% \\t F1: 52.33%'\n",
      " 'Precision: 51.56% \\t Recall: 49.67% \\t F1: 50.59%'\n",
      " 'Precision: 52.26% \\t Recall: 54.00% \\t F1: 53.11%'\n",
      " 'Precision: 56.40% \\t Recall: 47.00% \\t F1: 51.27%'\n",
      " 'Precision: 52.79% \\t Recall: 41.00% \\t F1: 46.15%'\n",
      " 'Precision: 60.70% \\t Recall: 46.33% \\t F1: 52.55%'\n",
      " 'Precision: 64.36% \\t Recall: 43.33% \\t F1: 51.79%'\n",
      " 'Precision: 58.47% \\t Recall: 48.33% \\t F1: 52.92%'\n",
      " 'Precision: 51.03% \\t Recall: 49.33% \\t F1: 50.17%'\n",
      " 'Precision: 51.38% \\t Recall: 56.00% \\t F1: 53.59%'\n",
      " 'Precision: 47.43% \\t Recall: 52.33% \\t F1: 49.76%']\n"
     ]
    }
   ],
   "source": [
    "# Concat Questions\n",
    "fold_files = [\"dev.predictions.2.step.{}.csv\".format(100 * i) for i in range(1, 20, 1)]\n",
    "\n",
    "fold_1_path = \"/home/snajafi/september_22/concat/\"\n",
    "fold_1_concat_file = \"./zero-shot-extraction/relation_splits/dev.1\"\n",
    "\n",
    "preprocess_the_prediction_files(fold_1_path, fold_files)\n",
    "fold_1_concat_scores = np.array(eval_the_prediction_files(fold_files, fold_1_concat_file))\n",
    "print(fold_1_concat_scores)"
   ]
  },
  {
   "cell_type": "code",
   "execution_count": 614,
   "metadata": {},
   "outputs": [
    {
     "data": {
      "image/png": "[encoded data removed]",
      "text/plain": [
       "<Figure size 432x288 with 1 Axes>"
      ]
     },
     "metadata": {
      "needs_background": "light"
     },
     "output_type": "display_data"
    }
   ],
   "source": [
    "import numpy as np\n",
    "import matplotlib.pyplot as plt\n",
    "\n",
    "x = [i * 100 for i in range(1, 20, 1)]\n",
    "\n",
    "plt.plot(x, fold_1_gold_scores, 'X--', label=\"Gold Questions\")\n",
    "#plt.plot(x, fold_1_concat_scores, 'o--', label=\"Concat Questions\")\n",
    "plt.plot(x, fold_1_mml_mml_scores, '*--', label=\"MML-MML-Model\", color='red')\n",
    "plt.legend()\n",
    "plt.ylabel('Dev set F1')\n",
    "plt.xlabel('Training steps with batch size 2')\n",
    "plt.show()"
   ]
  },
  {
   "cell_type": "code",
   "execution_count": 415,
   "metadata": {},
   "outputs": [
    {
     "data": {
      "image/png": "[encoded data removed]",
      "text/plain": [
       "<Figure size 432x288 with 1 Axes>"
      ]
     },
     "metadata": {
      "needs_background": "light"
     },
     "output_type": "display_data"
    }
   ],
   "source": [
    "import numpy as np\n",
    "import matplotlib.pyplot as plt\n",
    "\n",
    "x = [i * 100 for i in range(1, 30, 1)]\n",
    "\n",
    "#plt.plot(x, gold_scores, 'X--', label=\"Gold Questions\")\n",
    "#plt.plot(x, concat_scores, 'o--', label=\"Concat Questions\")\n",
    "plt.plot(x, mml_mml_scores, 'p--', label=\"MML-MML Questions\", color='green')\n",
    "#plt.plot(x, length_10_mml_pgg_scores, '*--', label=\"MML-PGG Questions\", color='red')\n",
    "plt.plot(x, length_10_mml_mml_answer_only_scores, 'o--', label=\"Answer Only\", color='blue')\n",
    "plt.legend()\n",
    "plt.ylabel('Dev set precision')\n",
    "plt.xlabel('Training steps with batch size 4')\n",
    "plt.show()"
   ]
  },
  {
   "cell_type": "code",
   "execution_count": 416,
   "metadata": {},
   "outputs": [
    {
     "data": {
      "image/png": "[encoded data removed]",
      "text/plain": [
       "<Figure size 432x288 with 1 Axes>"
      ]
     },
     "metadata": {
      "needs_background": "light"
     },
     "output_type": "display_data"
    }
   ],
   "source": [
    "import numpy as np\n",
    "import matplotlib.pyplot as plt\n",
    "\n",
    "x = [i * 100 for i in range(1, 30, 1)]\n",
    "\n",
    "plt.plot(x, gold_scores[1:30], 'X--', label=\"Gold Questions\")\n",
    "plt.plot(x, concat_scores[1:30], 'o--', label=\"Concat Questions\")\n",
    "#plt.plot(x, mml_mml_scores[1:30], 'p--', label=\"MML-MML Questions\", color='green')\n",
    "plt.plot(x, length_10_mml_mml_answer_only_scores, '*--', label=\"MML-MML-BLUE Questions\", color='red')\n",
    "plt.legend()\n",
    "plt.ylabel('Dev set precision')\n",
    "plt.xlabel('Training steps with batch size 4')\n",
    "plt.show()"
   ]
  },
  {
   "cell_type": "code",
   "execution_count": 397,
   "metadata": {},
   "outputs": [
    {
     "data": {
      "image/png": "[encoded data removed]",
      "text/plain": [
       "<Figure size 432x288 with 1 Axes>"
      ]
     },
     "metadata": {
      "needs_background": "light"
     },
     "output_type": "display_data"
    }
   ],
   "source": [
    "import numpy as np\n",
    "import matplotlib.pyplot as plt\n",
    "\n",
    "x = [i * 100 for i in range(0, 30, 1)]\n",
    "\n",
    "plt.plot(x, gold_scores, 'X--', label=\"Gold Questions\")\n",
    "plt.plot(x, concat_scores, 'o--', label=\"Concat Questions\")\n",
    "plt.plot(x, mml_mml_scores, 'p--', label=\"MML-MML Questions\")\n",
    "plt.legend()\n",
    "plt.ylabel('Dev set precision')\n",
    "plt.xlabel('Training steps with batch size 4')\n",
    "plt.show()"
   ]
  },
  {
   "cell_type": "code",
   "execution_count": 322,
   "metadata": {},
   "outputs": [
    {
     "name": "stdout",
     "output_type": "stream",
     "text": [
      "53.28\n"
     ]
    }
   ],
   "source": [
    "# Test GOLD Predictions\n",
    "fold_files = [\"test.predictions.0.step.{}.csv\".format(100 * i) for i in range(1, 29, 1)]\n",
    "\n",
    "fold_1_path = \"/remote/cirrus-home/snajafi/september_9/re_gold_qa_models_without_unknowns/fold_1/\"\n",
    "fold_1_gold_file = \"./zero-shot-extraction/relation_splits/test.1\"\n",
    "\n",
    "preprocess_the_prediction_files(fold_1_path, fold_files)\n",
    "fold_1_gold_scores = np.array(eval_the_prediction_files(fold_files, fold_1_gold_file))\n",
    "\n",
    "gold_scores = (fold_1_gold_scores) / 1.0\n",
    "print(gold_scores[12])"
   ]
  },
  {
   "cell_type": "code",
   "execution_count": 323,
   "metadata": {},
   "outputs": [
    {
     "name": "stdout",
     "output_type": "stream",
     "text": [
      "58.95\n"
     ]
    }
   ],
   "source": [
    "# Concat Predictions\n",
    "fold_files = [\"test.predictions.0.step.{}.csv\".format(100 * i) for i in range(1, 29, 1)]\n",
    "\n",
    "fold_1_path = \"/remote/cirrus-home/snajafi/september_9/re_concat_qa_models_without_unknowns/fold_1/\"\n",
    "fold_1_gold_file = \"./zero-shot-extraction/relation_splits/test.1\"\n",
    "\n",
    "preprocess_the_prediction_files(fold_1_path, fold_files)\n",
    "fold_1_concat_scores = np.array(eval_the_prediction_files(fold_files, fold_1_gold_file))\n",
    "\n",
    "concat_scores = (fold_1_concat_scores) / 1.0\n",
    "print(concat_scores[5])"
   ]
  },
  {
   "cell_type": "code",
   "execution_count": 321,
   "metadata": {},
   "outputs": [
    {
     "data": {
      "image/png": "[encoded data removed]",
      "text/plain": [
       "<Figure size 432x288 with 1 Axes>"
      ]
     },
     "metadata": {
      "needs_background": "light"
     },
     "output_type": "display_data"
    }
   ],
   "source": [
    "import numpy as np\n",
    "import matplotlib.pyplot as plt\n",
    "\n",
    "x = [i * 100 for i in range(1, 29, 1)]\n",
    "\n",
    "plt.plot(x, gold_scores, 'x--', label=\"Gold Questions\")\n",
    "plt.plot(x, concat_scores, 'o--', label=\"Concat Questions\")\n",
    "#plt.plot(x, length_10_mml_mml_scores, 'p--', label=\"MML-MML Questions\")\n",
    "plt.legend()\n",
    "plt.ylabel('Dev set precision')\n",
    "plt.xlabel('Training steps with batch size 4')\n",
    "plt.show()"
   ]
  },
  {
   "cell_type": "code",
   "execution_count": null,
   "metadata": {},
   "outputs": [],
   "source": []
  }
 ],
 "metadata": {
  "kernelspec": {
   "display_name": "Python 3",
   "language": "python",
   "name": "python3"
  },
  "language_info": {
   "codemirror_mode": {
    "name": "ipython",
    "version": 3
   },
   "file_extension": ".py",
   "mimetype": "text/x-python",
   "name": "python",
   "nbconvert_exporter": "python",
   "pygments_lexer": "ipython3",
   "version": "3.6.9"
  }
 },
 "nbformat": 4,
 "nbformat_minor": 4
}

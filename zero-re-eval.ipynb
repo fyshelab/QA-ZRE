{
 "cells": [
  {
   "cell_type": "code",
   "execution_count": 34,
   "metadata": {},
   "outputs": [],
   "source": [
    "import pandas as pd\n",
    "\n",
    "# from http://nlp.cs.washington.edu/zeroshot/evaluate.py\n",
    "import os\n",
    "import codecs\n",
    "import re\n",
    "from itertools import groupby\n",
    "import string\n",
    "import sys\n",
    "import numpy as np\n",
    "\n",
    "PUNCTUATION = set(string.punctuation)\n",
    "\n",
    "def eval_zero_re(test_file, answer_file):\n",
    "    q_aprf = read_results(test_file, answer_file)\n",
    "    return pretify(q_aprf)\n",
    "\n",
    "def read_results(test_set, answer_file):\n",
    "    with codecs.open(test_set, 'r', 'utf-8') as fin:\n",
    "        data = [line.strip().split('\\t') for line in fin]\n",
    "    metadata = [x[:4] for x in data]\n",
    "    gold = [set(x[4:]) for x in data]\n",
    "\n",
    "    new_gold = gold  # for including unknowns.\n",
    "\n",
    "    with codecs.open(answer_file, 'r', 'utf-8') as fin:\n",
    "        answers = [line.strip() for line in fin]\n",
    "\n",
    "    new_answers = []\n",
    "\n",
    "    # ignore the header in answers\n",
    "    for answer in answers[1:]:\n",
    "        if answer != 'no_answer':\n",
    "            new_answers.append(answer)\n",
    "        else:\n",
    "            new_answers.append(\"\")\n",
    "\n",
    "    telemetry = []\n",
    "    for m, g, a in zip(metadata, new_gold, new_answers):\n",
    "        stats = score_fn(g, a)\n",
    "        telemetry.append([m[0], m[1], str(len(g) > 0), stats])\n",
    "    return aprf(telemetry)\n",
    "\n",
    "\n",
    "def parse_no_answers(results):\n",
    "    p_answer = [a for i, a in sorted([(int(i), a) for i, a in results[0]['scores'].items()])]\n",
    "    p_no_answer = [a for i, a in sorted([(int(i), a) for i, a in results[0]['na'].items()])]\n",
    "\n",
    "    import numpy as np\n",
    "    return [answer > no_answer for answer, no_answer in zip(p_answer, p_no_answer)]\n",
    "\n",
    "\n",
    "def gb(collection, keyfunc):\n",
    "    return [(k, list(g)) for k, g in groupby(sorted(collection, key=keyfunc), keyfunc)]\n",
    "\n",
    "\n",
    "def aprf(g):\n",
    "    tp, tn, sys_pos, real_pos = sum(map(lambda x: x[-1], g))\n",
    "    total = len(g)\n",
    "    # a = float(tp + tn) / total\n",
    "    # nr = tn / float(total - real_pos)\n",
    "    # npr = tn / float(total - sys_pos)\n",
    "    if tp == 0:\n",
    "        p = r = f = 0.0\n",
    "    else:\n",
    "        p = tp / float(sys_pos)\n",
    "        r = tp / float(real_pos)\n",
    "        f = 2 * p * r / (p + r)\n",
    "    # return np.array((a, p, r, f, npr, nr))\n",
    "    return np.array((p, r, f))\n",
    "\n",
    "\n",
    "def score_fn(gold, answer):\n",
    "    if len(gold) > 0:\n",
    "        gold = set.union(*[simplify(g) for g in gold])\n",
    "    answer = simplify(answer)\n",
    "    result = np.zeros(4)\n",
    "    if answer == gold:\n",
    "        if len(gold) > 0:\n",
    "            result[0] += 1\n",
    "        else:\n",
    "            result[1] += 1\n",
    "    if len(answer) > 0:\n",
    "        result[2] += 1\n",
    "    if len(gold) > 0:\n",
    "        result[3] += 1\n",
    "    return result\n",
    "\n",
    "\n",
    "def simplify(answer):\n",
    "    return set(''.join(c for c in t if c not in PUNCTUATION) for t in answer.strip().lower().split()) - {'the', 'a', 'an', 'and', ''}\n",
    "\n",
    "\n",
    "def pretify(results):\n",
    "    return ' \\t '.join([': '.join((k, v)) for k, v in zip(['Precision', 'Recall', 'F1'], map(lambda r: '{0:.2f}%'.format(r*100), results))])"
   ]
  },
  {
   "cell_type": "code",
   "execution_count": 35,
   "metadata": {},
   "outputs": [],
   "source": [
    "def preprocess_the_prediction_files(main_path, list_of_files):\n",
    "    for file in list_of_files:\n",
    "        df = pd.read_csv(os.path.join(main_path, file), sep=',')\n",
    "        df[\"predictions_str\"].to_csv(os.path.join(\"/tmp/\", file), sep='\\t', header=True, index=False)\n",
    "\n",
    "def eval_the_prediction_files(list_of_files, gold_file):\n",
    "    scores = {}\n",
    "    scores_list = []\n",
    "    for file in list_of_files:\n",
    "        score = eval_zero_re(gold_file, os.path.join(\"/tmp/\", file))\n",
    "        scores[score] = file\n",
    "        scores_list.append(score)\n",
    "    return scores, scores_list\n",
    "        "
   ]
  },
  {
   "cell_type": "code",
   "execution_count": 49,
   "metadata": {},
   "outputs": [
    {
     "name": "stdout",
     "output_type": "stream",
     "text": [
      "[40.72, 53.22, 51.25, 53.53, 50.4, 50.11, 51.81, 51.78, 55.67, 50.46, 46.48, 49.0, 42.7, 47.66, 47.41, 45.59, 44.3, 51.36, 46.56, 49.21, 46.6, 41.39, 48.52, 36.95, 52.47, 48.94, 44.86, 43.05, 47.75, 39.19, 37.89, 42.11, 44.36, 38.7, 45.51, 38.96, 47.53, 34.8, 38.53, 43.12, 39.3, 39.29, 38.85, 49.9, 46.15, 40.8, 42.6, 43.41, 40.08, 40.42, 38.91, 41.43, 44.53, 43.2, 36.28, 38.22, 37.09, 43.84, 36.05, 38.32, 38.98, 38.67, 37.25, 38.98, 34.48, 37.09, 37.42, 40.56, 39.68, 36.0, 42.0, 40.41, 42.75, 43.76, 40.96, 42.35, 41.94, 42.4, 40.82, 40.83, 40.0, 37.64, 39.59, 38.48, 40.32, 40.5, 35.51, 42.54, 40.57, 40.48, 37.38, 36.99, 33.85, 37.11, 35.04, 37.76, 30.43, 33.85, 33.56, 34.39, 35.95, 40.48, 36.14, 40.67, 36.96, 38.25, 39.01, 37.3, 37.95, 36.03, 39.53, 32.67, 33.06, 31.12, 36.15, 33.0, 31.42, 28.57, 33.33, 31.91, 33.95, 37.05, 30.84, 36.73, 37.55, 36.44, 36.4, 36.51, 38.33, 38.16, 38.49, 38.52, 40.0]\n",
      "Precision: 55.67% \t Recall: 55.67% \t F1: 55.67%\n",
      "gold_fold_1.dev.predictions.0.step.800.csv\n"
     ]
    }
   ],
   "source": [
    "# GOLD Predictions on the dev 1 fold 1.\n",
    "fold_files = [\"gold_fold_1.dev.predictions.0.step.{}.csv\".format(100 * i) for i in range(0, 132, 1)]\n",
    "fold_files.append(\"gold_fold_1.dev.predictions.0.full.csv\")\n",
    "fold_0_path = \"~/gold_fold_1/\"\n",
    "fold_0_gold_file = \"./zero-shot-extraction/relation_splits/dev.0\"\n",
    "\n",
    "preprocess_the_prediction_files(fold_0_path, fold_files)\n",
    "fold_0_gold_scores, scores_list = eval_the_prediction_files(fold_files, fold_0_gold_file)\n",
    "gold_f1s = []\n",
    "for score in scores_list:\n",
    "    gold_f1s.append(float(score.split()[-1][0:-1]))\n",
    "\n",
    "fold_1_gold_f1s = np.array(gold_f1s)\n",
    "print(gold_f1s)\n",
    "fold_0_gold_f1_dict = {float(row.split()[-1][0:-1]): row for row in fold_0_gold_scores.keys()}\n",
    "max_f1_gold_0 = max(fold_0_gold_f1_dict.keys())\n",
    "print(fold_0_gold_f1_dict[max_f1_gold_0])\n",
    "print(fold_0_gold_scores[fold_0_gold_f1_dict[max_f1_gold_0]])"
   ]
  },
  {
   "cell_type": "code",
   "execution_count": 40,
   "metadata": {},
   "outputs": [
    {
     "name": "stdout",
     "output_type": "stream",
     "text": [
      "{'Precision: 62.43% \\t Recall: 66.25% \\t F1: 64.28%': 'gold_fold_1.test.predictions.0.step.800.csv'}\n"
     ]
    }
   ],
   "source": [
    "# GOLD Predictions on the dev 1 fold 1.\n",
    "fold_files = [\"gold_fold_1.test.predictions.0.step.800.csv\"]\n",
    "fold_0_path = \"~/gold_fold_1/\"\n",
    "fold_0_gold_file = \"./zero-shot-extraction/relation_splits/test.0\"\n",
    "\n",
    "preprocess_the_prediction_files(fold_0_path, fold_files)\n",
    "fold_0_gold_scores_test, scores_list = eval_the_prediction_files(fold_files, fold_0_gold_file)\n",
    "print(fold_0_gold_scores_test)"
   ]
  },
  {
   "cell_type": "code",
   "execution_count": 48,
   "metadata": {},
   "outputs": [
    {
     "name": "stdout",
     "output_type": "stream",
     "text": [
      "45\n",
      "[26.14, 56.35, 56.25, 47.44, 49.69, 48.54, 48.59, 49.21, 48.79, 51.8, 47.04, 47.76, 43.64, 45.49, 46.06, 40.48, 41.72, 45.83, 46.43, 42.65, 48.21, 42.35, 46.39, 38.98, 44.49, 51.72, 42.95, 50.0, 47.4, 35.7, 44.44, 48.02, 43.41, 38.56, 41.0, 33.11, 48.12, 45.49, 37.88, 40.57, 44.98, 41.41, 45.45, 51.27, 52.22, 42.47, 47.77, 44.4, 39.67, 41.58, 38.75, 40.61, 39.85, 43.44, 37.52, 37.79, 39.83, 45.26, 41.45, 37.02, 33.41, 38.0, 35.11, 42.17, 35.5, 39.6, 32.52, 34.95, 37.71, 34.4, 40.56, 36.26, 39.58, 37.04, 40.61, 37.32, 43.44, 32.85, 35.24, 37.96, 32.42, 28.82, 35.67, 31.19, 36.02, 36.07, 33.26, 30.48, 34.66, 37.5, 38.24, 35.73, 33.69, 34.85, 31.97, 31.33, 38.48, 32.72, 29.18, 35.22, 36.59, 38.65, 40.45, 38.13, 36.73, 38.49, 34.47, 26.51, 30.26, 33.06, 32.96, 26.3, 33.21, 29.26, 28.57, 29.69, 28.94, 27.89, 28.25, 35.85, 33.33, 30.77, 38.23, 34.97, 35.7, 38.39, 35.11, 35.59, 35.86, 34.71, 35.88, 36.54, 36.71]\n",
      "Precision: 58.91% \t Recall: 54.00% \t F1: 56.35%\n",
      "concat_fold_1.dev.predictions.0.step.100.csv\n"
     ]
    }
   ],
   "source": [
    "# Concat Predictions on the dev 1 fold 1.\n",
    "fold_files = [\"concat_fold_1.dev.predictions.0.step.{}.csv\".format(100 * i) for i in range(0, 132, 1)]\n",
    "fold_files.append(\"concat_fold_1.dev.predictions.0.full.csv\")\n",
    "fold_0_path = \"~/concat_fold_1/\"\n",
    "fold_0_concat_file = \"./zero-shot-extraction/relation_splits/dev.0\"\n",
    "\n",
    "preprocess_the_prediction_files(fold_0_path, fold_files)\n",
    "fold_0_concat_scores, scores_list = eval_the_prediction_files(fold_files, fold_0_concat_file)\n",
    "concat_f1s = []\n",
    "index = 1\n",
    "for score in scores_list:\n",
    "    score_num = float(score.split()[-1][0:-1])\n",
    "    concat_f1s.append(score_num)\n",
    "    if score_num == 52.22:\n",
    "        print(index)\n",
    "    index += 1\n",
    "    \n",
    "\n",
    "fold_1_concat_f1s = np.array(concat_f1s)\n",
    "print(concat_f1s)\n",
    "fold_0_concat_f1_dict = {float(row.split()[-1][0:-1]): row for row in fold_0_concat_scores.keys()}\n",
    "max_f1_concat_0 = max(fold_0_concat_f1_dict.keys())\n",
    "print(fold_0_concat_f1_dict[max_f1_concat_0])\n",
    "print(fold_0_concat_scores[fold_0_concat_f1_dict[max_f1_concat_0]])"
   ]
  },
  {
   "cell_type": "code",
   "execution_count": 46,
   "metadata": {},
   "outputs": [
    {
     "name": "stdout",
     "output_type": "stream",
     "text": [
      "{'Precision: 60.45% \\t Recall: 55.82% \\t F1: 58.04%': 'concat_fold_1.test.predictions.0.step.100.csv', 'Precision: 57.28% \\t Recall: 54.18% \\t F1: 55.69%': 'concat_fold_1.test.predictions.0.step.4400.csv', 'Precision: 64.01% \\t Recall: 51.10% \\t F1: 56.83%': 'concat_fold_1.test.predictions.0.step.200.csv'}\n"
     ]
    }
   ],
   "source": [
    "# Concat Predictions on the dev 1 fold 1.\n",
    "fold_files = [\"concat_fold_1.test.predictions.0.step.100.csv\", \"concat_fold_1.test.predictions.0.step.4400.csv\", \"concat_fold_1.test.predictions.0.step.200.csv\"]\n",
    "fold_0_path = \"~/concat_fold_1/\"\n",
    "fold_0_gold_file = \"./zero-shot-extraction/relation_splits/test.0\"\n",
    "\n",
    "preprocess_the_prediction_files(fold_0_path, fold_files)\n",
    "fold_0_concat_scores_test, scores_list = eval_the_prediction_files(fold_files, fold_0_gold_file)\n",
    "print(fold_0_concat_scores_test)"
   ]
  },
  {
   "cell_type": "code",
   "execution_count": 52,
   "metadata": {},
   "outputs": [
    {
     "data": {
      "image/png": "[encoded data removed]",
      "text/plain": [
       "<Figure size 432x288 with 1 Axes>"
      ]
     },
     "metadata": {
      "needs_background": "light"
     },
     "output_type": "display_data"
    }
   ],
   "source": [
    "import numpy as np\n",
    "import matplotlib.pyplot as plt\n",
    "\n",
    "x = [i * 100 for i in range(0, 50, 1)]\n",
    "\n",
    "plt.plot(x, fold_1_gold_f1s[:50], '--', label=\"Gold Questions\")\n",
    "plt.plot(x, fold_1_concat_f1s[:50], '--', label=\"Concat Questions\")\n",
    "#plt.plot(x, mml_mml_scores, 'p--', label=\"MML-MML Questions\", color='green')\n",
    "#plt.plot(x, length_10_mml_pgg_scores, '*--', label=\"MML-PGG Questions\", color='red')\n",
    "#plt.plot(x, length_10_mml_mml_answer_only_scores, 'o--', label=\"Answer Only\", color='blue')\n",
    "plt.legend()\n",
    "plt.ylabel('Dev set F1 Score')\n",
    "plt.xlabel('Training steps with batch size 64')\n",
    "plt.show()"
   ]
  },
  {
   "cell_type": "code",
   "execution_count": null,
   "metadata": {},
   "outputs": [],
   "source": []
  }
 ],
 "metadata": {
  "kernelspec": {
   "display_name": "Python 3 (ipykernel)",
   "language": "python",
   "name": "python3"
  },
  "language_info": {
   "codemirror_mode": {
    "name": "ipython",
    "version": 3
   },
   "file_extension": ".py",
   "mimetype": "text/x-python",
   "name": "python",
   "nbconvert_exporter": "python",
   "pygments_lexer": "ipython3",
   "version": "3.8.10"
  }
 },
 "nbformat": 4,
 "nbformat_minor": 4
}

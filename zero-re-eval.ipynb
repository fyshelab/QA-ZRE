{
 "cells": [
  {
   "cell_type": "code",
   "execution_count": 1,
   "metadata": {},
   "outputs": [],
   "source": [
    "import pandas as pd\n",
    "\n",
    "# from http://nlp.cs.washington.edu/zeroshot/evaluate.py\n",
    "import os\n",
    "import codecs\n",
    "import re\n",
    "from itertools import groupby\n",
    "import string\n",
    "import sys\n",
    "import numpy as np\n",
    "\n",
    "PUNCTUATION = set(string.punctuation)\n",
    "\n",
    "def eval_zero_re(test_file, answer_file):\n",
    "    q_aprf = read_results(test_file, answer_file)\n",
    "    return pretify(q_aprf)\n",
    "\n",
    "def read_results(test_set, answer_file):\n",
    "    with codecs.open(test_set, 'r', 'utf-8') as fin:\n",
    "        data = [line.strip().split('\\t') for line in fin]\n",
    "    metadata = [x[:4] for x in data]\n",
    "    gold = [set(x[4:]) for x in data]\n",
    "\n",
    "    new_gold = []\n",
    "    for g in gold:\n",
    "        if len(g) > 0:\n",
    "            new_gold.append(g)\n",
    "\n",
    "    with codecs.open(answer_file, 'r', 'utf-8') as fin:\n",
    "        answers = [line.strip() for line in fin]\n",
    "\n",
    "    new_answers = answers[1:]\n",
    "\n",
    "    telemetry = []\n",
    "    for m, g, a in zip(metadata, new_gold, new_answers):\n",
    "        stats = score_fn(g, a)\n",
    "        telemetry.append([m[0], m[1], str(len(g) > 0), stats])\n",
    "    return aprf(telemetry)\n",
    "\n",
    "\n",
    "def parse_no_answers(results):\n",
    "    p_answer = [a for i, a in sorted([(int(i), a) for i, a in results[0]['scores'].items()])]\n",
    "    p_no_answer = [a for i, a in sorted([(int(i), a) for i, a in results[0]['na'].items()])]\n",
    "\n",
    "    import numpy as np\n",
    "    return [answer > no_answer for answer, no_answer in zip(p_answer, p_no_answer)]\n",
    "\n",
    "\n",
    "def gb(collection, keyfunc):\n",
    "    return [(k, list(g)) for k, g in groupby(sorted(collection, key=keyfunc), keyfunc)]\n",
    "\n",
    "\n",
    "def aprf(g):\n",
    "    tp, tn, sys_pos, real_pos = sum(map(lambda x: x[-1], g))\n",
    "    total = len(g)\n",
    "    # a = float(tp + tn) / total\n",
    "    # nr = tn / float(total - real_pos)\n",
    "    # npr = tn / float(total - sys_pos)\n",
    "    if tp == 0:\n",
    "        p = r = f = 0.0\n",
    "    else:\n",
    "        p = tp / float(sys_pos)\n",
    "        r = tp / float(real_pos)\n",
    "        f = 2 * p * r / (p + r)\n",
    "    # return np.array((a, p, r, f, npr, nr))\n",
    "    return np.array((p, r, f))\n",
    "\n",
    "\n",
    "def score_fn(gold, answer):\n",
    "    if len(gold) > 0:\n",
    "        gold = set.union(*[simplify(g) for g in gold])\n",
    "    answer = simplify(answer)\n",
    "    result = np.zeros(4)\n",
    "    if answer == gold:\n",
    "        if len(gold) > 0:\n",
    "            result[0] += 1\n",
    "        else:\n",
    "            result[1] += 1\n",
    "    if len(answer) > 0:\n",
    "        result[2] += 1\n",
    "    if len(gold) > 0:\n",
    "        result[3] += 1\n",
    "    return result\n",
    "\n",
    "\n",
    "def simplify(answer):\n",
    "    return set(''.join(c for c in t if c not in PUNCTUATION) for t in answer.strip().lower().split()) - {'the', 'a', 'an', 'and', ''}\n",
    "\n",
    "\n",
    "def pretify(results):\n",
    "    return ' \\t '.join([': '.join((k, v)) for k, v in zip(['Precision', 'Recall', 'F1'], map(lambda r: '{0:.2f}%'.format(r*100), results))])"
   ]
  },
  {
   "cell_type": "code",
   "execution_count": 3,
   "metadata": {},
   "outputs": [],
   "source": [
    "def preprocess_the_prediction_files(main_path, list_of_files):\n",
    "    for file in list_of_files:\n",
    "        df = pd.read_csv(os.path.join(main_path, file), sep=',')\n",
    "        df[\"predictions_str\"].to_csv(os.path.join(\"/tmp/\", file), sep='\\t', header=True, index=False)\n",
    "\n",
    "def eval_the_prediction_files(list_of_files, gold_file):\n",
    "    scores = {}\n",
    "    scores_list = []\n",
    "    for file in list_of_files:\n",
    "        score = eval_zero_re(gold_file, os.path.join(\"/tmp/\", file))\n",
    "        scores[score] = file\n",
    "        scores_list.append(score)\n",
    "    return scores, scores_list\n",
    "        "
   ]
  },
  {
   "cell_type": "code",
   "execution_count": 15,
   "metadata": {},
   "outputs": [
    {
     "name": "stdout",
     "output_type": "stream",
     "text": [
      "[40.72, 53.22, 51.25, 53.53, 50.4, 50.11, 51.81, 51.78, 55.67, 50.46, 46.48, 49.0, 42.7, 47.66, 47.41, 45.59, 44.3, 51.36, 46.56, 49.21, 46.6, 41.39, 48.52, 36.95, 52.47, 48.94, 44.86, 43.05, 47.75, 39.19, 37.89, 42.11, 44.36, 38.7, 45.51, 38.96, 47.53, 34.8, 38.53, 43.12, 39.3, 39.29, 38.85, 49.9, 46.15, 40.8, 42.6, 43.41, 40.08, 40.42, 38.91, 41.43, 44.53, 43.2, 36.28, 38.22, 37.09, 43.84, 36.05, 38.32, 38.98, 38.67, 37.25, 38.98, 34.48, 37.09, 37.42, 40.56, 39.68, 36.0, 42.0, 40.41, 42.75, 43.76, 40.96, 42.35, 41.94, 42.4, 40.82, 40.83, 40.0, 37.64, 39.59, 38.48, 40.32, 40.5, 35.51, 42.54, 40.57, 40.48, 37.38, 36.99, 33.85, 37.11, 35.04, 37.76, 30.43, 33.85, 33.56, 34.39, 35.95, 40.48, 36.14, 40.67, 36.96, 38.25, 39.01, 37.3, 37.95, 36.03, 39.53, 32.67, 33.06, 31.12, 36.15, 33.0, 31.42, 28.57, 33.33, 31.91, 33.95, 37.05, 30.84, 36.73, 37.55, 36.44, 36.4, 36.51, 38.33, 38.16, 38.49, 38.52, 40.0, 33.27, 36.09, 37.66, 38.08, 39.55, 36.55, 39.05, 35.93, 40.71, 43.41, 37.08, 38.79, 36.51, 37.94, 38.42, 34.12, 35.63, 40.08, 39.31, 35.71, 35.0, 36.59, 34.46, 37.8, 35.64, 34.35, 36.19, 36.66, 35.87, 38.25, 35.04, 36.51, 39.42, 34.44, 39.53, 36.36, 38.43, 40.16, 38.3, 34.93, 34.38, 33.05, 32.0, 35.06, 37.19, 34.27, 31.98, 31.46, 38.1, 40.24, 40.87, 39.53, 40.57, 38.51, 36.32, 35.67, 37.33, 37.67, 31.56, 35.48, 35.66, 35.05, 40.24, 42.07, 38.4, 36.29, 37.15, 36.77, 38.99, 38.62, 38.77, 37.7, 35.85, 34.68, 38.23, 34.98, 32.52, 29.26, 34.33, 36.82, 36.33, 36.6, 34.96, 33.19, 36.17, 36.08, 38.11, 35.77, 36.21, 34.17, 36.59, 37.96, 36.17, 35.77, 37.45, 37.45, 32.49, 32.67, 36.36, 36.4, 41.45, 43.43, 38.71, 38.24, 38.34, 37.28, 32.31, 38.02, 33.61, 33.48, 31.35, 39.01, 35.76, 34.51, 35.44, 32.5, 32.6, 32.44, 40.54, 37.64, 36.84, 33.71, 34.2, 29.2, 36.58, 35.34, 27.31, 28.44, 29.11, 30.37, 35.7, 32.53]\n",
      "Precision: 55.67% \t Recall: 55.67% \t F1: 55.67%\n",
      "gold_fold_1.dev.predictions.0.step.800.csv\n"
     ]
    }
   ],
   "source": [
    "# GOLD Predictions on the dev 1 fold 1.\n",
    "fold_files = [\"gold_fold_1.dev.predictions.0.step.{}.csv\".format(100 * i) for i in range(0, 132, 1)]\n",
    "fold_files.append(\"gold_fold_1.dev.predictions.0.full.csv\")\n",
    "fold_files.extend([\"gold_fold_1.dev.predictions.1.step.{}.csv\".format(100 * i) for i in range(1, 132, 1)])\n",
    "fold_files.append(\"gold_fold_1.dev.predictions.1.full.csv\")\n",
    "fold_0_path = \"~/gold_fold_1/\"\n",
    "fold_0_gold_file = \"./zero-shot-extraction/relation_splits/dev.0\"\n",
    "\n",
    "preprocess_the_prediction_files(fold_0_path, fold_files)\n",
    "fold_0_gold_scores, scores_list = eval_the_prediction_files(fold_files, fold_0_gold_file)\n",
    "gold_f1s = []\n",
    "for score in scores_list:\n",
    "    gold_f1s.append(float(score.split()[-1][0:-1]))\n",
    "\n",
    "fold_1_gold_f1s = np.array(gold_f1s)\n",
    "print(gold_f1s)\n",
    "fold_0_gold_f1_dict = {float(row.split()[-1][0:-1]): row for row in fold_0_gold_scores.keys()}\n",
    "max_f1_gold_0 = max(fold_0_gold_f1_dict.keys())\n",
    "print(fold_0_gold_f1_dict[max_f1_gold_0])\n",
    "print(fold_0_gold_scores[fold_0_gold_f1_dict[max_f1_gold_0]])"
   ]
  },
  {
   "cell_type": "code",
   "execution_count": 8,
   "metadata": {},
   "outputs": [
    {
     "name": "stdout",
     "output_type": "stream",
     "text": [
      "[66.27, 65.0, 64.69, 63.98, 62.7, 64.73, 60.6, 64.29, 62.74, 61.91, 61.73, 62.61, 63.93, 64.2, 59.19, 60.9, 62.88, 60.62, 61.5, 63.31, 60.96, 64.14, 54.75, 61.92, 63.44, 59.55, 61.01, 58.36, 59.05, 62.32, 60.26, 60.85, 60.97, 59.67, 61.54, 59.26, 59.74, 59.31, 58.67, 59.89, 61.08, 62.24, 62.69, 60.59, 60.63, 61.8, 60.0, 61.21, 61.08, 59.3, 60.15, 60.65, 59.9, 59.97, 60.17, 61.15, 62.54, 59.87, 59.89, 60.55, 58.18, 58.74, 60.31, 57.27, 58.18, 59.49, 58.48, 60.47, 59.68, 59.21, 60.09, 59.52, 58.91, 59.29, 59.68, 59.46, 59.1, 59.53, 59.39, 58.42, 59.42, 60.11, 57.86, 62.03, 61.18, 58.49, 59.25, 60.71, 60.96, 60.01, 59.24, 57.48, 59.29, 58.68, 61.11, 58.83, 58.56, 56.03, 59.44, 59.19, 60.45, 58.8, 59.31, 60.1, 58.14, 58.91, 59.47, 57.43, 57.46, 61.11, 58.17, 60.52, 57.35, 59.73, 58.33, 58.08, 58.8, 57.13, 55.37, 58.06, 58.78, 57.95, 57.88, 59.04, 58.9, 59.82, 60.83, 58.85, 59.88, 58.44, 57.95]\n"
     ]
    }
   ],
   "source": [
    "# GOLD Predictions on the dev 1 fold 1.\n",
    "fold_files = [\"gold_fold_1.test.predictions.0.step.{}.csv\".format(100 * i) for i in range(1, 132, 1)]\n",
    "#fold_files.append(\"gold_fold_1.test.predictions.0.full.csv\")\n",
    "fold_0_path = \"~/gold_fold_1/\"\n",
    "fold_0_gold_file = \"./zero-shot-extraction/relation_splits/test.0\"\n",
    "\n",
    "preprocess_the_prediction_files(fold_0_path, fold_files)\n",
    "fold_0_gold_scores, scores_list = eval_the_prediction_files(fold_files, fold_0_gold_file)\n",
    "gold_f1s = []\n",
    "for score in scores_list:\n",
    "    gold_f1s.append(float(score.split()[-1][0:-1]))\n",
    "\n",
    "test_fold_1_gold_f1s = np.array(gold_f1s)\n",
    "print(gold_f1s)\n",
    "#fold_0_gold_f1_dict = {float(row.split()[-1][0:-1]): row for row in fold_0_gold_scores.keys()}\n",
    "#max_f1_gold_0 = max(fold_0_gold_f1_dict.keys())\n",
    "#print(fold_0_gold_f1_dict[max_f1_gold_0])\n",
    "#print(fold_0_gold_scores[fold_0_gold_f1_dict[max_f1_gold_0]])"
   ]
  },
  {
   "cell_type": "code",
   "execution_count": 14,
   "metadata": {},
   "outputs": [
    {
     "name": "stdout",
     "output_type": "stream",
     "text": [
      "{'Precision: 62.43% \\t Recall: 66.25% \\t F1: 64.28%': 'gold_fold_1.test.predictions.0.step.800.csv'}\n"
     ]
    }
   ],
   "source": [
    "# GOLD Predictions on the dev 1 fold 1.\n",
    "fold_files = [\"gold_fold_1.test.predictions.0.step.800.csv\"]\n",
    "fold_0_path = \"~/gold_fold_1/\"\n",
    "fold_0_gold_file = \"./zero-shot-extraction/relation_splits/test.0\"\n",
    "\n",
    "preprocess_the_prediction_files(fold_0_path, fold_files)\n",
    "fold_0_gold_scores_test, scores_list = eval_the_prediction_files(fold_files, fold_0_gold_file)\n",
    "print(fold_0_gold_scores_test)"
   ]
  },
  {
   "cell_type": "code",
   "execution_count": 13,
   "metadata": {},
   "outputs": [
    {
     "name": "stdout",
     "output_type": "stream",
     "text": [
      "[26.14, 56.35, 56.25, 47.44, 49.69, 48.54, 48.59, 49.21, 48.79, 51.8, 47.04, 47.76, 43.64, 45.49, 46.06, 40.48, 41.72, 45.83, 46.43, 42.65, 48.21, 42.35, 46.39, 38.98, 44.49, 51.72, 42.95, 50.0, 47.4, 35.7, 44.44, 48.02, 43.41, 38.56, 41.0, 33.11, 48.12, 45.49, 37.88, 40.57, 44.98, 41.41, 45.45, 51.27, 52.22, 42.47, 47.77, 44.4, 39.67, 41.58, 38.75, 40.61, 39.85, 43.44, 37.52, 37.79, 39.83, 45.26, 41.45, 37.02, 33.41, 38.0, 35.11, 42.17, 35.5, 39.6, 32.52, 34.95, 37.71, 34.4, 40.56, 36.26, 39.58, 37.04, 40.61, 37.32, 43.44, 32.85, 35.24, 37.96, 32.42, 28.82, 35.67, 31.19, 36.02, 36.07, 33.26, 30.48, 34.66, 37.5, 38.24, 35.73, 33.69, 34.85, 31.97, 31.33, 38.48, 32.72, 29.18, 35.22, 36.59, 38.65, 40.45, 38.13, 36.73, 38.49, 34.47, 26.51, 30.26, 33.06, 32.96, 26.3, 33.21, 29.26, 28.57, 29.69, 28.94, 27.89, 28.25, 35.85, 33.33, 30.77, 38.23, 34.97, 35.7, 38.39, 35.11, 35.59, 35.86, 34.71, 35.88, 36.54, 36.71, 33.61, 36.84, 31.47, 35.36, 33.92, 32.67, 35.99, 37.34, 36.94, 38.19, 34.86, 34.89, 36.69, 33.61, 33.13, 25.51, 32.54, 31.03, 33.83, 31.75, 29.66, 29.28, 32.07, 34.47, 36.86, 32.23, 37.76, 33.14, 32.58, 32.37, 31.28, 35.45, 37.24, 33.06, 36.23, 31.18, 35.38, 38.55, 39.61, 36.51, 34.29, 30.38, 33.13, 32.98, 31.2, 30.74, 33.33, 32.31, 33.68, 35.55, 34.87, 32.37, 30.06, 29.92, 28.39, 27.47, 32.22, 25.55, 24.28, 26.14, 30.33, 30.8, 27.72, 30.29, 28.51, 24.84, 31.91, 25.92, 29.02, 32.23, 30.3, 30.6, 33.67, 31.42, 31.16, 34.4, 33.74, 31.24, 34.44, 32.95, 32.88, 32.53, 27.6, 29.4, 29.24, 31.71, 31.33, 33.8, 34.05, 35.14, 31.64, 34.62, 38.67, 33.86, 33.74, 30.02, 29.86, 30.5, 29.94, 27.84, 32.6, 32.3, 33.91, 31.72, 30.41, 30.71, 29.77, 32.5, 29.94, 32.47, 27.25, 32.77, 28.16, 24.16, 33.86, 31.47, 30.28, 27.65, 34.38, 32.3, 33.2, 30.0, 29.96, 29.36, 31.01, 30.24, 26.33, 31.01, 25.81, 28.94, 29.77, 25.79]\n",
      "Precision: 58.91% \t Recall: 54.00% \t F1: 56.35%\n",
      "concat_fold_1.dev.predictions.0.step.100.csv\n"
     ]
    }
   ],
   "source": [
    "# Concat Predictions on the dev 1 fold 1.\n",
    "fold_files = [\"concat_fold_1.dev.predictions.0.step.{}.csv\".format(100 * i) for i in range(0, 132, 1)]\n",
    "fold_files.append(\"concat_fold_1.dev.predictions.0.full.csv\")\n",
    "fold_files.extend([\"concat_fold_1.dev.predictions.1.step.{}.csv\".format(100 * i) for i in range(1, 132, 1)])\n",
    "fold_files.append(\"concat_fold_1.dev.predictions.1.full.csv\")\n",
    "fold_0_path = \"~/concat_fold_1/\"\n",
    "fold_0_concat_file = \"./zero-shot-extraction/relation_splits/dev.0\"\n",
    "\n",
    "preprocess_the_prediction_files(fold_0_path, fold_files)\n",
    "fold_0_concat_scores, scores_list = eval_the_prediction_files(fold_files, fold_0_concat_file)\n",
    "concat_f1s = []\n",
    "for score in scores_list:\n",
    "    score_num = float(score.split()[-1][0:-1])\n",
    "    concat_f1s.append(score_num)\n",
    "\n",
    "fold_1_concat_f1s = np.array(concat_f1s)\n",
    "print(concat_f1s)\n",
    "fold_0_concat_f1_dict = {float(row.split()[-1][0:-1]): row for row in fold_0_concat_scores.keys()}\n",
    "max_f1_concat_0 = max(fold_0_concat_f1_dict.keys())\n",
    "print(fold_0_concat_f1_dict[max_f1_concat_0])\n",
    "print(fold_0_concat_scores[fold_0_concat_f1_dict[max_f1_concat_0]])"
   ]
  },
  {
   "cell_type": "code",
   "execution_count": 9,
   "metadata": {},
   "outputs": [
    {
     "name": "stdout",
     "output_type": "stream",
     "text": [
      "[58.06, 56.83, 54.56, 55.7, 57.31, 57.18, 57.93, 58.24, 56.74, 56.12, 57.99, 55.89, 56.32, 57.98, 56.59, 55.37, 58.61, 55.01, 53.41, 56.27, 53.1, 54.67, 52.79, 54.8, 54.44, 52.94, 55.71, 55.46, 48.49, 52.79, 57.23, 54.0, 55.47, 53.31, 53.83, 53.67, 55.88, 52.68, 55.22, 53.11, 56.1, 58.1, 54.79, 55.7, 55.16, 55.11, 55.09, 54.45, 52.29, 53.96, 54.64, 53.66, 53.77, 54.8, 51.01, 53.53, 54.25, 56.96, 52.56, 55.07, 55.19, 55.38, 54.11, 54.59, 54.51, 51.94, 55.12, 52.94, 54.89, 53.96, 53.8, 55.22, 52.72, 52.29, 53.77, 51.59, 54.73, 50.88, 52.4, 50.69, 50.17, 54.52, 53.04, 54.59, 54.22, 49.72, 51.28, 51.71, 52.0, 53.71, 51.35, 51.27, 50.44, 50.57, 55.02, 53.5, 52.6, 50.63, 50.93, 50.36, 55.49, 55.21, 54.74, 54.81, 51.32, 51.55, 52.24, 46.59, 47.94, 50.9, 46.41, 51.5, 46.09, 49.87, 52.41, 48.77, 49.25, 51.6, 49.85, 51.86, 51.66, 50.12, 50.14, 50.23, 52.66, 48.6, 51.75, 49.23, 51.16, 50.67, 49.71]\n"
     ]
    }
   ],
   "source": [
    "# Concat Predictions on the dev 1 fold 1.\n",
    "fold_files = [\"concat_fold_1.test.predictions.0.step.{}.csv\".format(100 * i) for i in range(1, 132, 1)]\n",
    "fold_0_path = \"~/concat_fold_1/\"\n",
    "fold_0_concat_file = \"./zero-shot-extraction/relation_splits/test.0\"\n",
    "\n",
    "preprocess_the_prediction_files(fold_0_path, fold_files)\n",
    "fold_0_concat_scores, scores_list = eval_the_prediction_files(fold_files, fold_0_concat_file)\n",
    "concat_f1s = []\n",
    "for score in scores_list:\n",
    "    score_num = float(score.split()[-1][0:-1])\n",
    "    concat_f1s.append(score_num)\n",
    "\n",
    "test_fold_1_concat_f1s = np.array(concat_f1s)\n",
    "print(concat_f1s)\n",
    "#fold_0_concat_f1_dict = {float(row.split()[-1][0:-1]): row for row in fold_0_concat_scores.keys()}\n",
    "#max_f1_concat_0 = max(fold_0_concat_f1_dict.keys())\n",
    "#print(fold_0_concat_f1_dict[max_f1_concat_0])\n",
    "#print(fold_0_concat_scores[fold_0_concat_f1_dict[max_f1_concat_0]])"
   ]
  },
  {
   "cell_type": "code",
   "execution_count": 12,
   "metadata": {},
   "outputs": [
    {
     "name": "stdout",
     "output_type": "stream",
     "text": [
      "{'Precision: 60.45% \\t Recall: 55.82% \\t F1: 58.04%': 'concat_fold_1.test.predictions.0.step.100.csv'}\n"
     ]
    }
   ],
   "source": [
    "# Concat Predictions on the dev 1 fold 1.\n",
    "fold_files = [\"concat_fold_1.test.predictions.0.step.100.csv\"]\n",
    "fold_0_path = \"~/concat_fold_1/\"\n",
    "fold_0_gold_file = \"./zero-shot-extraction/relation_splits/test.0\"\n",
    "\n",
    "preprocess_the_prediction_files(fold_0_path, fold_files)\n",
    "fold_0_concat_scores_test, scores_list = eval_the_prediction_files(fold_files, fold_0_gold_file)\n",
    "print(fold_0_concat_scores_test)"
   ]
  },
  {
   "cell_type": "code",
   "execution_count": 15,
   "metadata": {},
   "outputs": [
    {
     "data": {
      "image/png": "[encoded data removed]",
      "text/plain": [
       "<Figure size 432x288 with 1 Axes>"
      ]
     },
     "metadata": {
      "needs_background": "light"
     },
     "output_type": "display_data"
    }
   ],
   "source": [
    "import numpy as np\n",
    "import matplotlib.pyplot as plt\n",
    "\n",
    "x = [i+1 for i in range(len(test_fold_1_gold_f1s))]\n",
    "\n",
    "plt.plot(x, test_fold_1_gold_f1s, '--', label=\"Gold Questions\")\n",
    "plt.plot(x, test_fold_1_concat_f1s, '--', label=\"Concat Questions\")\n",
    "plt.legend()\n",
    "plt.ylabel('Test set F1 Score')\n",
    "plt.xlabel('x100 Training steps with batch size 64')\n",
    "plt.show()"
   ]
  },
  {
   "cell_type": "code",
   "execution_count": 3,
   "metadata": {},
   "outputs": [
    {
     "name": "stdout",
     "output_type": "stream",
     "text": [
      "[36.68]\n",
      "36.68\n"
     ]
    }
   ],
   "source": [
    "fold_files = [\"base.dev.predictions.0.step.0.csv\"]\n",
    "fold_0_path = \"~/mml_mml_tune/\"\n",
    "fold_0_gold_file = \"./zero-shot-extraction/relation_splits/dev.0\"\n",
    "\n",
    "preprocess_the_prediction_files(fold_0_path, fold_files)\n",
    "fold_0_gold_scores, scores_list = eval_the_prediction_files(fold_files, fold_0_gold_file)\n",
    "gold_f1s = []\n",
    "for score in scores_list:\n",
    "    gold_f1s.append(float(score.split()[-1][0:-1]))\n",
    "\n",
    "test_fold_1_gold_f1s = np.array(gold_f1s)\n",
    "print(gold_f1s)\n",
    "print(np.mean(gold_f1s))"
   ]
  },
  {
   "cell_type": "code",
   "execution_count": 10,
   "metadata": {},
   "outputs": [
    {
     "name": "stdout",
     "output_type": "stream",
     "text": [
      "[40.57, 41.51, 39.71, 40.82, 40.35, 39.41, 35.05, 36.31, 35.94]\n",
      "38.852222222222224\n"
     ]
    }
   ],
   "source": [
    "fold_files = [\"mml.dev.predictions.0.step.{}.csv\".format(100 * i) for i in range(1, 10, 1)]\n",
    "fold_0_path = \"~/mml_mml_tune/\"\n",
    "fold_0_gold_file = \"./zero-shot-extraction/relation_splits/dev.0\"\n",
    "\n",
    "preprocess_the_prediction_files(fold_0_path, fold_files)\n",
    "fold_0_gold_scores, scores_list = eval_the_prediction_files(fold_files, fold_0_gold_file)\n",
    "gold_f1s = []\n",
    "for score in scores_list:\n",
    "    gold_f1s.append(float(score.split()[-1][0:-1]))\n",
    "\n",
    "test_fold_1_gold_f1s = np.array(gold_f1s)\n",
    "print(gold_f1s)\n",
    "print(np.mean(gold_f1s))"
   ]
  },
  {
   "cell_type": "code",
   "execution_count": 9,
   "metadata": {},
   "outputs": [
    {
     "name": "stdout",
     "output_type": "stream",
     "text": [
      "[40.75]\n",
      "40.75\n"
     ]
    }
   ],
   "source": [
    "fold_files = [\"gold_base.dev.predictions.0.step.0.csv\"]\n",
    "fold_0_path = \"~/mml_mml_tune/\"\n",
    "fold_0_gold_file = \"./zero-shot-extraction/relation_splits/dev.0\"\n",
    "\n",
    "preprocess_the_prediction_files(fold_0_path, fold_files)\n",
    "fold_0_gold_scores, scores_list = eval_the_prediction_files(fold_files, fold_0_gold_file)\n",
    "gold_f1s = []\n",
    "for score in scores_list:\n",
    "    gold_f1s.append(float(score.split()[-1][0:-1]))\n",
    "\n",
    "test_fold_1_gold_f1s = np.array(gold_f1s)\n",
    "print(gold_f1s)\n",
    "print(np.mean(gold_f1s))"
   ]
  },
  {
   "cell_type": "code",
   "execution_count": 15,
   "metadata": {},
   "outputs": [
    {
     "name": "stdout",
     "output_type": "stream",
     "text": [
      "[47.83, 51.76, 51.14, 49.44, 51.94, 48.52, 47.26, 44.2, 43.8]\n",
      "48.43222222222223\n"
     ]
    }
   ],
   "source": [
    "fold_files = [\"pgg.dev.predictions.0.step.{}.csv\".format(100 * i) for i in range(1, 10, 1)]\n",
    "fold_0_path = \"~/pgg_tune/\"\n",
    "fold_0_gold_file = \"./zero-shot-extraction/relation_splits/dev.0\"\n",
    "\n",
    "preprocess_the_prediction_files(fold_0_path, fold_files)\n",
    "fold_0_gold_scores, scores_list = eval_the_prediction_files(fold_files, fold_0_gold_file)\n",
    "gold_f1s = []\n",
    "for score in scores_list:\n",
    "    gold_f1s.append(float(score.split()[-1][0:-1]))\n",
    "\n",
    "test_fold_1_gold_f1s = np.array(gold_f1s)\n",
    "print(gold_f1s)\n",
    "print(np.mean(gold_f1s))"
   ]
  },
  {
   "cell_type": "code",
   "execution_count": 18,
   "metadata": {},
   "outputs": [
    {
     "name": "stdout",
     "output_type": "stream",
     "text": [
      "[51.24, 52.28, 51.41, 47.33, 49.54, 48.46, 42.23, 50.59, 48.25, 53.54]\n",
      "49.487\n"
     ]
    }
   ],
   "source": [
    "fold_files = [\"gold_fold_1.dev.predictions.0.step.{}.csv\".format(100 * i) for i in range(1, 11, 1)]\n",
    "fold_0_path = \"~/gold_fold_1/\"\n",
    "fold_0_gold_file = \"./zero-shot-extraction/relation_splits/dev.0\"\n",
    "\n",
    "preprocess_the_prediction_files(fold_0_path, fold_files)\n",
    "fold_0_gold_scores, scores_list = eval_the_prediction_files(fold_files, fold_0_gold_file)\n",
    "gold_f1s = []\n",
    "for score in scores_list:\n",
    "    gold_f1s.append(float(score.split()[-1][0:-1]))\n",
    "\n",
    "test_fold_1_gold_f1s = np.array(gold_f1s)\n",
    "print(gold_f1s)\n",
    "print(np.mean(gold_f1s))"
   ]
  },
  {
   "cell_type": "code",
   "execution_count": 20,
   "metadata": {},
   "outputs": [
    {
     "name": "stdout",
     "output_type": "stream",
     "text": [
      "[50.33, 53.33, 45.76, 53.38]\n",
      "50.699999999999996\n"
     ]
    }
   ],
   "source": [
    "fold_files = [\"concat_fold_1.dev.predictions.0.step.{}.csv\".format(100 * i) for i in range(1, 5, 1)]\n",
    "fold_0_path = \"~/concat_fold_1/\"\n",
    "fold_0_gold_file = \"./zero-shot-extraction/relation_splits/dev.0\"\n",
    "\n",
    "preprocess_the_prediction_files(fold_0_path, fold_files)\n",
    "fold_0_gold_scores, scores_list = eval_the_prediction_files(fold_files, fold_0_gold_file)\n",
    "gold_f1s = []\n",
    "for score in scores_list:\n",
    "    gold_f1s.append(float(score.split()[-1][0:-1]))\n",
    "\n",
    "test_fold_1_gold_f1s = np.array(gold_f1s)\n",
    "print(gold_f1s)\n",
    "print(np.mean(gold_f1s))"
   ]
  },
  {
   "cell_type": "code",
   "execution_count": 30,
   "metadata": {},
   "outputs": [
    {
     "name": "stdout",
     "output_type": "stream",
     "text": [
      "[51.54, 50.92, 51.29, 50.76, 48.59, 49.5, 49.16, 51.48, 48.15, 50.82]\n",
      "50.221\n"
     ]
    }
   ],
   "source": [
    "fold_files = [\"mml_mml.dev.predictions.1.step.{}.csv\".format(100 * i) for i in range(1, 11, 1)]\n",
    "fold_0_path = \"~/mml_mml_tune/\"\n",
    "fold_0_gold_file = \"./zero-shot-extraction/relation_splits/dev.0\"\n",
    "\n",
    "preprocess_the_prediction_files(fold_0_path, fold_files)\n",
    "fold_0_gold_scores, scores_list = eval_the_prediction_files(fold_files, fold_0_gold_file)\n",
    "gold_f1s = []\n",
    "for score in scores_list:\n",
    "    gold_f1s.append(float(score.split()[-1][0:-1]))\n",
    "\n",
    "test_fold_1_gold_f1s = np.array(gold_f1s)\n",
    "print(gold_f1s)\n",
    "print(np.mean(gold_f1s))"
   ]
  },
  {
   "cell_type": "code",
   "execution_count": 27,
   "metadata": {},
   "outputs": [
    {
     "name": "stdout",
     "output_type": "stream",
     "text": [
      "[31.44]\n",
      "31.44\n"
     ]
    }
   ],
   "source": [
    "fold_files = [\"base.dev.predictions.0.step.0.csv\"]\n",
    "fold_0_path = \"~/mml_mml_tune_2/\"\n",
    "fold_0_gold_file = \"./zero-shot-extraction/relation_splits/dev.0\"\n",
    "\n",
    "preprocess_the_prediction_files(fold_0_path, fold_files)\n",
    "fold_0_gold_scores, scores_list = eval_the_prediction_files(fold_files, fold_0_gold_file)\n",
    "gold_f1s = []\n",
    "for score in scores_list:\n",
    "    gold_f1s.append(float(score.split()[-1][0:-1]))\n",
    "\n",
    "test_fold_1_gold_f1s = np.array(gold_f1s)\n",
    "print(gold_f1s)\n",
    "print(np.mean(gold_f1s))"
   ]
  },
  {
   "cell_type": "code",
   "execution_count": 36,
   "metadata": {},
   "outputs": [
    {
     "name": "stdout",
     "output_type": "stream",
     "text": [
      "[44.91, 47.32, 50.5, 49.34, 47.06, 45.44, 41.91]\n",
      "46.64\n"
     ]
    }
   ],
   "source": [
    "fold_files = [\"pgg_2.dev.predictions.0.step.{}.csv\".format(100 * i) for i in range(1, 8, 1)]\n",
    "fold_0_path = \"~/pgg_tune_2/\"\n",
    "fold_0_gold_file = \"./zero-shot-extraction/relation_splits/dev.0\"\n",
    "\n",
    "preprocess_the_prediction_files(fold_0_path, fold_files)\n",
    "fold_0_gold_scores, scores_list = eval_the_prediction_files(fold_files, fold_0_gold_file)\n",
    "gold_f1s = []\n",
    "for score in scores_list:\n",
    "    gold_f1s.append(float(score.split()[-1][0:-1]))\n",
    "\n",
    "test_fold_1_gold_f1s = np.array(gold_f1s)\n",
    "print(gold_f1s)\n",
    "print(np.mean(gold_f1s))"
   ]
  },
  {
   "cell_type": "code",
   "execution_count": 40,
   "metadata": {},
   "outputs": [
    {
     "name": "stdout",
     "output_type": "stream",
     "text": [
      "tensor([[0.8259],\n",
      "        [0.6112],\n",
      "        [0.2291],\n",
      "        [0.1827]])\n",
      "tensor([[0.8259, 0.8259, 0.8259, 0.8259, 0.8259, 0.8259, 0.8259, 0.8259],\n",
      "        [0.6112, 0.6112, 0.6112, 0.6112, 0.6112, 0.6112, 0.6112, 0.6112],\n",
      "        [0.2291, 0.2291, 0.2291, 0.2291, 0.2291, 0.2291, 0.2291, 0.2291],\n",
      "        [0.1827, 0.1827, 0.1827, 0.1827, 0.1827, 0.1827, 0.1827, 0.1827]])\n"
     ]
    }
   ],
   "source": [
    "import torch\n",
    "a = torch.rand(4,).view(-1, 1)\n",
    "print(a)\n",
    "\n",
    "b = a.repeat(1, 8)\n",
    "\n",
    "print(b)"
   ]
  },
  {
   "cell_type": "code",
   "execution_count": 4,
   "metadata": {},
   "outputs": [
    {
     "name": "stdout",
     "output_type": "stream",
     "text": [
      "[43.67, 42.0, 43.67, 49.0, 46.0, 45.33, 41.33, 45.33, 45.67, 43.67]\n",
      "44.56700000000001\n"
     ]
    }
   ],
   "source": [
    "fold_files = [\"mml_off_policy.dev.predictions.0.step.{}.csv\".format(100 * i) for i in range(1, 11, 1)]\n",
    "fold_0_path = \"./mml_tune/\"\n",
    "fold_0_gold_file = \"./zero-shot-extraction/relation_splits/dev.0\"\n",
    "\n",
    "preprocess_the_prediction_files(fold_0_path, fold_files)\n",
    "fold_0_gold_scores, scores_list = eval_the_prediction_files(fold_files, fold_0_gold_file)\n",
    "gold_f1s = []\n",
    "for score in scores_list:\n",
    "    gold_f1s.append(float(score.split()[-1][0:-1]))\n",
    "\n",
    "test_fold_1_gold_f1s = np.array(gold_f1s)\n",
    "print(gold_f1s)\n",
    "print(np.mean(gold_f1s))"
   ]
  },
  {
   "cell_type": "code",
   "execution_count": 6,
   "metadata": {},
   "outputs": [
    {
     "name": "stdout",
     "output_type": "stream",
     "text": [
      "[42.67, 41.33, 36.67, 34.67, 38.33, 37.0, 36.67, 35.67, 36.67, 35.33]\n",
      "37.501\n"
     ]
    }
   ],
   "source": [
    "fold_files = [\"mml_on_policy.dev.predictions.0.step.{}.csv\".format(100 * i) for i in range(1, 11, 1)]\n",
    "fold_0_path = \"./mml_tune_on_policy/\"\n",
    "fold_0_gold_file = \"./zero-shot-extraction/relation_splits/dev.0\"\n",
    "\n",
    "preprocess_the_prediction_files(fold_0_path, fold_files)\n",
    "fold_0_gold_scores, scores_list = eval_the_prediction_files(fold_files, fold_0_gold_file)\n",
    "gold_f1s = []\n",
    "for score in scores_list:\n",
    "    gold_f1s.append(float(score.split()[-1][0:-1]))\n",
    "\n",
    "test_fold_1_gold_f1s = np.array(gold_f1s)\n",
    "print(gold_f1s)\n",
    "print(np.mean(gold_f1s))"
   ]
  },
  {
   "cell_type": "code",
   "execution_count": 9,
   "metadata": {},
   "outputs": [
    {
     "name": "stdout",
     "output_type": "stream",
     "text": [
      "[59.67, 55.67, 60.0, 58.0, 61.0, 59.33, 60.0, 56.0, 57.33, 62.67]\n",
      "58.967\n"
     ]
    }
   ],
   "source": [
    "fold_files = [\"pgg.dev.predictions.0.step.{}.csv\".format(100 * i) for i in range(1, 11, 1)]\n",
    "fold_0_path = \"./pgg_tune/\"\n",
    "fold_0_gold_file = \"./zero-shot-extraction/relation_splits/dev.0\"\n",
    "\n",
    "preprocess_the_prediction_files(fold_0_path, fold_files)\n",
    "fold_0_gold_scores, scores_list = eval_the_prediction_files(fold_files, fold_0_gold_file)\n",
    "gold_f1s = []\n",
    "for score in scores_list:\n",
    "    gold_f1s.append(float(score.split()[-1][0:-1]))\n",
    "\n",
    "test_fold_1_gold_f1s = np.array(gold_f1s)\n",
    "print(gold_f1s)\n",
    "print(np.mean(gold_f1s))"
   ]
  },
  {
   "cell_type": "code",
   "execution_count": 13,
   "metadata": {},
   "outputs": [
    {
     "name": "stdout",
     "output_type": "stream",
     "text": [
      "[60.67, 55.67, 60.0, 62.33, 58.1, 61.67, 57.1, 61.33, 56.33, 58.0]\n",
      "59.120000000000005\n"
     ]
    }
   ],
   "source": [
    "fold_files = [\"answer_mml.dev.predictions.0.step.{}.csv\".format(100 * i) for i in range(1, 11, 1)]\n",
    "fold_0_path = \"./answer_mml_tune/\"\n",
    "fold_0_gold_file = \"./zero-shot-extraction/relation_splits/dev.0\"\n",
    "\n",
    "preprocess_the_prediction_files(fold_0_path, fold_files)\n",
    "fold_0_gold_scores, scores_list = eval_the_prediction_files(fold_files, fold_0_gold_file)\n",
    "gold_f1s = []\n",
    "for score in scores_list:\n",
    "    gold_f1s.append(float(score.split()[-1][0:-1]))\n",
    "\n",
    "test_fold_1_gold_f1s = np.array(gold_f1s)\n",
    "print(gold_f1s)\n",
    "print(np.mean(gold_f1s))"
   ]
  },
  {
   "cell_type": "code",
   "execution_count": 16,
   "metadata": {},
   "outputs": [
    {
     "name": "stdout",
     "output_type": "stream",
     "text": [
      "[59.67, 62.0, 60.33, 60.67, 59.67, 61.33, 61.33, 62.0, 62.33, 61.67]\n",
      "61.1\n"
     ]
    }
   ],
   "source": [
    "fold_files = [\"mml.dev.predictions.1.step.{}.csv\".format(100 * i) for i in range(1, 11, 1)]\n",
    "fold_0_path = \"./mml_tune/\"\n",
    "fold_0_gold_file = \"./zero-shot-extraction/relation_splits/dev.0\"\n",
    "\n",
    "preprocess_the_prediction_files(fold_0_path, fold_files)\n",
    "fold_0_gold_scores, scores_list = eval_the_prediction_files(fold_files, fold_0_gold_file)\n",
    "gold_f1s = []\n",
    "for score in scores_list:\n",
    "    gold_f1s.append(float(score.split()[-1][0:-1]))\n",
    "\n",
    "test_fold_1_gold_f1s = np.array(gold_f1s)\n",
    "print(gold_f1s)\n",
    "print(np.mean(gold_f1s))"
   ]
  },
  {
   "cell_type": "code",
   "execution_count": 19,
   "metadata": {},
   "outputs": [
    {
     "name": "stdout",
     "output_type": "stream",
     "text": [
      "[60.67, 57.67, 58.33, 59.67, 57.0, 56.0, 58.43, 60.67, 59.67, 60.0]\n",
      "58.811\n"
     ]
    }
   ],
   "source": [
    "fold_files = [\"pgg.dev.predictions.1.step.{}.csv\".format(100 * i) for i in range(1, 11, 1)]\n",
    "fold_0_path = \"./pgg_tune/\"\n",
    "fold_0_gold_file = \"./zero-shot-extraction/relation_splits/dev.0\"\n",
    "\n",
    "preprocess_the_prediction_files(fold_0_path, fold_files)\n",
    "fold_0_gold_scores, scores_list = eval_the_prediction_files(fold_files, fold_0_gold_file)\n",
    "gold_f1s = []\n",
    "for score in scores_list:\n",
    "    gold_f1s.append(float(score.split()[-1][0:-1]))\n",
    "\n",
    "test_fold_1_gold_f1s = np.array(gold_f1s)\n",
    "print(gold_f1s)\n",
    "print(np.mean(gold_f1s))"
   ]
  },
  {
   "cell_type": "code",
   "execution_count": null,
   "metadata": {},
   "outputs": [],
   "source": [
    "59.67, 55.67, 60.0, 58.0, 61.0, 59.33, 60.0, 56.0, 57.33, 62.67"
   ]
  }
 ],
 "metadata": {
  "kernelspec": {
   "display_name": "Python 3",
   "language": "python",
   "name": "python3"
  },
  "language_info": {
   "codemirror_mode": {
    "name": "ipython",
    "version": 3
   },
   "file_extension": ".py",
   "mimetype": "text/x-python",
   "name": "python",
   "nbconvert_exporter": "python",
   "pygments_lexer": "ipython3",
   "version": "3.8.10"
  }
 },
 "nbformat": 4,
 "nbformat_minor": 4
}

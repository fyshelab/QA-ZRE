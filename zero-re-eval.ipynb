{
 "cells": [
  {
   "cell_type": "code",
   "execution_count": 1,
   "metadata": {},
   "outputs": [],
   "source": [
    "import pandas as pd\n",
    "import os\n",
    "import codecs\n",
    "import re\n",
    "import string\n",
    "import sys\n",
    "import numpy as np\n",
    "PUNCTUATION = set(string.punctuation)\n",
    "\n",
    "def eval_zero_re(test_file, answer_file):\n",
    "    precision = read_results(test_file, answer_file)\n",
    "    return precision\n",
    "\n",
    "def read_results(test_set, answer_file):\n",
    "    with codecs.open(test_set, 'r', 'utf-8') as fin:\n",
    "        data = [line.strip().split('\\t') for line in fin]\n",
    "    metadata = [x[:4] for x in data]\n",
    "    gold = [x[4:] for x in data]\n",
    "\n",
    "    new_gold = []\n",
    "    new_metadata = []\n",
    "    for i in range(len(gold)):\n",
    "        if len(gold[i]) > 0:\n",
    "            new_gold.append(simplify(' and '.join(gold[i])))\n",
    "            new_metadata.append(metadata[i])\n",
    "\n",
    "    with codecs.open(answer_file, 'r', 'utf-8') as fin:\n",
    "        answers = [line.strip() for line in fin]\n",
    "\n",
    "    new_answers = [simplify(answer) for answer in answers[1:]]\n",
    "    \n",
    "    correct = 0.0\n",
    "    for i in range(len(new_gold)):\n",
    "        ref = ' '.join(new_gold[i])\n",
    "        candidate = ' '.join(new_answers[i])\n",
    "        if (ref == candidate):# or (ref in candidate) or (candidate in ref):\n",
    "            correct += 1\n",
    "        #else:\n",
    "        #    print(\"Ref: \" + ref)\n",
    "        #    print(\"Candidate: \" + candidate)\n",
    "        #    print(new_metadata[i])\n",
    "        #    print(\"\\nnext\\n\")\n",
    "    return correct / len(new_gold)\n",
    "\n",
    "def simplify(answer):\n",
    "    return [''.join(c for c in t if c not in PUNCTUATION) for t in answer.strip().lower().split()]"
   ]
  },
  {
   "cell_type": "code",
   "execution_count": 3,
   "metadata": {},
   "outputs": [],
   "source": [
    "def preprocess_the_prediction_files(main_path, list_of_files):\n",
    "    for file in list_of_files:\n",
    "        df = pd.read_csv(os.path.join(main_path, file), sep=',')\n",
    "        df[\"predictions_str\"].to_csv(os.path.join(\"/tmp/\", file), sep='\\t', header=True, index=False)\n",
    "\n",
    "def eval_the_prediction_files(list_of_files, gold_file):\n",
    "    scores = {}\n",
    "    scores_list = []\n",
    "    for file in list_of_files:\n",
    "        score = eval_zero_re(gold_file, os.path.join(\"/tmp/\", file))\n",
    "        scores[score] = file\n",
    "        scores_list.append(score)\n",
    "    \n",
    "    f1s = np.array(scores_list)\n",
    "    max_f1 = max(scores.keys())\n",
    "    return scores[max_f1],  max_f1 * 100, f1s * 100, scores"
   ]
  },
  {
   "cell_type": "code",
   "execution_count": 15,
   "metadata": {},
   "outputs": [
    {
     "name": "stdout",
     "output_type": "stream",
     "text": [
      "[40.72, 53.22, 51.25, 53.53, 50.4, 50.11, 51.81, 51.78, 55.67, 50.46, 46.48, 49.0, 42.7, 47.66, 47.41, 45.59, 44.3, 51.36, 46.56, 49.21, 46.6, 41.39, 48.52, 36.95, 52.47, 48.94, 44.86, 43.05, 47.75, 39.19, 37.89, 42.11, 44.36, 38.7, 45.51, 38.96, 47.53, 34.8, 38.53, 43.12, 39.3, 39.29, 38.85, 49.9, 46.15, 40.8, 42.6, 43.41, 40.08, 40.42, 38.91, 41.43, 44.53, 43.2, 36.28, 38.22, 37.09, 43.84, 36.05, 38.32, 38.98, 38.67, 37.25, 38.98, 34.48, 37.09, 37.42, 40.56, 39.68, 36.0, 42.0, 40.41, 42.75, 43.76, 40.96, 42.35, 41.94, 42.4, 40.82, 40.83, 40.0, 37.64, 39.59, 38.48, 40.32, 40.5, 35.51, 42.54, 40.57, 40.48, 37.38, 36.99, 33.85, 37.11, 35.04, 37.76, 30.43, 33.85, 33.56, 34.39, 35.95, 40.48, 36.14, 40.67, 36.96, 38.25, 39.01, 37.3, 37.95, 36.03, 39.53, 32.67, 33.06, 31.12, 36.15, 33.0, 31.42, 28.57, 33.33, 31.91, 33.95, 37.05, 30.84, 36.73, 37.55, 36.44, 36.4, 36.51, 38.33, 38.16, 38.49, 38.52, 40.0, 33.27, 36.09, 37.66, 38.08, 39.55, 36.55, 39.05, 35.93, 40.71, 43.41, 37.08, 38.79, 36.51, 37.94, 38.42, 34.12, 35.63, 40.08, 39.31, 35.71, 35.0, 36.59, 34.46, 37.8, 35.64, 34.35, 36.19, 36.66, 35.87, 38.25, 35.04, 36.51, 39.42, 34.44, 39.53, 36.36, 38.43, 40.16, 38.3, 34.93, 34.38, 33.05, 32.0, 35.06, 37.19, 34.27, 31.98, 31.46, 38.1, 40.24, 40.87, 39.53, 40.57, 38.51, 36.32, 35.67, 37.33, 37.67, 31.56, 35.48, 35.66, 35.05, 40.24, 42.07, 38.4, 36.29, 37.15, 36.77, 38.99, 38.62, 38.77, 37.7, 35.85, 34.68, 38.23, 34.98, 32.52, 29.26, 34.33, 36.82, 36.33, 36.6, 34.96, 33.19, 36.17, 36.08, 38.11, 35.77, 36.21, 34.17, 36.59, 37.96, 36.17, 35.77, 37.45, 37.45, 32.49, 32.67, 36.36, 36.4, 41.45, 43.43, 38.71, 38.24, 38.34, 37.28, 32.31, 38.02, 33.61, 33.48, 31.35, 39.01, 35.76, 34.51, 35.44, 32.5, 32.6, 32.44, 40.54, 37.64, 36.84, 33.71, 34.2, 29.2, 36.58, 35.34, 27.31, 28.44, 29.11, 30.37, 35.7, 32.53]\n",
      "Precision: 55.67% \t Recall: 55.67% \t F1: 55.67%\n",
      "gold_fold_1.dev.predictions.0.step.800.csv\n"
     ]
    }
   ],
   "source": [
    "# Gold Predictions on the dev 1 fold 1. Only on positive samples.\n",
    "fold_files = [\"gold_fold_1.dev.predictions.0.step.0.csv\"]\n",
    "fold_files += [\"gold_fold_1.dev.predictions.0.step.{}.csv\".format(100 * i) for i in range(1, 66, 1)]\n",
    "fold_files.append(\"gold_fold_1.dev.predictions.0.step.full.csv\")\n",
    "\n",
    "fold_0_path = \"~/t5-small-exps/nov-6/gold_fold_1/\"\n",
    "fold_0_gold_file = \"./zero-shot-extraction/relation_splits/dev.0\"\n",
    "\n",
    "preprocess_the_prediction_files(fold_0_path, fold_files)\n",
    "max_file,  max_f1, f1s, scores = eval_the_prediction_files(fold_files, fold_0_gold_file)\n",
    "print(max_file)\n",
    "print(max_f1)\n",
    "print(f1s)\n",
    "\n",
    "\n",
    "print(\"\\n\\nTest Predictions\\n\\n\")\n",
    "# Gold Predictions on the test 1 fold 1. Only on positive samples.\n",
    "fold_files = [\"gold_fold_1.test.predictions.0.step.900.csv\", \"gold_fold_1.test.predictions.0.step.0.csv\"]\n",
    "fold_0_path = \"~/t5-small-exps/nov-6/gold_fold_1/\"\n",
    "fold_0_gold_file = \"./zero-shot-extraction/relation_splits/test.0\"\n",
    "\n",
    "preprocess_the_prediction_files(fold_0_path, fold_files)\n",
    "max_file,  max_f1, f1s, scores = eval_the_prediction_files(fold_files, fold_0_gold_file)\n",
    "print(max_file)\n",
    "print(max_f1)\n",
    "print(f1s)"
   ]
  },
  {
   "cell_type": "code",
   "execution_count": 8,
   "metadata": {},
   "outputs": [
    {
     "name": "stdout",
     "output_type": "stream",
     "text": [
      "[66.27, 65.0, 64.69, 63.98, 62.7, 64.73, 60.6, 64.29, 62.74, 61.91, 61.73, 62.61, 63.93, 64.2, 59.19, 60.9, 62.88, 60.62, 61.5, 63.31, 60.96, 64.14, 54.75, 61.92, 63.44, 59.55, 61.01, 58.36, 59.05, 62.32, 60.26, 60.85, 60.97, 59.67, 61.54, 59.26, 59.74, 59.31, 58.67, 59.89, 61.08, 62.24, 62.69, 60.59, 60.63, 61.8, 60.0, 61.21, 61.08, 59.3, 60.15, 60.65, 59.9, 59.97, 60.17, 61.15, 62.54, 59.87, 59.89, 60.55, 58.18, 58.74, 60.31, 57.27, 58.18, 59.49, 58.48, 60.47, 59.68, 59.21, 60.09, 59.52, 58.91, 59.29, 59.68, 59.46, 59.1, 59.53, 59.39, 58.42, 59.42, 60.11, 57.86, 62.03, 61.18, 58.49, 59.25, 60.71, 60.96, 60.01, 59.24, 57.48, 59.29, 58.68, 61.11, 58.83, 58.56, 56.03, 59.44, 59.19, 60.45, 58.8, 59.31, 60.1, 58.14, 58.91, 59.47, 57.43, 57.46, 61.11, 58.17, 60.52, 57.35, 59.73, 58.33, 58.08, 58.8, 57.13, 55.37, 58.06, 58.78, 57.95, 57.88, 59.04, 58.9, 59.82, 60.83, 58.85, 59.88, 58.44, 57.95]\n"
     ]
    }
   ],
   "source": [
    "# Concat Predictions on the dev 1 fold 1. Only on positive samples.\n",
    "fold_files = [\"concat_fold_1.dev.predictions.0.step.0.csv\"]\n",
    "fold_files += [\"concat_fold_1.dev.predictions.0.step.{}.csv\".format(100 * i) for i in range(1, 66, 1)]\n",
    "fold_files.append(\"concat_fold_1.dev.predictions.0.step.full.csv\")\n",
    "\n",
    "fold_0_path = \"~/t5-small-exps/nov-6/concat_fold_1/\"\n",
    "fold_0_gold_file = \"./zero-shot-extraction/relation_splits/dev.0\"\n",
    "\n",
    "preprocess_the_prediction_files(fold_0_path, fold_files)\n",
    "max_file,  max_f1, f1s, scores = eval_the_prediction_files(fold_files, fold_0_gold_file)\n",
    "print(max_file)\n",
    "print(max_f1)\n",
    "print(f1s)\n",
    "\n",
    "print(\"\\n\\nTest Predictions\\n\\n\")\n",
    "\n",
    "# Concat Predictions on the test 1 fold 1. Only on positive samples.\n",
    "fold_files = [\"concat_fold_1.test.predictions.0.step.100.csv\", \"concat_fold_1.test.predictions.0.step.0.csv\"]\n",
    "fold_0_path = \"~/t5-small-exps/nov-6/concat_fold_1/\"\n",
    "fold_0_gold_file = \"./zero-shot-extraction/relation_splits/test.0\"\n",
    "\n",
    "preprocess_the_prediction_files(fold_0_path, fold_files)\n",
    "max_file,  max_f1, f1s, scores = eval_the_prediction_files(fold_files, fold_0_gold_file)\n",
    "print(max_file)\n",
    "print(max_f1)\n",
    "print(f1s)"
   ]
  },
  {
   "cell_type": "code",
   "execution_count": 14,
   "metadata": {},
   "outputs": [
    {
     "name": "stdout",
     "output_type": "stream",
     "text": [
      "{'Precision: 62.43% \\t Recall: 66.25% \\t F1: 64.28%': 'gold_fold_1.test.predictions.0.step.800.csv'}\n"
     ]
    }
   ],
   "source": [
    "# GOLD Predictions on the dev 1 fold 1.\n",
    "fold_files = [\"gold_fold_1.test.predictions.0.step.800.csv\"]\n",
    "fold_0_path = \"~/gold_fold_1/\"\n",
    "fold_0_gold_file = \"./zero-shot-extraction/relation_splits/test.0\"\n",
    "\n",
    "preprocess_the_prediction_files(fold_0_path, fold_files)\n",
    "fold_0_gold_scores_test, scores_list = eval_the_prediction_files(fold_files, fold_0_gold_file)\n",
    "print(fold_0_gold_scores_test)"
   ]
  }
 ],
 "metadata": {
  "kernelspec": {
   "display_name": "Python 3",
   "language": "python",
   "name": "python3"
  },
  "language_info": {
   "codemirror_mode": {
    "name": "ipython",
    "version": 3
   },
   "file_extension": ".py",
   "mimetype": "text/x-python",
   "name": "python",
   "nbconvert_exporter": "python",
   "pygments_lexer": "ipython3",
   "version": "3.8.10"
  }
 },
 "nbformat": 4,
 "nbformat_minor": 4
}
